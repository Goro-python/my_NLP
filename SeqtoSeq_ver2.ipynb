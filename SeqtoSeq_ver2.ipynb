{
  "nbformat": 4,
  "nbformat_minor": 0,
  "metadata": {
    "colab": {
      "name": "SeqtoSeq.ipynb",
      "provenance": [],
      "collapsed_sections": [],
      "authorship_tag": "ABX9TyNFWzWGy8r2ZpJP9v1wMs5k",
      "include_colab_link": true
    },
    "kernelspec": {
      "name": "python3",
      "display_name": "Python 3"
    }
  },
  "cells": [
    {
      "cell_type": "markdown",
      "metadata": {
        "id": "view-in-github",
        "colab_type": "text"
      },
      "source": [
        "<a href=\"https://colab.research.google.com/github/Goro-python/my_NLP/blob/master/SeqtoSeq_ver2.ipynb\" target=\"_parent\"><img src=\"https://colab.research.google.com/assets/colab-badge.svg\" alt=\"Open In Colab\"/></a>"
      ]
    },
    {
      "cell_type": "code",
      "metadata": {
        "id": "4Nr3y6NPrIgh"
      },
      "source": [
        "# coding \"a+b = c\"through seq to seq modelling "
      ],
      "execution_count": 109,
      "outputs": []
    },
    {
      "cell_type": "code",
      "metadata": {
        "id": "bsnEUfKPrQPn"
      },
      "source": [
        "# generate the data \n",
        "import numpy as np \n",
        "np.random.seed(1) \n",
        "def genTrainingData(maxDigit,sizeData): \n",
        "  X = []\n",
        "  Y = []\n",
        "  digits= list(\"123456789\")\n",
        "  maxLen = maxDigit+1 \n",
        "  for count in range(sizeData):\n",
        "    a = \"\"\n",
        "    b = \"\"\n",
        "    c = None \n",
        "    for i in range(maxDigit):\n",
        "      a+=np.random.choice(digits)\n",
        "      b+=np.random.choice(digits)\n",
        "    exp = a+\"+\"+b\n",
        "    #print(a)\n",
        "    #print(b)\n",
        "    c = str(int(a) + int(b))\n",
        "    #print(c)\n",
        "    X.append(exp[::-1])\n",
        "    Y.append((\" \"*(maxLen-len(c))+c)[::-1])\n",
        "  return [X,Y] "
      ],
      "execution_count": 110,
      "outputs": []
    },
    {
      "cell_type": "code",
      "metadata": {
        "id": "xdT0ss_Jth3A"
      },
      "source": [
        "# testcase\n",
        "Xtrain,Ytrain = genTrainingData(3,50000)\n",
        "XVal, YVal =    genTrainingData(3,4000)\n",
        "Xtest,Ytest =   genTrainingData(3,2000)"
      ],
      "execution_count": 111,
      "outputs": []
    },
    {
      "cell_type": "code",
      "metadata": {
        "colab": {
          "base_uri": "https://localhost:8080/"
        },
        "id": "saqC8iUMtu_0",
        "outputId": "ec8c670a-d17a-474b-bc1b-2a7182bf8981"
      },
      "source": [
        "# create the conversion data structure\n",
        "Xtrain[:10]"
      ],
      "execution_count": 112,
      "outputs": [
        {
          "output_type": "execute_result",
          "data": {
            "text/plain": [
              "['219+166',\n",
              " '357+638',\n",
              " '283+855',\n",
              " '281+778',\n",
              " '992+491',\n",
              " '464+278',\n",
              " '459+125',\n",
              " '831+853',\n",
              " '587+849',\n",
              " '394+176']"
            ]
          },
          "metadata": {
            "tags": []
          },
          "execution_count": 112
        }
      ]
    },
    {
      "cell_type": "code",
      "metadata": {
        "colab": {
          "base_uri": "https://localhost:8080/"
        },
        "id": "tiuoq5L0qQEH",
        "outputId": "042fe578-d06b-4a62-9f0d-66598b44692b"
      },
      "source": [
        "Ytrain[0:10]"
      ],
      "execution_count": 113,
      "outputs": [
        {
          "output_type": "execute_result",
          "data": {
            "text/plain": [
              "['3751',\n",
              " '9851',\n",
              " '049 ',\n",
              " '9501',\n",
              " '394 ',\n",
              " '6331',\n",
              " '5741',\n",
              " '694 ',\n",
              " '3371',\n",
              " '4611']"
            ]
          },
          "metadata": {
            "tags": []
          },
          "execution_count": 113
        }
      ]
    },
    {
      "cell_type": "code",
      "metadata": {
        "id": "Wl8CnkC4uXd7"
      },
      "source": [
        "from collections import defaultdict\n",
        "class conversionTable(object):\n",
        "  def __init__(self,maxLen):\n",
        "    self.digits = list(\"0123456789+ \")\n",
        "    self.indextoChar = defaultdict(str)\n",
        "    self.chartoIndex = defaultdict(int)\n",
        "    self.maxLen = maxLen \n",
        "  def convertChartoIndex(self):\n",
        "    count = 0 \n",
        "    for ch in self.digits:\n",
        "      self.chartoIndex[ch] = count\n",
        "      count+=1\n",
        "  def convertIndextoChar(self):\n",
        "    for key,val in self.chartoIndex.items():\n",
        "      self.indextoChar[val] = key\n",
        "\n",
        "  def convertExptoArr(self,exp):\n",
        "    X = np.zeros((len(exp), len(self.digits)))\n",
        "    for i,ch in enumerate(exp):\n",
        "      index = self.chartoIndex[ch]\n",
        "      X[i,index] = 1\n",
        "    return X\n",
        "\n",
        "  def convertArrtoExp(self,Arr):  # it is going to convert the 2D array in to an expression using argmax\n",
        "    exp = \"\"\n",
        "    maxArr = np.argmax(Arr,axis = 2)\n",
        "    maxArr=maxArr.flatten()\n",
        "    #print(maxArr)\n",
        "    for index in maxArr:      \n",
        "      exp+=self.indextoChar[index]\n",
        "    return exp[::-1]\n",
        "\n",
        "\n",
        "# tetscase:\n",
        "ct = conversionTable(4)\n",
        "ct.convertChartoIndex();\n",
        "ct.convertIndextoChar();\n",
        "\n",
        "arr = ct.convertExptoArr(\"732+321\")   \n",
        "  "
      ],
      "execution_count": 114,
      "outputs": []
    },
    {
      "cell_type": "code",
      "metadata": {
        "colab": {
          "base_uri": "https://localhost:8080/"
        },
        "id": "5IsU8IEzEuiV",
        "outputId": "c49803ff-0752-407a-db67-013a1c4ca1ac"
      },
      "source": [
        "arr"
      ],
      "execution_count": 115,
      "outputs": [
        {
          "output_type": "execute_result",
          "data": {
            "text/plain": [
              "array([[0., 0., 0., 0., 0., 0., 0., 1., 0., 0., 0., 0.],\n",
              "       [0., 0., 0., 1., 0., 0., 0., 0., 0., 0., 0., 0.],\n",
              "       [0., 0., 1., 0., 0., 0., 0., 0., 0., 0., 0., 0.],\n",
              "       [0., 0., 0., 0., 0., 0., 0., 0., 0., 0., 1., 0.],\n",
              "       [0., 0., 0., 1., 0., 0., 0., 0., 0., 0., 0., 0.],\n",
              "       [0., 0., 1., 0., 0., 0., 0., 0., 0., 0., 0., 0.],\n",
              "       [0., 1., 0., 0., 0., 0., 0., 0., 0., 0., 0., 0.]])"
            ]
          },
          "metadata": {
            "tags": []
          },
          "execution_count": 115
        }
      ]
    },
    {
      "cell_type": "code",
      "metadata": {
        "id": "OVS2X23N0wcR"
      },
      "source": [
        "# convert training data to number\n",
        "def convertDatatoNumeric(ct,trainingData):\n",
        "  X = []\n",
        "  for data in trainingData:\n",
        "    convert = list(ct.convertExptoArr(data))\n",
        "    X.append(convert)\n",
        "  return np.array(X)\n",
        "\n",
        "Xtr = convertDatatoNumeric(ct,Xtrain)\n",
        "Ytr = convertDatatoNumeric(ct,Ytrain)\n",
        "\n",
        "Xv = convertDatatoNumeric(ct,XVal)\n",
        "Yv = convertDatatoNumeric(ct,YVal)\n",
        "\n",
        "\n",
        "\n",
        "\n",
        "\n"
      ],
      "execution_count": 116,
      "outputs": []
    },
    {
      "cell_type": "code",
      "metadata": {
        "colab": {
          "base_uri": "https://localhost:8080/"
        },
        "id": "fsud4DJ-qWsa",
        "outputId": "fa9bc60e-b251-488b-b44b-23fe9930f190"
      },
      "source": [
        "print(Ytr[0:10])"
      ],
      "execution_count": 117,
      "outputs": [
        {
          "output_type": "stream",
          "text": [
            "[[[0. 0. 0. 1. 0. 0. 0. 0. 0. 0. 0. 0.]\n",
            "  [0. 0. 0. 0. 0. 0. 0. 1. 0. 0. 0. 0.]\n",
            "  [0. 0. 0. 0. 0. 1. 0. 0. 0. 0. 0. 0.]\n",
            "  [0. 1. 0. 0. 0. 0. 0. 0. 0. 0. 0. 0.]]\n",
            "\n",
            " [[0. 0. 0. 0. 0. 0. 0. 0. 0. 1. 0. 0.]\n",
            "  [0. 0. 0. 0. 0. 0. 0. 0. 1. 0. 0. 0.]\n",
            "  [0. 0. 0. 0. 0. 1. 0. 0. 0. 0. 0. 0.]\n",
            "  [0. 1. 0. 0. 0. 0. 0. 0. 0. 0. 0. 0.]]\n",
            "\n",
            " [[1. 0. 0. 0. 0. 0. 0. 0. 0. 0. 0. 0.]\n",
            "  [0. 0. 0. 0. 1. 0. 0. 0. 0. 0. 0. 0.]\n",
            "  [0. 0. 0. 0. 0. 0. 0. 0. 0. 1. 0. 0.]\n",
            "  [0. 0. 0. 0. 0. 0. 0. 0. 0. 0. 0. 1.]]\n",
            "\n",
            " [[0. 0. 0. 0. 0. 0. 0. 0. 0. 1. 0. 0.]\n",
            "  [0. 0. 0. 0. 0. 1. 0. 0. 0. 0. 0. 0.]\n",
            "  [1. 0. 0. 0. 0. 0. 0. 0. 0. 0. 0. 0.]\n",
            "  [0. 1. 0. 0. 0. 0. 0. 0. 0. 0. 0. 0.]]\n",
            "\n",
            " [[0. 0. 0. 1. 0. 0. 0. 0. 0. 0. 0. 0.]\n",
            "  [0. 0. 0. 0. 0. 0. 0. 0. 0. 1. 0. 0.]\n",
            "  [0. 0. 0. 0. 1. 0. 0. 0. 0. 0. 0. 0.]\n",
            "  [0. 0. 0. 0. 0. 0. 0. 0. 0. 0. 0. 1.]]\n",
            "\n",
            " [[0. 0. 0. 0. 0. 0. 1. 0. 0. 0. 0. 0.]\n",
            "  [0. 0. 0. 1. 0. 0. 0. 0. 0. 0. 0. 0.]\n",
            "  [0. 0. 0. 1. 0. 0. 0. 0. 0. 0. 0. 0.]\n",
            "  [0. 1. 0. 0. 0. 0. 0. 0. 0. 0. 0. 0.]]\n",
            "\n",
            " [[0. 0. 0. 0. 0. 1. 0. 0. 0. 0. 0. 0.]\n",
            "  [0. 0. 0. 0. 0. 0. 0. 1. 0. 0. 0. 0.]\n",
            "  [0. 0. 0. 0. 1. 0. 0. 0. 0. 0. 0. 0.]\n",
            "  [0. 1. 0. 0. 0. 0. 0. 0. 0. 0. 0. 0.]]\n",
            "\n",
            " [[0. 0. 0. 0. 0. 0. 1. 0. 0. 0. 0. 0.]\n",
            "  [0. 0. 0. 0. 0. 0. 0. 0. 0. 1. 0. 0.]\n",
            "  [0. 0. 0. 0. 1. 0. 0. 0. 0. 0. 0. 0.]\n",
            "  [0. 0. 0. 0. 0. 0. 0. 0. 0. 0. 0. 1.]]\n",
            "\n",
            " [[0. 0. 0. 1. 0. 0. 0. 0. 0. 0. 0. 0.]\n",
            "  [0. 0. 0. 1. 0. 0. 0. 0. 0. 0. 0. 0.]\n",
            "  [0. 0. 0. 0. 0. 0. 0. 1. 0. 0. 0. 0.]\n",
            "  [0. 1. 0. 0. 0. 0. 0. 0. 0. 0. 0. 0.]]\n",
            "\n",
            " [[0. 0. 0. 0. 1. 0. 0. 0. 0. 0. 0. 0.]\n",
            "  [0. 0. 0. 0. 0. 0. 1. 0. 0. 0. 0. 0.]\n",
            "  [0. 1. 0. 0. 0. 0. 0. 0. 0. 0. 0. 0.]\n",
            "  [0. 1. 0. 0. 0. 0. 0. 0. 0. 0. 0. 0.]]]\n"
          ],
          "name": "stdout"
        }
      ]
    },
    {
      "cell_type": "code",
      "metadata": {
        "id": "IhEms3c6qWis"
      },
      "source": [
        ""
      ],
      "execution_count": 117,
      "outputs": []
    },
    {
      "cell_type": "code",
      "metadata": {
        "colab": {
          "base_uri": "https://localhost:8080/"
        },
        "id": "TJSqXAqVMAv4",
        "outputId": "516defde-ef4a-4885-8de9-906c7a864c17"
      },
      "source": [
        "print(Xtrain[0],Ytrain[0])"
      ],
      "execution_count": 118,
      "outputs": [
        {
          "output_type": "stream",
          "text": [
            "219+166 3751\n"
          ],
          "name": "stdout"
        }
      ]
    },
    {
      "cell_type": "code",
      "metadata": {
        "colab": {
          "base_uri": "https://localhost:8080/"
        },
        "id": "HIM149FCkSBl",
        "outputId": "943581bf-696c-40ed-f4bf-3cf4d9a69bd5"
      },
      "source": [
        "print(Ytr[0])"
      ],
      "execution_count": 119,
      "outputs": [
        {
          "output_type": "stream",
          "text": [
            "[[0. 0. 0. 1. 0. 0. 0. 0. 0. 0. 0. 0.]\n",
            " [0. 0. 0. 0. 0. 0. 0. 1. 0. 0. 0. 0.]\n",
            " [0. 0. 0. 0. 0. 1. 0. 0. 0. 0. 0. 0.]\n",
            " [0. 1. 0. 0. 0. 0. 0. 0. 0. 0. 0. 0.]]\n"
          ],
          "name": "stdout"
        }
      ]
    },
    {
      "cell_type": "code",
      "metadata": {
        "colab": {
          "base_uri": "https://localhost:8080/"
        },
        "id": "PWHmy7_52EaB",
        "outputId": "85aa3f81-9c4d-4db8-c43b-4bee2c97f7c8"
      },
      "source": [
        "# build the model\n",
        "# Deep neural Nets # LSTM mode\n",
        "\n",
        "from tensorflow import keras\n",
        "from tensorflow.keras import layers\n",
        "\n",
        "num_layers = 1  # Try to add more LSTM layers!\n",
        "MaxLen = 7\n",
        "\n",
        "model = keras.Sequential()\n",
        "# \"Encode\" the input sequence using a LSTM, producing an output of size 128.\n",
        "# Note: In a situation where your input sequences have a variable length,\n",
        "# use input_shape=(None, num_feature).\n",
        "model.add(layers.LSTM(128, input_shape=(MaxLen, len(ct.digits))))\n",
        "# As the decoder RNN's input, repeatedly provide with the last output of\n",
        "# RNN for each time step. Repeat 'DIGITS + 1' times as that's the maximum\n",
        "# length of output, e.g., when DIGITS=3, max output is 999+999=1998.\n",
        "model.add(layers.RepeatVector(4))\n",
        "# The decoder RNN could be multiple layers stacked or a single layer.\n",
        "for _ in range(num_layers):\n",
        "    # By setting return_sequences to True, return not only the last output but\n",
        "    # all the outputs so far in the form of (num_samples, timesteps,\n",
        "    # output_dim). This is necessary as TimeDistributed in the below expects\n",
        "    # the first dimension to be the timesteps.\n",
        "    model.add(layers.LSTM(128, return_sequences=True))\n",
        "\n",
        "# Apply a dense layer to the every temporal slice of an input. For each of step\n",
        "# of the output sequence, decide which character should be chosen.\n",
        "model.add(layers.Dense(len(ct.digits), activation=\"softmax\"))\n",
        "model.compile(loss=\"categorical_crossentropy\", optimizer=\"adam\", metrics=[\"accuracy\"])\n",
        "model.summary()\n",
        "\n",
        "\n",
        "\n"
      ],
      "execution_count": 120,
      "outputs": [
        {
          "output_type": "stream",
          "text": [
            "Model: \"sequential_2\"\n",
            "_________________________________________________________________\n",
            "Layer (type)                 Output Shape              Param #   \n",
            "=================================================================\n",
            "lstm_4 (LSTM)                (None, 128)               72192     \n",
            "_________________________________________________________________\n",
            "repeat_vector_2 (RepeatVecto (None, 4, 128)            0         \n",
            "_________________________________________________________________\n",
            "lstm_5 (LSTM)                (None, 4, 128)            131584    \n",
            "_________________________________________________________________\n",
            "dense_2 (Dense)              (None, 4, 12)             1548      \n",
            "=================================================================\n",
            "Total params: 205,324\n",
            "Trainable params: 205,324\n",
            "Non-trainable params: 0\n",
            "_________________________________________________________________\n"
          ],
          "name": "stdout"
        }
      ]
    },
    {
      "cell_type": "code",
      "metadata": {
        "id": "EQHuYhQm-3RG"
      },
      "source": [
        " # training \n",
        "batch_size = 32\n",
        "# Train the model each generation and show predictions against the validation\n",
        "# dataset.\n",
        "shouldITrain = False\n",
        "if shouldITrain :\n",
        "  model.fit(Xtr,Ytr,batch_size=batch_size,epochs=5,validation_data = (Xv,Yv))"
      ],
      "execution_count": 121,
      "outputs": []
    },
    {
      "cell_type": "code",
      "metadata": {
        "id": "fto7ft7ccaEz"
      },
      "source": [
        "Xtst = convertDatatoNumeric(ct,Xtest)\n",
        "Ytst = convertDatatoNumeric(ct,Ytest)"
      ],
      "execution_count": 122,
      "outputs": []
    },
    {
      "cell_type": "code",
      "metadata": {
        "id": "S3St3AZed-aG"
      },
      "source": [
        "# checking Accuracy \n",
        "from sklearn.metrics import accuracy_score\n",
        "y_pred = model.predict(Xtst)\n"
      ],
      "execution_count": 123,
      "outputs": []
    },
    {
      "cell_type": "code",
      "metadata": {
        "colab": {
          "base_uri": "https://localhost:8080/"
        },
        "id": "USBB5MYQfqbm",
        "outputId": "7763fd7b-10db-473f-8b4b-017387dbd8f9"
      },
      "source": [
        "np.argmax(y_pred[0],axis=1)"
      ],
      "execution_count": 124,
      "outputs": [
        {
          "output_type": "execute_result",
          "data": {
            "text/plain": [
              "array([0, 0, 0, 0])"
            ]
          },
          "metadata": {
            "tags": []
          },
          "execution_count": 124
        }
      ]
    },
    {
      "cell_type": "code",
      "metadata": {
        "colab": {
          "base_uri": "https://localhost:8080/"
        },
        "id": "uAXhWk4tsEVV",
        "outputId": "ebdf2561-96c6-4cc8-c43e-861ba86d565e"
      },
      "source": [
        "y_pred[0]"
      ],
      "execution_count": 125,
      "outputs": [
        {
          "output_type": "execute_result",
          "data": {
            "text/plain": [
              "array([[0.08436313, 0.08365491, 0.08295435, 0.08326829, 0.0825467 ,\n",
              "        0.08431403, 0.08311092, 0.08367511, 0.08346473, 0.08285223,\n",
              "        0.0834671 , 0.0823285 ],\n",
              "       [0.08521505, 0.08387945, 0.08273798, 0.08326889, 0.08190183,\n",
              "        0.08494324, 0.08291934, 0.0839176 , 0.08360329, 0.08245141,\n",
              "        0.08363663, 0.0815253 ],\n",
              "       [0.08591323, 0.08403631, 0.08262551, 0.08330656, 0.08137444,\n",
              "        0.08532463, 0.08275345, 0.0841009 , 0.08374534, 0.08213378,\n",
              "        0.08381125, 0.08087464],\n",
              "       [0.08648118, 0.08414627, 0.08257827, 0.08336391, 0.08094446,\n",
              "        0.08553556, 0.08260872, 0.08424631, 0.08388598, 0.08189296,\n",
              "        0.08397336, 0.080343  ]], dtype=float32)"
            ]
          },
          "metadata": {
            "tags": []
          },
          "execution_count": 125
        }
      ]
    },
    {
      "cell_type": "code",
      "metadata": {
        "colab": {
          "base_uri": "https://localhost:8080/"
        },
        "id": "XRh0THM9uOXg",
        "outputId": "30d3353d-90e3-40b6-ddbe-936653115f2a"
      },
      "source": [
        "shouldITrain = True\n",
        "if shouldITrain :\n",
        "  model.fit(Xtr,Ytr,batch_size=batch_size,epochs=10,validation_data = (Xtst,Ytst))"
      ],
      "execution_count": 126,
      "outputs": [
        {
          "output_type": "stream",
          "text": [
            "Epoch 1/10\n",
            "1563/1563 [==============================] - 24s 15ms/step - loss: 1.4646 - accuracy: 0.4477 - val_loss: 0.7622 - val_accuracy: 0.7299\n",
            "Epoch 2/10\n",
            "1563/1563 [==============================] - 24s 15ms/step - loss: 0.3057 - accuracy: 0.9330 - val_loss: 0.0894 - val_accuracy: 0.9939\n",
            "Epoch 3/10\n",
            "1563/1563 [==============================] - 23s 15ms/step - loss: 0.0627 - accuracy: 0.9925 - val_loss: 0.0242 - val_accuracy: 0.9991\n",
            "Epoch 4/10\n",
            "1563/1563 [==============================] - 23s 15ms/step - loss: 0.0346 - accuracy: 0.9932 - val_loss: 0.0087 - val_accuracy: 1.0000\n",
            "Epoch 5/10\n",
            "1563/1563 [==============================] - 23s 15ms/step - loss: 0.0276 - accuracy: 0.9935 - val_loss: 0.2453 - val_accuracy: 0.9149\n",
            "Epoch 6/10\n",
            "1563/1563 [==============================] - 23s 15ms/step - loss: 0.0115 - accuracy: 0.9975 - val_loss: 0.0050 - val_accuracy: 0.9995\n",
            "Epoch 7/10\n",
            "1563/1563 [==============================] - 23s 15ms/step - loss: 0.0255 - accuracy: 0.9938 - val_loss: 0.0023 - val_accuracy: 1.0000\n",
            "Epoch 8/10\n",
            "1563/1563 [==============================] - 23s 15ms/step - loss: 0.0190 - accuracy: 0.9951 - val_loss: 0.0018 - val_accuracy: 1.0000\n",
            "Epoch 9/10\n",
            "1563/1563 [==============================] - 23s 15ms/step - loss: 0.0215 - accuracy: 0.9947 - val_loss: 0.0034 - val_accuracy: 0.9999\n",
            "Epoch 10/10\n",
            "1563/1563 [==============================] - 23s 15ms/step - loss: 0.0135 - accuracy: 0.9966 - val_loss: 0.0017 - val_accuracy: 1.0000\n"
          ],
          "name": "stdout"
        }
      ]
    },
    {
      "cell_type": "code",
      "metadata": {
        "id": "Kv6BifC5uZoo"
      },
      "source": [
        "# coverting \r\n",
        "#Xtst[0:1].shape\r\n"
      ],
      "execution_count": 127,
      "outputs": []
    },
    {
      "cell_type": "code",
      "metadata": {
        "colab": {
          "base_uri": "https://localhost:8080/"
        },
        "id": "8Y3Y3D2AE7D3",
        "outputId": "9d57889f-376d-4dbf-9950-cf1bf7dcfec3"
      },
      "source": [
        "testSize = 2000\r\n",
        "for i in range(5):\r\n",
        "  index = np.random.randint(0,testSize)\r\n",
        "  Y = model.predict(Xtst[index:index+1])\r\n",
        "  res = ct.convertArrtoExp(Y)\r\n",
        "  print(\"Input: \", Xtest[index][::-1])\r\n",
        "  print(\"True Output: \",Ytest[index][::-1])\r\n",
        "  print(\"ML output\",res)\r\n"
      ],
      "execution_count": 128,
      "outputs": [
        {
          "output_type": "stream",
          "text": [
            "Input:  398+772\n",
            "True Output:  1170\n",
            "ML output 1170\n",
            "Input:  264+225\n",
            "True Output:   489\n",
            "ML output  489\n",
            "Input:  615+212\n",
            "True Output:   827\n",
            "ML output  827\n",
            "Input:  278+914\n",
            "True Output:  1192\n",
            "ML output 1192\n",
            "Input:  178+861\n",
            "True Output:  1039\n",
            "ML output 1039\n"
          ],
          "name": "stdout"
        }
      ]
    },
    {
      "cell_type": "code",
      "metadata": {
        "colab": {
          "base_uri": "https://localhost:8080/"
        },
        "id": "rNfapyrUE_Tu",
        "outputId": "b0de9fab-c7d6-4c85-f575-53f4f2ac2b8d"
      },
      "source": [
        "a = input(\"Enter first digit number : \")\r\n",
        "b = input(\"Enter second digit number\")\r\n",
        "print(a,b)"
      ],
      "execution_count": 144,
      "outputs": [
        {
          "output_type": "stream",
          "text": [
            "Enter first digit number : 455\n",
            "Enter second digit number567\n",
            "455 567\n"
          ],
          "name": "stdout"
        }
      ]
    },
    {
      "cell_type": "code",
      "metadata": {
        "id": "8OOwPpqVFe2F"
      },
      "source": [
        "addExp = str(a)+\"+\"+str(b)\r\n",
        "addExp = addExp[::-1]\r\n",
        "X = ct.convertExptoArr(addExp)"
      ],
      "execution_count": 145,
      "outputs": []
    },
    {
      "cell_type": "code",
      "metadata": {
        "id": "5QDj2_WKFgNg"
      },
      "source": [
        "X = np.reshape(X,(1,7,12))"
      ],
      "execution_count": 146,
      "outputs": []
    },
    {
      "cell_type": "code",
      "metadata": {
        "colab": {
          "base_uri": "https://localhost:8080/"
        },
        "id": "OSQcJ61aImCB",
        "outputId": "c8a09656-6318-42f0-b804-06f59201d2ef"
      },
      "source": [
        "X.shape"
      ],
      "execution_count": 147,
      "outputs": [
        {
          "output_type": "execute_result",
          "data": {
            "text/plain": [
              "(1, 7, 12)"
            ]
          },
          "metadata": {
            "tags": []
          },
          "execution_count": 147
        }
      ]
    },
    {
      "cell_type": "code",
      "metadata": {
        "id": "p5uqJO4iIxuN"
      },
      "source": [
        "Y = model.predict(X)"
      ],
      "execution_count": 148,
      "outputs": []
    },
    {
      "cell_type": "code",
      "metadata": {
        "colab": {
          "base_uri": "https://localhost:8080/"
        },
        "id": "0VFNlEXcJEZn",
        "outputId": "143f6b07-ac40-4e93-bd08-d5b1e4646fa0"
      },
      "source": [
        "Y.shape"
      ],
      "execution_count": 149,
      "outputs": [
        {
          "output_type": "execute_result",
          "data": {
            "text/plain": [
              "(1, 4, 12)"
            ]
          },
          "metadata": {
            "tags": []
          },
          "execution_count": 149
        }
      ]
    },
    {
      "cell_type": "code",
      "metadata": {
        "id": "ci-eAl8xJLjq"
      },
      "source": [
        "res = ct.convertArrtoExp(Y)"
      ],
      "execution_count": 150,
      "outputs": []
    },
    {
      "cell_type": "code",
      "metadata": {
        "colab": {
          "base_uri": "https://localhost:8080/",
          "height": 35
        },
        "id": "9UHdOFdCJMm2",
        "outputId": "f538d09d-727d-449f-c86e-aa83fa5bedaa"
      },
      "source": [
        "res"
      ],
      "execution_count": 151,
      "outputs": [
        {
          "output_type": "execute_result",
          "data": {
            "application/vnd.google.colaboratory.intrinsic+json": {
              "type": "string"
            },
            "text/plain": [
              "'1022'"
            ]
          },
          "metadata": {
            "tags": []
          },
          "execution_count": 151
        }
      ]
    },
    {
      "cell_type": "code",
      "metadata": {
        "id": "rmtn8nYbJVhD"
      },
      "source": [
        ""
      ],
      "execution_count": 136,
      "outputs": []
    }
  ]
}