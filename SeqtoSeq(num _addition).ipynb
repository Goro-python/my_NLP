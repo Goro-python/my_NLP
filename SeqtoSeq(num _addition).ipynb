{
  "nbformat": 4,
  "nbformat_minor": 0,
  "metadata": {
    "colab": {
      "name": "SeqtoSeq.ipynb",
      "provenance": [],
      "collapsed_sections": [],
      "authorship_tag": "ABX9TyNnE6wNNDsGpiW2/2ky7J7K",
      "include_colab_link": true
    },
    "kernelspec": {
      "name": "python3",
      "display_name": "Python 3"
    }
  },
  "cells": [
    {
      "cell_type": "markdown",
      "metadata": {
        "id": "view-in-github",
        "colab_type": "text"
      },
      "source": [
        "<a href=\"https://colab.research.google.com/github/Goro-python/my_NLP/blob/master/SeqtoSeq(num%20_addition).ipynb\" target=\"_parent\"><img src=\"https://colab.research.google.com/assets/colab-badge.svg\" alt=\"Open In Colab\"/></a>"
      ]
    },
    {
      "cell_type": "code",
      "metadata": {
        "id": "4Nr3y6NPrIgh"
      },
      "source": [
        "# coding \"a+b = c\"through seq to seq modelling "
      ],
      "execution_count": 300,
      "outputs": []
    },
    {
      "cell_type": "code",
      "metadata": {
        "id": "bsnEUfKPrQPn"
      },
      "source": [
        "# generate the data \n",
        "import numpy as np \n",
        "def genTrainingData(maxDigit,sizeData): \n",
        "  X = []\n",
        "  Y = []\n",
        "  digits= list(\"123456789\")\n",
        "  maxLen = maxDigit+1 \n",
        "  for count in range(sizeData):\n",
        "    a = \"\"\n",
        "    b = \"\"\n",
        "    c = None \n",
        "    for i in range(maxDigit):\n",
        "      a+=np.random.choice(digits)\n",
        "      b+=np.random.choice(digits)\n",
        "    exp = a+\"+\"+b\n",
        "    #print(a)\n",
        "    #print(b)\n",
        "    c = str(int(a) + int(b))\n",
        "    #print(c)\n",
        "    X.append(exp[::-1])\n",
        "    Y.append((\" \"*(maxLen-len(c))+c)[::-1])\n",
        "  return [X,Y] "
      ],
      "execution_count": 301,
      "outputs": []
    },
    {
      "cell_type": "code",
      "metadata": {
        "id": "xdT0ss_Jth3A"
      },
      "source": [
        "# testcase\n",
        "Xtrain,Ytrain = genTrainingData(3,50000)\n",
        "XVal, YVal =    genTrainingData(3,10000)\n",
        "Xtest,Ytest =   genTrainingData(3,20000)"
      ],
      "execution_count": 302,
      "outputs": []
    },
    {
      "cell_type": "code",
      "metadata": {
        "colab": {
          "base_uri": "https://localhost:8080/"
        },
        "id": "saqC8iUMtu_0",
        "outputId": "77930d92-0c75-4120-ea6b-a5c44c3c1df1"
      },
      "source": [
        "# create the conversion data structure\n",
        "Xtrain[:10]"
      ],
      "execution_count": 303,
      "outputs": [
        {
          "output_type": "execute_result",
          "data": {
            "text/plain": [
              "['987+783',\n",
              " '215+496',\n",
              " '234+781',\n",
              " '355+638',\n",
              " '948+966',\n",
              " '994+271',\n",
              " '185+782',\n",
              " '578+532',\n",
              " '965+739',\n",
              " '213+423']"
            ]
          },
          "metadata": {
            "tags": []
          },
          "execution_count": 303
        }
      ]
    },
    {
      "cell_type": "code",
      "metadata": {
        "colab": {
          "base_uri": "https://localhost:8080/"
        },
        "id": "tiuoq5L0qQEH",
        "outputId": "c9fb5f22-f869-43d5-f4bb-51f6f08592fd"
      },
      "source": [
        "Ytrain[0:10]"
      ],
      "execution_count": 304,
      "outputs": [
        {
          "output_type": "execute_result",
          "data": {
            "text/plain": [
              "['6711',\n",
              " '6021',\n",
              " '916 ',\n",
              " '9831',\n",
              " '8151',\n",
              " '176 ',\n",
              " '868 ',\n",
              " '0111',\n",
              " '6051',\n",
              " '636 ']"
            ]
          },
          "metadata": {
            "tags": []
          },
          "execution_count": 304
        }
      ]
    },
    {
      "cell_type": "code",
      "metadata": {
        "id": "Wl8CnkC4uXd7"
      },
      "source": [
        "from collections import defaultdict\n",
        "class conversionTable(object):\n",
        "  def __init__(self,maxLen):\n",
        "    self.digits = list(\"0123456789+ \")\n",
        "    self.indextoChar = defaultdict(str)\n",
        "    self.chartoIndex = defaultdict(int)\n",
        "    self.maxLen = maxLen \n",
        "  def convertChartoIndex(self):\n",
        "    count = 0 \n",
        "    for ch in self.digits:\n",
        "      self.chartoIndex[ch] = count\n",
        "      count+=1\n",
        "  def convertIndextoChar(self):\n",
        "    for key,val in self.chartoIndex.items():\n",
        "      self.indextoChar[val] = key\n",
        "\n",
        "  def convertExptoArr(self,exp):\n",
        "    X = np.zeros((len(exp), len(self.digits)))\n",
        "    for i,ch in enumerate(exp):\n",
        "      index = self.chartoIndex[ch]\n",
        "      X[i,index] = 1\n",
        "    return X\n",
        "\n",
        "  def convertArrtoExp(self,Arr):  # it is going to convert the 2D array in to an expression using argmax\n",
        "    exp = \"\"\n",
        "    maxArr = np.argmax(Arr,axis = 2)\n",
        "    maxArr.flatten()\n",
        "    maxArr.shape\n",
        "    print(maxArr)\n",
        "    for index in maxArr:      \n",
        "      exp+=self.indextoChar[index]\n",
        "    return exp\n",
        "\n",
        "\n",
        "# tetscase:\n",
        "ct = conversionTable(4)\n",
        "ct.convertChartoIndex();\n",
        "ct.convertIndextoChar();\n",
        "\n",
        "arr = ct.convertExptoArr(\"732+321\")   \n",
        "  "
      ],
      "execution_count": 305,
      "outputs": []
    },
    {
      "cell_type": "code",
      "metadata": {
        "colab": {
          "base_uri": "https://localhost:8080/"
        },
        "id": "5IsU8IEzEuiV",
        "outputId": "50c85b54-081b-452c-c69c-8f15be5d15b8"
      },
      "source": [
        "arr"
      ],
      "execution_count": 306,
      "outputs": [
        {
          "output_type": "execute_result",
          "data": {
            "text/plain": [
              "array([[0., 0., 0., 0., 0., 0., 0., 1., 0., 0., 0., 0.],\n",
              "       [0., 0., 0., 1., 0., 0., 0., 0., 0., 0., 0., 0.],\n",
              "       [0., 0., 1., 0., 0., 0., 0., 0., 0., 0., 0., 0.],\n",
              "       [0., 0., 0., 0., 0., 0., 0., 0., 0., 0., 1., 0.],\n",
              "       [0., 0., 0., 1., 0., 0., 0., 0., 0., 0., 0., 0.],\n",
              "       [0., 0., 1., 0., 0., 0., 0., 0., 0., 0., 0., 0.],\n",
              "       [0., 1., 0., 0., 0., 0., 0., 0., 0., 0., 0., 0.]])"
            ]
          },
          "metadata": {
            "tags": []
          },
          "execution_count": 306
        }
      ]
    },
    {
      "cell_type": "code",
      "metadata": {
        "id": "OVS2X23N0wcR"
      },
      "source": [
        "# convert training data to number\n",
        "def convertDatatoNumeric(ct,trainingData):\n",
        "  X = []\n",
        "  for data in trainingData:\n",
        "    convert = list(ct.convertExptoArr(data))\n",
        "    X.append(convert)\n",
        "  return np.array(X)\n",
        "\n",
        "Xtr = convertDatatoNumeric(ct,Xtrain)\n",
        "Ytr = convertDatatoNumeric(ct,Ytrain)\n",
        "\n",
        "Xv = convertDatatoNumeric(ct,XVal)\n",
        "Yv = convertDatatoNumeric(ct,YVal)\n",
        "\n",
        "\n",
        "\n",
        "\n",
        "\n"
      ],
      "execution_count": 307,
      "outputs": []
    },
    {
      "cell_type": "code",
      "metadata": {
        "colab": {
          "base_uri": "https://localhost:8080/"
        },
        "id": "fsud4DJ-qWsa",
        "outputId": "eb4ecbbe-bf2e-42c6-9679-88432cd991fd"
      },
      "source": [
        "print(Ytr[0:10])"
      ],
      "execution_count": 308,
      "outputs": [
        {
          "output_type": "stream",
          "text": [
            "[[[0. 0. 0. 0. 0. 0. 1. 0. 0. 0. 0. 0.]\n",
            "  [0. 0. 0. 0. 0. 0. 0. 1. 0. 0. 0. 0.]\n",
            "  [0. 1. 0. 0. 0. 0. 0. 0. 0. 0. 0. 0.]\n",
            "  [0. 1. 0. 0. 0. 0. 0. 0. 0. 0. 0. 0.]]\n",
            "\n",
            " [[0. 0. 0. 0. 0. 0. 1. 0. 0. 0. 0. 0.]\n",
            "  [1. 0. 0. 0. 0. 0. 0. 0. 0. 0. 0. 0.]\n",
            "  [0. 0. 1. 0. 0. 0. 0. 0. 0. 0. 0. 0.]\n",
            "  [0. 1. 0. 0. 0. 0. 0. 0. 0. 0. 0. 0.]]\n",
            "\n",
            " [[0. 0. 0. 0. 0. 0. 0. 0. 0. 1. 0. 0.]\n",
            "  [0. 1. 0. 0. 0. 0. 0. 0. 0. 0. 0. 0.]\n",
            "  [0. 0. 0. 0. 0. 0. 1. 0. 0. 0. 0. 0.]\n",
            "  [0. 0. 0. 0. 0. 0. 0. 0. 0. 0. 0. 1.]]\n",
            "\n",
            " [[0. 0. 0. 0. 0. 0. 0. 0. 0. 1. 0. 0.]\n",
            "  [0. 0. 0. 0. 0. 0. 0. 0. 1. 0. 0. 0.]\n",
            "  [0. 0. 0. 1. 0. 0. 0. 0. 0. 0. 0. 0.]\n",
            "  [0. 1. 0. 0. 0. 0. 0. 0. 0. 0. 0. 0.]]\n",
            "\n",
            " [[0. 0. 0. 0. 0. 0. 0. 0. 1. 0. 0. 0.]\n",
            "  [0. 1. 0. 0. 0. 0. 0. 0. 0. 0. 0. 0.]\n",
            "  [0. 0. 0. 0. 0. 1. 0. 0. 0. 0. 0. 0.]\n",
            "  [0. 1. 0. 0. 0. 0. 0. 0. 0. 0. 0. 0.]]\n",
            "\n",
            " [[0. 1. 0. 0. 0. 0. 0. 0. 0. 0. 0. 0.]\n",
            "  [0. 0. 0. 0. 0. 0. 0. 1. 0. 0. 0. 0.]\n",
            "  [0. 0. 0. 0. 0. 0. 1. 0. 0. 0. 0. 0.]\n",
            "  [0. 0. 0. 0. 0. 0. 0. 0. 0. 0. 0. 1.]]\n",
            "\n",
            " [[0. 0. 0. 0. 0. 0. 0. 0. 1. 0. 0. 0.]\n",
            "  [0. 0. 0. 0. 0. 0. 1. 0. 0. 0. 0. 0.]\n",
            "  [0. 0. 0. 0. 0. 0. 0. 0. 1. 0. 0. 0.]\n",
            "  [0. 0. 0. 0. 0. 0. 0. 0. 0. 0. 0. 1.]]\n",
            "\n",
            " [[1. 0. 0. 0. 0. 0. 0. 0. 0. 0. 0. 0.]\n",
            "  [0. 1. 0. 0. 0. 0. 0. 0. 0. 0. 0. 0.]\n",
            "  [0. 1. 0. 0. 0. 0. 0. 0. 0. 0. 0. 0.]\n",
            "  [0. 1. 0. 0. 0. 0. 0. 0. 0. 0. 0. 0.]]\n",
            "\n",
            " [[0. 0. 0. 0. 0. 0. 1. 0. 0. 0. 0. 0.]\n",
            "  [1. 0. 0. 0. 0. 0. 0. 0. 0. 0. 0. 0.]\n",
            "  [0. 0. 0. 0. 0. 1. 0. 0. 0. 0. 0. 0.]\n",
            "  [0. 1. 0. 0. 0. 0. 0. 0. 0. 0. 0. 0.]]\n",
            "\n",
            " [[0. 0. 0. 0. 0. 0. 1. 0. 0. 0. 0. 0.]\n",
            "  [0. 0. 0. 1. 0. 0. 0. 0. 0. 0. 0. 0.]\n",
            "  [0. 0. 0. 0. 0. 0. 1. 0. 0. 0. 0. 0.]\n",
            "  [0. 0. 0. 0. 0. 0. 0. 0. 0. 0. 0. 1.]]]\n"
          ],
          "name": "stdout"
        }
      ]
    },
    {
      "cell_type": "code",
      "metadata": {
        "id": "IhEms3c6qWis"
      },
      "source": [
        ""
      ],
      "execution_count": 308,
      "outputs": []
    },
    {
      "cell_type": "code",
      "metadata": {
        "colab": {
          "base_uri": "https://localhost:8080/"
        },
        "id": "TJSqXAqVMAv4",
        "outputId": "a9185526-4d53-4645-c821-38e31b50e2f5"
      },
      "source": [
        "print(Xtrain[0],Ytrain[0])"
      ],
      "execution_count": 309,
      "outputs": [
        {
          "output_type": "stream",
          "text": [
            "987+783 6711\n"
          ],
          "name": "stdout"
        }
      ]
    },
    {
      "cell_type": "code",
      "metadata": {
        "colab": {
          "base_uri": "https://localhost:8080/"
        },
        "id": "HIM149FCkSBl",
        "outputId": "68ac00a2-ac77-4840-9a29-7df693e74885"
      },
      "source": [
        "print(Ytr[0])"
      ],
      "execution_count": 310,
      "outputs": [
        {
          "output_type": "stream",
          "text": [
            "[[0. 0. 0. 0. 0. 0. 1. 0. 0. 0. 0. 0.]\n",
            " [0. 0. 0. 0. 0. 0. 0. 1. 0. 0. 0. 0.]\n",
            " [0. 1. 0. 0. 0. 0. 0. 0. 0. 0. 0. 0.]\n",
            " [0. 1. 0. 0. 0. 0. 0. 0. 0. 0. 0. 0.]]\n"
          ],
          "name": "stdout"
        }
      ]
    },
    {
      "cell_type": "code",
      "metadata": {
        "colab": {
          "base_uri": "https://localhost:8080/"
        },
        "id": "PWHmy7_52EaB",
        "outputId": "782a4c38-fbed-40c6-db95-6bc9070b2aca"
      },
      "source": [
        "# build the model\n",
        "# Deep neural Nets # LSTM mode\n",
        "\n",
        "from tensorflow import keras\n",
        "from tensorflow.keras import layers\n",
        "\n",
        "num_layers = 1  # Try to add more LSTM layers!\n",
        "MaxLen = 7\n",
        "\n",
        "model = keras.Sequential()\n",
        "# \"Encode\" the input sequence using a LSTM, producing an output of size 128.\n",
        "# Note: In a situation where your input sequences have a variable length,\n",
        "# use input_shape=(None, num_feature).\n",
        "model.add(layers.LSTM(128, input_shape=(MaxLen, len(ct.digits))))\n",
        "# As the decoder RNN's input, repeatedly provide with the last output of\n",
        "# RNN for each time step. Repeat 'DIGITS + 1' times as that's the maximum\n",
        "# length of output, e.g., when DIGITS=3, max output is 999+999=1998.\n",
        "model.add(layers.RepeatVector(4))\n",
        "# The decoder RNN could be multiple layers stacked or a single layer.\n",
        "for _ in range(num_layers):\n",
        "    # By setting return_sequences to True, return not only the last output but\n",
        "    # all the outputs so far in the form of (num_samples, timesteps,\n",
        "    # output_dim). This is necessary as TimeDistributed in the below expects\n",
        "    # the first dimension to be the timesteps.\n",
        "    model.add(layers.LSTM(128, return_sequences=True))\n",
        "\n",
        "# Apply a dense layer to the every temporal slice of an input. For each of step\n",
        "# of the output sequence, decide which character should be chosen.\n",
        "model.add(layers.Dense(len(ct.digits), activation=\"softmax\"))\n",
        "model.compile(loss=\"categorical_crossentropy\", optimizer=\"adam\", metrics=[\"accuracy\"])\n",
        "model.summary()\n",
        "\n",
        "\n",
        "\n"
      ],
      "execution_count": 311,
      "outputs": [
        {
          "output_type": "stream",
          "text": [
            "Model: \"sequential_7\"\n",
            "_________________________________________________________________\n",
            "Layer (type)                 Output Shape              Param #   \n",
            "=================================================================\n",
            "lstm_14 (LSTM)               (None, 128)               72192     \n",
            "_________________________________________________________________\n",
            "repeat_vector_7 (RepeatVecto (None, 4, 128)            0         \n",
            "_________________________________________________________________\n",
            "lstm_15 (LSTM)               (None, 4, 128)            131584    \n",
            "_________________________________________________________________\n",
            "dense_7 (Dense)              (None, 4, 12)             1548      \n",
            "=================================================================\n",
            "Total params: 205,324\n",
            "Trainable params: 205,324\n",
            "Non-trainable params: 0\n",
            "_________________________________________________________________\n"
          ],
          "name": "stdout"
        }
      ]
    },
    {
      "cell_type": "code",
      "metadata": {
        "id": "EQHuYhQm-3RG"
      },
      "source": [
        " # training \n",
        "batch_size = 32\n",
        "# Train the model each generation and show predictions against the validation\n",
        "# dataset.\n",
        "shouldITrain = False\n",
        "if shouldITrain :\n",
        "  model.fit(Xtr,Ytr,batch_size=batch_size,epochs=5,validation_data = (Xv,Yv))"
      ],
      "execution_count": 312,
      "outputs": []
    },
    {
      "cell_type": "code",
      "metadata": {
        "id": "fto7ft7ccaEz"
      },
      "source": [
        "Xtst = convertDatatoNumeric(ct,Xtest)\n",
        "Ytst = convertDatatoNumeric(ct,Ytest)"
      ],
      "execution_count": 316,
      "outputs": []
    },
    {
      "cell_type": "code",
      "metadata": {
        "id": "S3St3AZed-aG"
      },
      "source": [
        "# checking Accuracy \n",
        "from sklearn.metrics import accuracy_score\n",
        "y_pred = model.predict(Xtst)\n"
      ],
      "execution_count": 330,
      "outputs": []
    },
    {
      "cell_type": "code",
      "metadata": {
        "colab": {
          "base_uri": "https://localhost:8080/"
        },
        "id": "USBB5MYQfqbm",
        "outputId": "f9c93a33-1c2e-4a0b-993f-089dfaba53ec"
      },
      "source": [
        "np.argmax(y_pred[0],axis=1)"
      ],
      "execution_count": 336,
      "outputs": [
        {
          "output_type": "execute_result",
          "data": {
            "text/plain": [
              "array([0, 0, 0, 0])"
            ]
          },
          "metadata": {
            "tags": []
          },
          "execution_count": 336
        }
      ]
    },
    {
      "cell_type": "code",
      "metadata": {
        "colab": {
          "base_uri": "https://localhost:8080/"
        },
        "id": "uAXhWk4tsEVV",
        "outputId": "84828939-4a0b-41e2-917c-61ec8db88e16"
      },
      "source": [
        "y_pred[0]"
      ],
      "execution_count": 337,
      "outputs": [
        {
          "output_type": "execute_result",
          "data": {
            "text/plain": [
              "array([[0.08447406, 0.08241478, 0.0825338 , 0.08400154, 0.08324261,\n",
              "        0.08321586, 0.08270966, 0.08366222, 0.08376974, 0.08286   ,\n",
              "        0.08391367, 0.08320203],\n",
              "       [0.08520051, 0.08176292, 0.08196943, 0.08443952, 0.08315802,\n",
              "        0.0831511 , 0.08229145, 0.08386449, 0.08419681, 0.08242723,\n",
              "        0.08435916, 0.08317935],\n",
              "       [0.08566226, 0.08129556, 0.0815727 , 0.0847298 , 0.08308662,\n",
              "        0.08312496, 0.08200157, 0.08397582, 0.08459672, 0.08205356,\n",
              "        0.0846981 , 0.0832023 ],\n",
              "       [0.08595607, 0.08095638, 0.0812952 , 0.08492421, 0.08302917,\n",
              "        0.08312519, 0.08179447, 0.08402476, 0.08495897, 0.08174149,\n",
              "        0.08495529, 0.08323877]], dtype=float32)"
            ]
          },
          "metadata": {
            "tags": []
          },
          "execution_count": 337
        }
      ]
    },
    {
      "cell_type": "code",
      "metadata": {
        "colab": {
          "base_uri": "https://localhost:8080/"
        },
        "id": "XRh0THM9uOXg",
        "outputId": "c816f846-3740-4727-8e1f-22fe7b191818"
      },
      "source": [
        "shouldITrain = True\n",
        "if shouldITrain :\n",
        "  model.fit(Xtr,Ytr,batch_size=batch_size,epochs=2,validation_data = (Xtst,Ytst))"
      ],
      "execution_count": 340,
      "outputs": [
        {
          "output_type": "stream",
          "text": [
            "Epoch 1/2\n",
            "1563/1563 [==============================] - 25s 16ms/step - loss: 0.0024 - accuracy: 0.9999 - val_loss: 0.0013 - val_accuracy: 1.0000\n",
            "Epoch 2/2\n",
            "1563/1563 [==============================] - 25s 16ms/step - loss: 0.0238 - accuracy: 0.9942 - val_loss: 0.0024 - val_accuracy: 1.0000\n"
          ],
          "name": "stdout"
        }
      ]
    },
    {
      "cell_type": "code",
      "metadata": {
        "id": "Kv6BifC5uZoo"
      },
      "source": [
        ""
      ],
      "execution_count": null,
      "outputs": []
    }
  ]
}