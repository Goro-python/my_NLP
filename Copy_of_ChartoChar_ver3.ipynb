{
  "nbformat": 4,
  "nbformat_minor": 0,
  "metadata": {
    "accelerator": "GPU",
    "colab": {
      "name": "Copy of ChartoChar.ipynb",
      "provenance": [],
      "collapsed_sections": [],
      "authorship_tag": "ABX9TyPw03ExhOYEIOdtBluZn25l",
      "include_colab_link": true
    },
    "kernelspec": {
      "display_name": "Python 3",
      "name": "python3"
    }
  },
  "cells": [
    {
      "cell_type": "markdown",
      "metadata": {
        "id": "view-in-github",
        "colab_type": "text"
      },
      "source": [
        "<a href=\"https://colab.research.google.com/github/Goro-python/my_NLP/blob/next_dev/Copy_of_ChartoChar_ver3.ipynb\" target=\"_parent\"><img src=\"https://colab.research.google.com/assets/colab-badge.svg\" alt=\"Open In Colab\"/></a>"
      ]
    },
    {
      "cell_type": "code",
      "metadata": {
        "id": "CqPsNAZCOxA6"
      },
      "source": [
        "# seq to seq model :  English to French Character\r\n"
      ],
      "execution_count": 1,
      "outputs": []
    },
    {
      "cell_type": "code",
      "metadata": {
        "id": "jnCd2DPjO1Bt"
      },
      "source": [
        "# !!curl -O http://www.manythings.org/anki/fra-eng.zip\r\n",
        "# !!unzip fra-eng.zip"
      ],
      "execution_count": 2,
      "outputs": []
    },
    {
      "cell_type": "code",
      "metadata": {
        "id": "MFSN5q0hO3KO"
      },
      "source": [
        "with open(\"fra.txt\", \"r\", encoding=\"utf-8\") as f:\r\n",
        "  lines = f.read().split(\"\\n\")\r\n",
        "DataSize = 10000"
      ],
      "execution_count": 3,
      "outputs": []
    },
    {
      "cell_type": "code",
      "metadata": {
        "colab": {
          "base_uri": "https://localhost:8080/"
        },
        "id": "mFI1Is9cT2gj",
        "outputId": "bd096aba-789f-4338-d0e9-0c8d2b88d9af"
      },
      "source": [
        "for line in lines[0:2]:\r\n",
        "  print(line)\r\n",
        "  "
      ],
      "execution_count": 4,
      "outputs": [
        {
          "output_type": "stream",
          "text": [
            "Go.\tVa !\tCC-BY 2.0 (France) Attribution: tatoeba.org #2877272 (CM) & #1158250 (Wittydev)\n",
            "Hi.\tSalut !\tCC-BY 2.0 (France) Attribution: tatoeba.org #538123 (CM) & #509819 (Aiji)\n"
          ],
          "name": "stdout"
        }
      ]
    },
    {
      "cell_type": "code",
      "metadata": {
        "colab": {
          "base_uri": "https://localhost:8080/",
          "height": 86
        },
        "id": "yHwGRv_OO7c0",
        "outputId": "a4455935-c5c9-4f44-8515-e63b02120d91"
      },
      "source": [
        "import numpy as np\r\n",
        "np.random.seed(1)\r\n",
        "batch_size = 64 \r\n",
        "epochs = 100  \r\n",
        "latent_dim = 256  \r\n",
        "trainSize =  10000\r\n",
        "valSize   =  1000\r\n",
        "testSize  =  1000\r\n",
        "\r\n",
        "engSent = []\r\n",
        "frenSent = []\r\n",
        "\r\n",
        "for line in lines[:DataSize+1]:\r\n",
        "  english,french,_= line.split(\"\\t\")\r\n",
        "  engSent.append(english)\r\n",
        "  frenSent.append(\"\\t\" + french + \"\\n\")   # extra appended\r\n",
        "\r\n",
        "print(\"Number of English Sentence: \",len(engSent))\r\n",
        "print(\"Number of French Senttence: \",len(frenSent))\r\n",
        "\r\n",
        "trainIndexes = np.random.randint(DataSize, size=(trainSize))\r\n",
        "valIndexes =   np.random.randint(DataSize, size=(valSize))\r\n",
        "testIndexes =    np.random.randint(DataSize, size=(testSize))\r\n",
        "#index = np.random.randint(0,trainSamples)\r\n",
        "\r\n",
        "def setData(indexes):\r\n",
        "  X = []\r\n",
        "  Y = []\r\n",
        "  for ind in indexes:\r\n",
        "    X.append(engSent[ind])\r\n",
        "    Y.append(frenSent[ind])\r\n",
        "  return [X,Y]\r\n",
        "\r\n",
        "Xtrain, Ytrain =  setData(trainIndexes)\r\n",
        "Xval,Yval =       setData(valIndexes)      \r\n",
        "Xtest, Ytest =    setData(testIndexes)\r\n",
        "\r\n",
        "\r\n",
        "ind = np.random.randint(trainSize-1)\r\n",
        "print(ind)\r\n",
        "Xtrain[ind]\r\n",
        "Ytrain[ind]\r\n"
      ],
      "execution_count": 5,
      "outputs": [
        {
          "output_type": "stream",
          "text": [
            "Number of English Sentence:  10001\n",
            "Number of French Senttence:  10001\n",
            "8267\n"
          ],
          "name": "stdout"
        },
        {
          "output_type": "execute_result",
          "data": {
            "application/vnd.google.colaboratory.intrinsic+json": {
              "type": "string"
            },
            "text/plain": [
              "'\\tAttends un peu.\\n'"
            ]
          },
          "metadata": {
            "tags": []
          },
          "execution_count": 5
        }
      ]
    },
    {
      "cell_type": "code",
      "metadata": {
        "id": "ZB0UbBvegaTn"
      },
      "source": [
        ""
      ],
      "execution_count": 5,
      "outputs": []
    },
    {
      "cell_type": "code",
      "metadata": {
        "colab": {
          "base_uri": "https://localhost:8080/",
          "height": 35
        },
        "id": "n4WiRertg2Fy",
        "outputId": "0b089eb5-943e-4acc-a8ec-84d77c751a12"
      },
      "source": [
        "\"\\t\" + frenSent[1] + \"\\n\""
      ],
      "execution_count": 6,
      "outputs": [
        {
          "output_type": "execute_result",
          "data": {
            "application/vnd.google.colaboratory.intrinsic+json": {
              "type": "string"
            },
            "text/plain": [
              "'\\t\\tSalut !\\n\\n'"
            ]
          },
          "metadata": {
            "tags": []
          },
          "execution_count": 6
        }
      ]
    },
    {
      "cell_type": "code",
      "metadata": {
        "id": "H2a2QOOWPWaf"
      },
      "source": [
        "from collections import defaultdict\r\n",
        "class convTable(object):\r\n",
        "  def __init__(self,engSent,frenSent):\r\n",
        "    self.engSent = engSent\r\n",
        "    self.frenSent = frenSent\r\n",
        "    self.engDict   =   defaultdict(int) \r\n",
        "    self.engRevDict =  defaultdict(str)\r\n",
        "    self.frenDict  =   defaultdict(int)\r\n",
        "    self.frenRevDict = defaultdict(str)\r\n",
        "    self.maxEngSent =  0\r\n",
        "    self.maxFrenSent = 0\r\n",
        "\r\n",
        "  def createEngDict(self):\r\n",
        "    _dict = set();\r\n",
        "    for sent in self.engSent:\r\n",
        "      for ch in sent:\r\n",
        "        _dict.add(ch)\r\n",
        "    _dict = sorted(list(_dict))\r\n",
        "    print(_dict)\r\n",
        "    for i,ch in enumerate(_dict):\r\n",
        "      self.engDict[ch] = i\r\n",
        "      self.engRevDict[i] = ch\r\n",
        "    print(self.engDict)\r\n",
        "\r\n",
        "  def createFrenDict(self):\r\n",
        "    _dict = set();\r\n",
        "    for sent in self.frenSent:\r\n",
        "      for ch in sent:\r\n",
        "        _dict.add(ch)\r\n",
        "    _dict = sorted(list(_dict))\r\n",
        "    for i,ch in enumerate(_dict):\r\n",
        "      self.frenDict[ch] = i\r\n",
        "      self.frenRevDict[i] = ch\r\n",
        "\r\n",
        "  def findMaxEngLength(self):\r\n",
        "    for sent in self.engSent:\r\n",
        "      self.maxEngSent= max(self.maxEngSent,len(sent)) \r\n",
        "\r\n",
        "  def findMaxFrenLength(self):\r\n",
        "    self.maxFrenSent = max(len(sent) for  sent in self.frenSent)\r\n",
        "\r\n",
        "      \r\n",
        "\r\n",
        "  def convertExptoArr(self,sentence,langFlag):\r\n",
        "      # langFlag = 1 for English, 0 for french\r\n",
        "      if langFlag:\r\n",
        "        X = np.zeros((self.maxEngSent,len(self.engDict)))\r\n",
        "        for i,ch in enumerate(sentence):\r\n",
        "          X[i,self.engDict[ch]] = 1\r\n",
        "        X[i+1:,self.engDict[\" \"]] = 1\r\n",
        "        return X\r\n",
        "      else:\r\n",
        "        X = np.zeros((self.maxFrenSent,len(self.frenDict)))\r\n",
        "        for i,ch in enumerate(sentence):\r\n",
        "          X[i,self.frenDict[ch]] = 1\r\n",
        "        X[i+1:,self.frenDict[\" \"]] = 1\r\n",
        "        return X\r\n",
        "\r\n",
        "\r\n",
        "  def convertArrtoExp(self,Arr,langFlag):\r\n",
        "    exp = \"\"\r\n",
        "    if langFlag:\r\n",
        "      maxArr = np.argmax(Arr,axis = 1)\r\n",
        "      maxArr=maxArr.flatten()\r\n",
        "      for index in maxArr:      \r\n",
        "        exp+=self.engRevDict[index]\r\n",
        "      return exp\r\n",
        "    else:\r\n",
        "      maxArr = np.argmax(Arr,axis = 1)\r\n",
        "      maxArr=maxArr.flatten()\r\n",
        "      for index in maxArr:      \r\n",
        "        exp+=self.frenRevDict[index]\r\n",
        "      return exp\r\n",
        "\r\n",
        "\r\n",
        "\r\n",
        "\r\n",
        "\r\n",
        "\r\n",
        "\r\n",
        "    \r\n"
      ],
      "execution_count": 7,
      "outputs": []
    },
    {
      "cell_type": "code",
      "metadata": {
        "colab": {
          "base_uri": "https://localhost:8080/"
        },
        "id": "lcbrHbRKPwZc",
        "outputId": "8ece68d6-911c-41d9-fc27-c623add68659"
      },
      "source": [
        "ct = convTable(engSent,frenSent)\r\n",
        "ct.createEngDict()\r\n",
        "ct.createFrenDict()\r\n",
        "ct.findMaxEngLength()\r\n",
        "ct.findMaxFrenLength()"
      ],
      "execution_count": 8,
      "outputs": [
        {
          "output_type": "stream",
          "text": [
            "[' ', '!', '$', '%', '&', \"'\", ',', '-', '.', '0', '1', '2', '3', '5', '6', '7', '8', '9', ':', '?', 'A', 'B', 'C', 'D', 'E', 'F', 'G', 'H', 'I', 'J', 'K', 'L', 'M', 'N', 'O', 'P', 'Q', 'R', 'S', 'T', 'U', 'V', 'W', 'Y', 'a', 'b', 'c', 'd', 'e', 'f', 'g', 'h', 'i', 'j', 'k', 'l', 'm', 'n', 'o', 'p', 'q', 'r', 's', 't', 'u', 'v', 'w', 'x', 'y', 'z', 'é']\n",
            "defaultdict(<class 'int'>, {' ': 0, '!': 1, '$': 2, '%': 3, '&': 4, \"'\": 5, ',': 6, '-': 7, '.': 8, '0': 9, '1': 10, '2': 11, '3': 12, '5': 13, '6': 14, '7': 15, '8': 16, '9': 17, ':': 18, '?': 19, 'A': 20, 'B': 21, 'C': 22, 'D': 23, 'E': 24, 'F': 25, 'G': 26, 'H': 27, 'I': 28, 'J': 29, 'K': 30, 'L': 31, 'M': 32, 'N': 33, 'O': 34, 'P': 35, 'Q': 36, 'R': 37, 'S': 38, 'T': 39, 'U': 40, 'V': 41, 'W': 42, 'Y': 43, 'a': 44, 'b': 45, 'c': 46, 'd': 47, 'e': 48, 'f': 49, 'g': 50, 'h': 51, 'i': 52, 'j': 53, 'k': 54, 'l': 55, 'm': 56, 'n': 57, 'o': 58, 'p': 59, 'q': 60, 'r': 61, 's': 62, 't': 63, 'u': 64, 'v': 65, 'w': 66, 'x': 67, 'y': 68, 'z': 69, 'é': 70})\n"
          ],
          "name": "stdout"
        }
      ]
    },
    {
      "cell_type": "code",
      "metadata": {
        "colab": {
          "base_uri": "https://localhost:8080/"
        },
        "id": "DGd2ZWoNfmgW",
        "outputId": "b6ca796d-76ee-4966-ac7f-10ec952a2b11"
      },
      "source": [
        "ct.maxEngSent"
      ],
      "execution_count": 9,
      "outputs": [
        {
          "output_type": "execute_result",
          "data": {
            "text/plain": [
              "15"
            ]
          },
          "metadata": {
            "tags": []
          },
          "execution_count": 9
        }
      ]
    },
    {
      "cell_type": "code",
      "metadata": {
        "id": "o0TWSuCODLNv"
      },
      "source": [
        "Ytemp = ct.convertExptoArr(Ytrain[0],0)"
      ],
      "execution_count": 10,
      "outputs": []
    },
    {
      "cell_type": "code",
      "metadata": {
        "colab": {
          "base_uri": "https://localhost:8080/"
        },
        "id": "eo5JnK_CsFvk",
        "outputId": "4ed2b798-3636-4d9c-bd9b-f3c78939e429"
      },
      "source": [
        "Ytemp.shape"
      ],
      "execution_count": 11,
      "outputs": [
        {
          "output_type": "execute_result",
          "data": {
            "text/plain": [
              "(59, 94)"
            ]
          },
          "metadata": {
            "tags": []
          },
          "execution_count": 11
        }
      ]
    },
    {
      "cell_type": "code",
      "metadata": {
        "colab": {
          "base_uri": "https://localhost:8080/",
          "height": 35
        },
        "id": "E9CB4fn_sdWj",
        "outputId": "dbed1b45-244e-4749-9108-57402ec423f3"
      },
      "source": [
        "ct.convertArrtoExp(Ytemp,0)"
      ],
      "execution_count": 12,
      "outputs": [
        {
          "output_type": "execute_result",
          "data": {
            "application/vnd.google.colaboratory.intrinsic+json": {
              "type": "string"
            },
            "text/plain": [
              "'\\tÀ plus tard !\\n                                            '"
            ]
          },
          "metadata": {
            "tags": []
          },
          "execution_count": 12
        }
      ]
    },
    {
      "cell_type": "code",
      "metadata": {
        "id": "sOQGAjO4jszm"
      },
      "source": [
        "def createData(X,Y):\r\n",
        "  XData = []\r\n",
        "  YData = []\r\n",
        "  for i in range(len(X)):\r\n",
        "    XData.append(list(ct.convertExptoArr(X[i],1)))\r\n",
        "    YData.append(list(ct.convertExptoArr(Y[i],0)))\r\n",
        "  return [np.array(XData),np.array(YData)]\r\n",
        "\r\n",
        "\r\n",
        "Xtr, Ytr =  createData(Xtrain,Ytrain)\r\n",
        "#Xv, Yv =    createData(Xval,Yval)\r\n",
        "#Xtst,Ytst = createData(Xtest,Ytest)\r\n",
        "\r\n",
        "\r\n",
        "\r\n",
        "\r\n",
        "\r\n",
        "  "
      ],
      "execution_count": 13,
      "outputs": []
    },
    {
      "cell_type": "code",
      "metadata": {
        "colab": {
          "base_uri": "https://localhost:8080/"
        },
        "id": "hemEmiFefyTA",
        "outputId": "a8051790-4d04-45f8-ff01-5af56de21c9e"
      },
      "source": [
        "Ytr"
      ],
      "execution_count": 14,
      "outputs": [
        {
          "output_type": "execute_result",
          "data": {
            "text/plain": [
              "array([[[1., 0., 0., ..., 0., 0., 0.],\n",
              "        [0., 0., 0., ..., 0., 0., 0.],\n",
              "        [0., 0., 1., ..., 0., 0., 0.],\n",
              "        ...,\n",
              "        [0., 0., 1., ..., 0., 0., 0.],\n",
              "        [0., 0., 1., ..., 0., 0., 0.],\n",
              "        [0., 0., 1., ..., 0., 0., 0.]],\n",
              "\n",
              "       [[1., 0., 0., ..., 0., 0., 0.],\n",
              "        [0., 0., 0., ..., 0., 0., 0.],\n",
              "        [0., 0., 0., ..., 0., 0., 0.],\n",
              "        ...,\n",
              "        [0., 0., 1., ..., 0., 0., 0.],\n",
              "        [0., 0., 1., ..., 0., 0., 0.],\n",
              "        [0., 0., 1., ..., 0., 0., 0.]],\n",
              "\n",
              "       [[1., 0., 0., ..., 0., 0., 0.],\n",
              "        [0., 0., 0., ..., 0., 0., 0.],\n",
              "        [0., 0., 0., ..., 0., 0., 0.],\n",
              "        ...,\n",
              "        [0., 0., 1., ..., 0., 0., 0.],\n",
              "        [0., 0., 1., ..., 0., 0., 0.],\n",
              "        [0., 0., 1., ..., 0., 0., 0.]],\n",
              "\n",
              "       ...,\n",
              "\n",
              "       [[1., 0., 0., ..., 0., 0., 0.],\n",
              "        [0., 0., 0., ..., 0., 0., 0.],\n",
              "        [0., 0., 0., ..., 0., 0., 0.],\n",
              "        ...,\n",
              "        [0., 0., 1., ..., 0., 0., 0.],\n",
              "        [0., 0., 1., ..., 0., 0., 0.],\n",
              "        [0., 0., 1., ..., 0., 0., 0.]],\n",
              "\n",
              "       [[1., 0., 0., ..., 0., 0., 0.],\n",
              "        [0., 0., 0., ..., 0., 0., 0.],\n",
              "        [0., 0., 0., ..., 0., 0., 0.],\n",
              "        ...,\n",
              "        [0., 0., 1., ..., 0., 0., 0.],\n",
              "        [0., 0., 1., ..., 0., 0., 0.],\n",
              "        [0., 0., 1., ..., 0., 0., 0.]],\n",
              "\n",
              "       [[1., 0., 0., ..., 0., 0., 0.],\n",
              "        [0., 0., 0., ..., 0., 0., 0.],\n",
              "        [0., 0., 0., ..., 0., 0., 0.],\n",
              "        ...,\n",
              "        [0., 0., 1., ..., 0., 0., 0.],\n",
              "        [0., 0., 1., ..., 0., 0., 0.],\n",
              "        [0., 0., 1., ..., 0., 0., 0.]]])"
            ]
          },
          "metadata": {
            "tags": []
          },
          "execution_count": 14
        }
      ]
    },
    {
      "cell_type": "code",
      "metadata": {
        "id": "mW6mIeqbPSsZ"
      },
      "source": [
        "def decoderTarget(Y):\r\n",
        "  x,y,z = Y.shape\r\n",
        "  decoderTarget = np.zeros((x,y,z))\r\n",
        "  for i in range(x):\r\n",
        "    decoderTarget[i,0:y-1,:] = Y[i,1:,:]\r\n",
        "    temp = np.zeros((1,z))\r\n",
        "    temp[0,ct.frenDict[\" \"]] = 1\r\n",
        "    decoderTarget[i,-1,:] = temp\r\n",
        "  return decoderTarget"
      ],
      "execution_count": 15,
      "outputs": []
    },
    {
      "cell_type": "code",
      "metadata": {
        "id": "Wf7ICLHJkE7I"
      },
      "source": [
        "Ytarget = decoderTarget(Ytr)\r\n",
        "Yinput = Ytr\r\n",
        "Xinput = Xtr"
      ],
      "execution_count": 16,
      "outputs": []
    },
    {
      "cell_type": "code",
      "metadata": {
        "colab": {
          "base_uri": "https://localhost:8080/"
        },
        "id": "zekjByn8vfHY",
        "outputId": "02f198be-4055-43f6-c59b-15937248efff"
      },
      "source": [
        "Ytarget.shape"
      ],
      "execution_count": 17,
      "outputs": [
        {
          "output_type": "execute_result",
          "data": {
            "text/plain": [
              "(10000, 59, 94)"
            ]
          },
          "metadata": {
            "tags": []
          },
          "execution_count": 17
        }
      ]
    },
    {
      "cell_type": "code",
      "metadata": {
        "colab": {
          "base_uri": "https://localhost:8080/",
          "height": 35
        },
        "id": "E1SH8mMQlDSZ",
        "outputId": "f6cca054-c369-4644-9fee-faabdbc5e099"
      },
      "source": [
        "ct.convertArrtoExp(Ytarget[1],0)"
      ],
      "execution_count": 18,
      "outputs": [
        {
          "output_type": "execute_result",
          "data": {
            "application/vnd.google.colaboratory.intrinsic+json": {
              "type": "string"
            },
            "text/plain": [
              "'Tu es folle\\u202f?\\n                                             '"
            ]
          },
          "metadata": {
            "tags": []
          },
          "execution_count": 18
        }
      ]
    },
    {
      "cell_type": "code",
      "metadata": {
        "colab": {
          "base_uri": "https://localhost:8080/",
          "height": 35
        },
        "id": "RuzbFGNNs8IU",
        "outputId": "6da95e2f-509f-4261-fc14-c41ee404be79"
      },
      "source": [
        "Ytrain[0]"
      ],
      "execution_count": 19,
      "outputs": [
        {
          "output_type": "execute_result",
          "data": {
            "application/vnd.google.colaboratory.intrinsic+json": {
              "type": "string"
            },
            "text/plain": [
              "'\\tÀ plus tard !\\n'"
            ]
          },
          "metadata": {
            "tags": []
          },
          "execution_count": 19
        }
      ]
    },
    {
      "cell_type": "code",
      "metadata": {
        "colab": {
          "base_uri": "https://localhost:8080/"
        },
        "id": "atYMjDIPEb6p",
        "outputId": "12ae7568-93ad-49a9-f927-2253eca1ec9e"
      },
      "source": [
        "ct.maxFrenSent"
      ],
      "execution_count": 20,
      "outputs": [
        {
          "output_type": "execute_result",
          "data": {
            "text/plain": [
              "59"
            ]
          },
          "metadata": {
            "tags": []
          },
          "execution_count": 20
        }
      ]
    },
    {
      "cell_type": "code",
      "metadata": {
        "id": "9woU4LLmJ0yC"
      },
      "source": [
        "import tensorflow as tf\r\n",
        "from tensorflow import keras\r\n",
        "\r\n",
        "class EngtoFrenchModel(object):\r\n",
        "\r\n",
        "  def __init__(self):\r\n",
        "    self.EngtoFrench = None\r\n",
        "    self.num_encoder_tokens = len(ct.engDict)\r\n",
        "    self.num_decoder_tokens = len(ct.frenDict)\r\n",
        "    self.encoder_model = None\r\n",
        "    self.decoder_model = None\r\n",
        "\r\n",
        "  def createModel(self):\r\n",
        "    # Define an input sequence and process it.\r\n",
        "    encoder_inputs = keras.Input(shape=(None, self.num_encoder_tokens))\r\n",
        "    encoder = keras.layers.LSTM(latent_dim, return_state=True)\r\n",
        "    encoder_outputs, state_h, state_c = encoder(encoder_inputs)\r\n",
        "\r\n",
        "    # We discard `encoder_outputs` and only keep the states.\r\n",
        "    encoder_states = [state_h, state_c]\r\n",
        "\r\n",
        "    # Set up the decoder, using `encoder_states` as initial state.\r\n",
        "    decoder_inputs = keras.Input(shape=(None, self.num_decoder_tokens))\r\n",
        "\r\n",
        "    # We set up our decoder to return full output sequences,\r\n",
        "    # and to return internal states as well. We don't use the\r\n",
        "    # return states in the training model, but we will use them in inference.\r\n",
        "    decoder_lstm = keras.layers.LSTM(latent_dim, return_sequences=True, return_state=True)\r\n",
        "    decoder_outputs, _, _ = decoder_lstm(decoder_inputs, initial_state=encoder_states)\r\n",
        "    decoder_dense = keras.layers.Dense(self.num_decoder_tokens, activation=\"softmax\")\r\n",
        "    decoder_outputs = decoder_dense(decoder_outputs)\r\n",
        "\r\n",
        "    # Define the model that will turn\r\n",
        "    # `encoder_input_data` & `decoder_input_data` into `decoder_target_data`\r\n",
        "    model = keras.Model([encoder_inputs, decoder_inputs], decoder_outputs)\r\n",
        "    self.EngtoFrench = model\r\n",
        "    self.EngtoFrench.summary()\r\n",
        "    keras.utils.plot_model(model, show_shapes=True)\r\n",
        "    \r\n",
        "\r\n",
        "  def trainModel(self,Xinput,Yinput,Ytarget):\r\n",
        "    self.EngtoFrench.compile(\r\n",
        "    optimizer=\"adam\", loss=\"categorical_crossentropy\", metrics=[\"accuracy\"]\r\n",
        "    )\r\n",
        "    self.EngtoFrench.fit([Xinput, Yinput],Ytarget,batch_size=batch_size,epochs=60,validation_split = 0.05) \r\n",
        "    # Save model\r\n",
        "    self.EngtoFrench.save(\"EngtoFrenModel\")\r\n",
        "\r\n",
        "  def modelInference(self):\r\n",
        "\r\n",
        "    # encoder model \r\n",
        "    #model = keras.models.load_model(\"EngtoFrenModel\")\r\n",
        "    model = self.EngtoFrench\r\n",
        "    encoder_inputs = model.input[0]  # input_1\r\n",
        "    encoder_outputs, state_h_enc, state_c_enc = model.layers[2].output  # lstm_1\r\n",
        "    encoder_states = [state_h_enc, state_c_enc]\r\n",
        "    self.encoder_model = keras.Model(encoder_inputs, encoder_states)\r\n",
        "\r\n",
        "\r\n",
        "    # decoder model \r\n",
        "\r\n",
        "    decoder_inputs = model.input[1]  # input_2   # the first blank signal <SOS>\r\n",
        "    decoder_state_input_h = keras.Input(shape=(latent_dim,), name=\"input_31\")\r\n",
        "    decoder_state_input_c = keras.Input(shape=(latent_dim,), name=\"input_41\")\r\n",
        "    decoder_states_inputs = [decoder_state_input_h, decoder_state_input_c]  # should come from encoder\r\n",
        "    decoder_lstm = model.layers[3]\r\n",
        "    decoder_outputs, state_h_dec, state_c_dec = decoder_lstm(\r\n",
        "      decoder_inputs, initial_state=decoder_states_inputs\r\n",
        "    )\r\n",
        "    decoder_states = [state_h_dec, state_c_dec]    # for next stage \r\n",
        "    decoder_dense = model.layers[4]                # output\r\n",
        "    decoder_outputs = decoder_dense(decoder_outputs)\r\n",
        "    self.decoder_model = keras.Model(\r\n",
        "    [decoder_inputs] + decoder_states_inputs, [decoder_outputs] + decoder_states\r\n",
        "    )\r\n",
        "\r\n",
        "  def convertEngtoFren(self,input_seq):\r\n",
        "    states_value = self.encoder_model.predict(input_seq)\r\n",
        "    # Generate empty target sequence of length 1.\r\n",
        "    target_seq = np.zeros((1, 1, self.num_decoder_tokens))\r\n",
        "    # Populate the first character of target sequence with the start character.\r\n",
        "    target_seq[0, 0, ct.engDict[\"\\t\"]] = 1.0\r\n",
        "\r\n",
        "    # Sampling loop for a batch of sequences\r\n",
        "    # (to simplify, here we assume a batch of size 1).\r\n",
        "    stop_condition = False\r\n",
        "    decoded_sentence = \"\"\r\n",
        "    while not stop_condition:\r\n",
        "        output_tokens, h, c = self.decoder_model.predict([target_seq] + states_value)\r\n",
        "        #print(output_tokens.shape)\r\n",
        "        #print(h.shape)\r\n",
        "        #print(c.shape)\r\n",
        "        \r\n",
        "        # Sample a token\r\n",
        "        sampled_token_index =  np.argmax(output_tokens[0, -1, :])\r\n",
        "        sampled_char  =        ct.frenRevDict[sampled_token_index]\r\n",
        "        decoded_sentence += sampled_char\r\n",
        "\r\n",
        "        # Exit condition: either hit max length\r\n",
        "        # or find stop character.\r\n",
        "        if sampled_char == \"\\n\" or len(decoded_sentence) > ct.maxFrenSent:\r\n",
        "            stop_condition = True\r\n",
        "        # Update the target sequence (of length 1).\r\n",
        "        target_seq = np.zeros((1, 1, self.num_decoder_tokens))\r\n",
        "        target_seq[0, 0, sampled_token_index] = 1.0\r\n",
        "\r\n",
        "        # Update states\r\n",
        "        states_value = [h, c]\r\n",
        "    return decoded_sentence\r\n",
        "\r\n",
        "    \r\n",
        "    \r\n",
        "\r\n",
        "    \r\n",
        "\r\n",
        "\r\n",
        "    \r\n",
        "\r\n",
        "\r\n",
        "\r\n",
        "\r\n",
        "\r\n"
      ],
      "execution_count": 21,
      "outputs": []
    },
    {
      "cell_type": "code",
      "metadata": {
        "id": "qS2ShHRtKBaL",
        "colab": {
          "base_uri": "https://localhost:8080/"
        },
        "outputId": "31da7b6d-ece7-4d10-8475-7aa1adeb5d07"
      },
      "source": [
        "eft = EngtoFrenchModel()\r\n",
        "eft.createModel()"
      ],
      "execution_count": 22,
      "outputs": [
        {
          "output_type": "stream",
          "text": [
            "Model: \"functional_1\"\n",
            "__________________________________________________________________________________________________\n",
            "Layer (type)                    Output Shape         Param #     Connected to                     \n",
            "==================================================================================================\n",
            "input_1 (InputLayer)            [(None, None, 71)]   0                                            \n",
            "__________________________________________________________________________________________________\n",
            "input_2 (InputLayer)            [(None, None, 94)]   0                                            \n",
            "__________________________________________________________________________________________________\n",
            "lstm (LSTM)                     [(None, 256), (None, 335872      input_1[0][0]                    \n",
            "__________________________________________________________________________________________________\n",
            "lstm_1 (LSTM)                   [(None, None, 256),  359424      input_2[0][0]                    \n",
            "                                                                 lstm[0][1]                       \n",
            "                                                                 lstm[0][2]                       \n",
            "__________________________________________________________________________________________________\n",
            "dense (Dense)                   (None, None, 94)     24158       lstm_1[0][0]                     \n",
            "==================================================================================================\n",
            "Total params: 719,454\n",
            "Trainable params: 719,454\n",
            "Non-trainable params: 0\n",
            "__________________________________________________________________________________________________\n"
          ],
          "name": "stdout"
        }
      ]
    },
    {
      "cell_type": "code",
      "metadata": {
        "id": "L3c5p_2GLjGd"
      },
      "source": [
        "#\r\n"
      ],
      "execution_count": 23,
      "outputs": []
    },
    {
      "cell_type": "code",
      "metadata": {
        "colab": {
          "base_uri": "https://localhost:8080/"
        },
        "id": "n-Hafn95QuB7",
        "outputId": "83e3d0b2-2b40-4183-f70f-5969b2145539"
      },
      "source": [
        "eft.trainModel(Xinput,Yinput,Ytarget)"
      ],
      "execution_count": 24,
      "outputs": [
        {
          "output_type": "stream",
          "text": [
            "Epoch 1/60\n",
            "149/149 [==============================] - 2s 16ms/step - loss: 1.2934 - accuracy: 0.7186 - val_loss: 0.9638 - val_accuracy: 0.7322\n",
            "Epoch 2/60\n",
            "149/149 [==============================] - 2s 11ms/step - loss: 0.8682 - accuracy: 0.7616 - val_loss: 0.8025 - val_accuracy: 0.7850\n",
            "Epoch 3/60\n",
            "149/149 [==============================] - 2s 11ms/step - loss: 0.7192 - accuracy: 0.8018 - val_loss: 0.6760 - val_accuracy: 0.8120\n",
            "Epoch 4/60\n",
            "149/149 [==============================] - 2s 11ms/step - loss: 0.7003 - accuracy: 0.8046 - val_loss: 0.6447 - val_accuracy: 0.8175\n",
            "Epoch 5/60\n",
            "149/149 [==============================] - 2s 11ms/step - loss: 0.6094 - accuracy: 0.8245 - val_loss: 0.6047 - val_accuracy: 0.8249\n",
            "Epoch 6/60\n",
            "149/149 [==============================] - 2s 11ms/step - loss: 0.5775 - accuracy: 0.8316 - val_loss: 0.5780 - val_accuracy: 0.8322\n",
            "Epoch 7/60\n",
            "149/149 [==============================] - 2s 11ms/step - loss: 0.5522 - accuracy: 0.8383 - val_loss: 0.5579 - val_accuracy: 0.8373\n",
            "Epoch 8/60\n",
            "149/149 [==============================] - 2s 11ms/step - loss: 0.5304 - accuracy: 0.8446 - val_loss: 0.5368 - val_accuracy: 0.8423\n",
            "Epoch 9/60\n",
            "149/149 [==============================] - 2s 11ms/step - loss: 0.5108 - accuracy: 0.8504 - val_loss: 0.5154 - val_accuracy: 0.8493\n",
            "Epoch 10/60\n",
            "149/149 [==============================] - 2s 11ms/step - loss: 0.4940 - accuracy: 0.8544 - val_loss: 0.4978 - val_accuracy: 0.8537\n",
            "Epoch 11/60\n",
            "149/149 [==============================] - 2s 11ms/step - loss: 0.4773 - accuracy: 0.8589 - val_loss: 0.4871 - val_accuracy: 0.8568\n",
            "Epoch 12/60\n",
            "149/149 [==============================] - 2s 11ms/step - loss: 0.4629 - accuracy: 0.8627 - val_loss: 0.4760 - val_accuracy: 0.8582\n",
            "Epoch 13/60\n",
            "149/149 [==============================] - 2s 11ms/step - loss: 0.4503 - accuracy: 0.8664 - val_loss: 0.4611 - val_accuracy: 0.8653\n",
            "Epoch 14/60\n",
            "149/149 [==============================] - 2s 11ms/step - loss: 0.4420 - accuracy: 0.8690 - val_loss: 0.4496 - val_accuracy: 0.8674\n",
            "Epoch 15/60\n",
            "149/149 [==============================] - 2s 11ms/step - loss: 0.4246 - accuracy: 0.8735 - val_loss: 0.4385 - val_accuracy: 0.8713\n",
            "Epoch 16/60\n",
            "149/149 [==============================] - 2s 11ms/step - loss: 0.4122 - accuracy: 0.8772 - val_loss: 0.4283 - val_accuracy: 0.8748\n",
            "Epoch 17/60\n",
            "149/149 [==============================] - 2s 11ms/step - loss: 0.4009 - accuracy: 0.8804 - val_loss: 0.4209 - val_accuracy: 0.8755\n",
            "Epoch 18/60\n",
            "149/149 [==============================] - 2s 11ms/step - loss: 0.3892 - accuracy: 0.8836 - val_loss: 0.4132 - val_accuracy: 0.8776\n",
            "Epoch 19/60\n",
            "149/149 [==============================] - 2s 11ms/step - loss: 0.3780 - accuracy: 0.8870 - val_loss: 0.4014 - val_accuracy: 0.8813\n",
            "Epoch 20/60\n",
            "149/149 [==============================] - 2s 11ms/step - loss: 0.3662 - accuracy: 0.8905 - val_loss: 0.3883 - val_accuracy: 0.8843\n",
            "Epoch 21/60\n",
            "149/149 [==============================] - 2s 11ms/step - loss: 0.3557 - accuracy: 0.8937 - val_loss: 0.3803 - val_accuracy: 0.8876\n",
            "Epoch 22/60\n",
            "149/149 [==============================] - 2s 11ms/step - loss: 0.3447 - accuracy: 0.8971 - val_loss: 0.3701 - val_accuracy: 0.8908\n",
            "Epoch 23/60\n",
            "149/149 [==============================] - 2s 11ms/step - loss: 0.3336 - accuracy: 0.9006 - val_loss: 0.3646 - val_accuracy: 0.8922\n",
            "Epoch 24/60\n",
            "149/149 [==============================] - 2s 11ms/step - loss: 0.3240 - accuracy: 0.9035 - val_loss: 0.3557 - val_accuracy: 0.8959\n",
            "Epoch 25/60\n",
            "149/149 [==============================] - 2s 11ms/step - loss: 0.3141 - accuracy: 0.9066 - val_loss: 0.3470 - val_accuracy: 0.8975\n",
            "Epoch 26/60\n",
            "149/149 [==============================] - 2s 11ms/step - loss: 0.3040 - accuracy: 0.9097 - val_loss: 0.3383 - val_accuracy: 0.9006\n",
            "Epoch 27/60\n",
            "149/149 [==============================] - 2s 11ms/step - loss: 0.2932 - accuracy: 0.9128 - val_loss: 0.3332 - val_accuracy: 0.9022\n",
            "Epoch 28/60\n",
            "149/149 [==============================] - 2s 11ms/step - loss: 0.2851 - accuracy: 0.9154 - val_loss: 0.3246 - val_accuracy: 0.9047\n",
            "Epoch 29/60\n",
            "149/149 [==============================] - 2s 11ms/step - loss: 0.2748 - accuracy: 0.9186 - val_loss: 0.3210 - val_accuracy: 0.9064\n",
            "Epoch 30/60\n",
            "149/149 [==============================] - 2s 11ms/step - loss: 0.2651 - accuracy: 0.9215 - val_loss: 0.3158 - val_accuracy: 0.9064\n",
            "Epoch 31/60\n",
            "149/149 [==============================] - 2s 11ms/step - loss: 0.2566 - accuracy: 0.9240 - val_loss: 0.3041 - val_accuracy: 0.9109\n",
            "Epoch 32/60\n",
            "149/149 [==============================] - 2s 11ms/step - loss: 0.2478 - accuracy: 0.9266 - val_loss: 0.3019 - val_accuracy: 0.9123\n",
            "Epoch 33/60\n",
            "149/149 [==============================] - 2s 11ms/step - loss: 0.2394 - accuracy: 0.9293 - val_loss: 0.2932 - val_accuracy: 0.9160\n",
            "Epoch 34/60\n",
            "149/149 [==============================] - 2s 11ms/step - loss: 0.2317 - accuracy: 0.9314 - val_loss: 0.2898 - val_accuracy: 0.9160\n",
            "Epoch 35/60\n",
            "149/149 [==============================] - 2s 11ms/step - loss: 0.2228 - accuracy: 0.9342 - val_loss: 0.2853 - val_accuracy: 0.9188\n",
            "Epoch 36/60\n",
            "149/149 [==============================] - 2s 11ms/step - loss: 0.2155 - accuracy: 0.9365 - val_loss: 0.2814 - val_accuracy: 0.9221\n",
            "Epoch 37/60\n",
            "149/149 [==============================] - 2s 11ms/step - loss: 0.2069 - accuracy: 0.9389 - val_loss: 0.2770 - val_accuracy: 0.9212\n",
            "Epoch 38/60\n",
            "149/149 [==============================] - 2s 11ms/step - loss: 0.2000 - accuracy: 0.9410 - val_loss: 0.2733 - val_accuracy: 0.9228\n",
            "Epoch 39/60\n",
            "149/149 [==============================] - 2s 11ms/step - loss: 0.1938 - accuracy: 0.9428 - val_loss: 0.2666 - val_accuracy: 0.9254\n",
            "Epoch 40/60\n",
            "149/149 [==============================] - 2s 11ms/step - loss: 0.1862 - accuracy: 0.9450 - val_loss: 0.2640 - val_accuracy: 0.9261\n",
            "Epoch 41/60\n",
            "149/149 [==============================] - 2s 11ms/step - loss: 0.1792 - accuracy: 0.9471 - val_loss: 0.2621 - val_accuracy: 0.9261\n",
            "Epoch 42/60\n",
            "149/149 [==============================] - 2s 11ms/step - loss: 0.1736 - accuracy: 0.9490 - val_loss: 0.2589 - val_accuracy: 0.9287\n",
            "Epoch 43/60\n",
            "149/149 [==============================] - 2s 11ms/step - loss: 0.1678 - accuracy: 0.9507 - val_loss: 0.2551 - val_accuracy: 0.9286\n",
            "Epoch 44/60\n",
            "149/149 [==============================] - 2s 11ms/step - loss: 0.1609 - accuracy: 0.9529 - val_loss: 0.2515 - val_accuracy: 0.9317\n",
            "Epoch 45/60\n",
            "149/149 [==============================] - 2s 11ms/step - loss: 0.1543 - accuracy: 0.9550 - val_loss: 0.2481 - val_accuracy: 0.9321\n",
            "Epoch 46/60\n",
            "149/149 [==============================] - 2s 11ms/step - loss: 0.1496 - accuracy: 0.9563 - val_loss: 0.2499 - val_accuracy: 0.9313\n",
            "Epoch 47/60\n",
            "149/149 [==============================] - 2s 11ms/step - loss: 0.1448 - accuracy: 0.9579 - val_loss: 0.2425 - val_accuracy: 0.9349\n",
            "Epoch 48/60\n",
            "149/149 [==============================] - 2s 11ms/step - loss: 0.1393 - accuracy: 0.9596 - val_loss: 0.2411 - val_accuracy: 0.9351\n",
            "Epoch 49/60\n",
            "149/149 [==============================] - 2s 11ms/step - loss: 0.1340 - accuracy: 0.9610 - val_loss: 0.2387 - val_accuracy: 0.9357\n",
            "Epoch 50/60\n",
            "149/149 [==============================] - 2s 11ms/step - loss: 0.1284 - accuracy: 0.9626 - val_loss: 0.2355 - val_accuracy: 0.9371\n",
            "Epoch 51/60\n",
            "149/149 [==============================] - 2s 11ms/step - loss: 0.1233 - accuracy: 0.9641 - val_loss: 0.2361 - val_accuracy: 0.9370\n",
            "Epoch 52/60\n",
            "149/149 [==============================] - 2s 11ms/step - loss: 0.1198 - accuracy: 0.9652 - val_loss: 0.2322 - val_accuracy: 0.9392\n",
            "Epoch 53/60\n",
            "149/149 [==============================] - 2s 11ms/step - loss: 0.1151 - accuracy: 0.9667 - val_loss: 0.2293 - val_accuracy: 0.9405\n",
            "Epoch 54/60\n",
            "149/149 [==============================] - 2s 11ms/step - loss: 0.1111 - accuracy: 0.9678 - val_loss: 0.2334 - val_accuracy: 0.9402\n",
            "Epoch 55/60\n",
            "149/149 [==============================] - 2s 11ms/step - loss: 0.1071 - accuracy: 0.9690 - val_loss: 0.2288 - val_accuracy: 0.9415\n",
            "Epoch 56/60\n",
            "149/149 [==============================] - 2s 11ms/step - loss: 0.1032 - accuracy: 0.9701 - val_loss: 0.2285 - val_accuracy: 0.9415\n",
            "Epoch 57/60\n",
            "149/149 [==============================] - 2s 11ms/step - loss: 0.1009 - accuracy: 0.9709 - val_loss: 0.2307 - val_accuracy: 0.9427\n",
            "Epoch 58/60\n",
            "149/149 [==============================] - 2s 11ms/step - loss: 0.0972 - accuracy: 0.9720 - val_loss: 0.2362 - val_accuracy: 0.9408\n",
            "Epoch 59/60\n",
            "149/149 [==============================] - 2s 11ms/step - loss: 0.0956 - accuracy: 0.9724 - val_loss: 0.2260 - val_accuracy: 0.9438\n",
            "Epoch 60/60\n",
            "149/149 [==============================] - 2s 11ms/step - loss: 0.0942 - accuracy: 0.9724 - val_loss: 0.2273 - val_accuracy: 0.9433\n",
            "WARNING:tensorflow:From /usr/local/lib/python3.6/dist-packages/tensorflow/python/training/tracking/tracking.py:111: Model.state_updates (from tensorflow.python.keras.engine.training) is deprecated and will be removed in a future version.\n",
            "Instructions for updating:\n",
            "This property should not be used in TensorFlow 2.0, as updates are applied automatically.\n",
            "WARNING:tensorflow:From /usr/local/lib/python3.6/dist-packages/tensorflow/python/training/tracking/tracking.py:111: Layer.updates (from tensorflow.python.keras.engine.base_layer) is deprecated and will be removed in a future version.\n",
            "Instructions for updating:\n",
            "This property should not be used in TensorFlow 2.0, as updates are applied automatically.\n",
            "INFO:tensorflow:Assets written to: EngtoFrenModel/assets\n"
          ],
          "name": "stdout"
        }
      ]
    },
    {
      "cell_type": "code",
      "metadata": {
        "colab": {
          "base_uri": "https://localhost:8080/",
          "height": 422
        },
        "id": "IvELzNmAQ1nH",
        "outputId": "e40073d3-470a-4010-9be8-0b2d5b529d5b"
      },
      "source": [
        "keras.utils.plot_model(eft.EngtoFrench, show_shapes=True)"
      ],
      "execution_count": 25,
      "outputs": [
        {
          "output_type": "execute_result",
          "data": {
            "image/png": "[encoded data removed]",
            "text/plain": [
              "<IPython.core.display.Image object>"
            ]
          },
          "metadata": {
            "tags": []
          },
          "execution_count": 25
        }
      ]
    },
    {
      "cell_type": "code",
      "metadata": {
        "id": "4pXTmzJtQ_kW"
      },
      "source": [
        "eft.modelInference()"
      ],
      "execution_count": 26,
      "outputs": []
    },
    {
      "cell_type": "code",
      "metadata": {
        "id": "Ue16vrIDSVej",
        "colab": {
          "base_uri": "https://localhost:8080/",
          "height": 201
        },
        "outputId": "07c38318-0a4c-4d86-be2a-807ff21d25a0"
      },
      "source": [
        "keras.utils.plot_model(eft.encoder_model, show_shapes=True)"
      ],
      "execution_count": 27,
      "outputs": [
        {
          "output_type": "execute_result",
          "data": {
            "image/png": "[encoded data removed]",
            "text/plain": [
              "<IPython.core.display.Image object>"
            ]
          },
          "metadata": {
            "tags": []
          },
          "execution_count": 27
        }
      ]
    },
    {
      "cell_type": "code",
      "metadata": {
        "id": "8NdkwY-ASgB9",
        "colab": {
          "base_uri": "https://localhost:8080/",
          "height": 312
        },
        "outputId": "bd8bc139-94bb-4c99-ff66-eddc5c368d0e"
      },
      "source": [
        "keras.utils.plot_model(eft.decoder_model, show_shapes=True)\r\n"
      ],
      "execution_count": 28,
      "outputs": [
        {
          "output_type": "execute_result",
          "data": {
            "image/png": "[encoded data removed]",
            "text/plain": [
              "<IPython.core.display.Image object>"
            ]
          },
          "metadata": {
            "tags": []
          },
          "execution_count": 28
        }
      ]
    },
    {
      "cell_type": "code",
      "metadata": {
        "id": "LvRz4CcGTeZe"
      },
      "source": [
        "Xinput.shape\r\n",
        "outputs = eft.encoder_model.predict(Xinput[:1,:,:])"
      ],
      "execution_count": 29,
      "outputs": []
    },
    {
      "cell_type": "code",
      "metadata": {
        "colab": {
          "base_uri": "https://localhost:8080/"
        },
        "id": "qASj53WccHDM",
        "outputId": "a181c6cc-2d82-40e8-c2e7-dbd241da60ff"
      },
      "source": [
        "outputs[1].shape"
      ],
      "execution_count": 30,
      "outputs": [
        {
          "output_type": "execute_result",
          "data": {
            "text/plain": [
              "(1, 256)"
            ]
          },
          "metadata": {
            "tags": []
          },
          "execution_count": 30
        }
      ]
    },
    {
      "cell_type": "code",
      "metadata": {
        "id": "BWW46e3lcTZR"
      },
      "source": [
        "X= [1,2]\r\n",
        "Y = [1,2]"
      ],
      "execution_count": 31,
      "outputs": []
    },
    {
      "cell_type": "code",
      "metadata": {
        "id": "DMmtW_CZc-iZ"
      },
      "source": [
        ""
      ],
      "execution_count": 31,
      "outputs": []
    },
    {
      "cell_type": "code",
      "metadata": {
        "colab": {
          "base_uri": "https://localhost:8080/"
        },
        "id": "Q17ITnttc_MJ",
        "outputId": "42e4c4f0-ce71-4fa9-f3f6-ede6f5f82845"
      },
      "source": [
        "Ypred = eft.convertEngtoFren(Xinput[8:9,:,:])\r\n",
        "print(Ypred)"
      ],
      "execution_count": 72,
      "outputs": [
        {
          "output_type": "stream",
          "text": [
            "Pourriez-vous nous aider ?\n",
            "\n"
          ],
          "name": "stdout"
        }
      ]
    },
    {
      "cell_type": "code",
      "metadata": {
        "colab": {
          "base_uri": "https://localhost:8080/"
        },
        "id": "gXFIP8WbhtOJ",
        "outputId": "e2932779-8dbf-407a-99f2-53a86b8a19a1"
      },
      "source": [
        "Xinput[4:5]"
      ],
      "execution_count": 33,
      "outputs": [
        {
          "output_type": "execute_result",
          "data": {
            "text/plain": [
              "array([[0., 0., 0., ..., 0., 0., 0.],\n",
              "       [0., 0., 0., ..., 0., 0., 0.],\n",
              "       [1., 0., 0., ..., 0., 0., 0.],\n",
              "       ...,\n",
              "       [1., 0., 0., ..., 0., 0., 0.],\n",
              "       [1., 0., 0., ..., 0., 0., 0.],\n",
              "       [1., 0., 0., ..., 0., 0., 0.]])"
            ]
          },
          "metadata": {
            "tags": []
          },
          "execution_count": 33
        }
      ]
    },
    {
      "cell_type": "code",
      "metadata": {
        "colab": {
          "base_uri": "https://localhost:8080/",
          "height": 162
        },
        "id": "0jdMFwI8ovQL",
        "outputId": "d7a6797c-14d3-48ce-9245-7f1565abd3ca"
      },
      "source": [
        "ct.Xtr[0]"
      ],
      "execution_count": 34,
      "outputs": [
        {
          "output_type": "error",
          "ename": "AttributeError",
          "evalue": "ignored",
          "traceback": [
            "\u001b[0;31m---------------------------------------------------------------------------\u001b[0m",
            "\u001b[0;31mAttributeError\u001b[0m                            Traceback (most recent call last)",
            "\u001b[0;32m<ipython-input-34-840935da40b5>\u001b[0m in \u001b[0;36m<module>\u001b[0;34m()\u001b[0m\n\u001b[0;32m----> 1\u001b[0;31m \u001b[0mct\u001b[0m\u001b[0;34m.\u001b[0m\u001b[0mXtr\u001b[0m\u001b[0;34m[\u001b[0m\u001b[0;36m0\u001b[0m\u001b[0;34m]\u001b[0m\u001b[0;34m\u001b[0m\u001b[0;34m\u001b[0m\u001b[0m\n\u001b[0m",
            "\u001b[0;31mAttributeError\u001b[0m: 'convTable' object has no attribute 'Xtr'"
          ]
        }
      ]
    },
    {
      "cell_type": "code",
      "metadata": {
        "colab": {
          "base_uri": "https://localhost:8080/"
        },
        "id": "6PxXu6W-pF1F",
        "outputId": "40b40b0f-fe07-4719-97c7-a185ca8b9a27"
      },
      "source": [
        " print(ct.convertArrtoExp(Ytr[8],0))"
      ],
      "execution_count": 73,
      "outputs": [
        {
          "output_type": "stream",
          "text": [
            "\tPourrais-tu nous aider ?\n",
            "                                 \n"
          ],
          "name": "stdout"
        }
      ]
    },
    {
      "cell_type": "code",
      "metadata": {
        "colab": {
          "base_uri": "https://localhost:8080/"
        },
        "id": "CMyoeOQzpOPI",
        "outputId": "a262f6e2-5ba5-460f-fafe-86769dfc1be2"
      },
      "source": [
        "print(ct.convertArrtoExp(Xtr[7],1))"
      ],
      "execution_count": 79,
      "outputs": [
        {
          "output_type": "stream",
          "text": [
            "I'm starving.  \n"
          ],
          "name": "stdout"
        }
      ]
    },
    {
      "cell_type": "code",
      "metadata": {
        "id": "hvALbvqXrslk"
      },
      "source": [
        "# arbitrary  sentence \r\n"
      ],
      "execution_count": 63,
      "outputs": []
    },
    {
      "cell_type": "code",
      "metadata": {
        "colab": {
          "base_uri": "https://localhost:8080/"
        },
        "id": "EbTI1mTRr5v1",
        "outputId": "0b2923e5-6df4-45fa-cb80-3a251b52c055"
      },
      "source": [
        "eft.trainModel(Xinput,Yinput,Ytarget)"
      ],
      "execution_count": 76,
      "outputs": [
        {
          "output_type": "stream",
          "text": [
            "Epoch 1/60\n",
            "149/149 [==============================] - 2s 16ms/step - loss: 0.0260 - accuracy: 0.9917 - val_loss: 0.2459 - val_accuracy: 0.9570\n",
            "Epoch 2/60\n",
            "149/149 [==============================] - 2s 11ms/step - loss: 0.0242 - accuracy: 0.9920 - val_loss: 0.2462 - val_accuracy: 0.9578\n",
            "Epoch 3/60\n",
            "149/149 [==============================] - 2s 11ms/step - loss: 0.0230 - accuracy: 0.9925 - val_loss: 0.2491 - val_accuracy: 0.9581\n",
            "Epoch 4/60\n",
            "149/149 [==============================] - 2s 11ms/step - loss: 0.0229 - accuracy: 0.9924 - val_loss: 0.2493 - val_accuracy: 0.9582\n",
            "Epoch 5/60\n",
            "149/149 [==============================] - 2s 11ms/step - loss: 0.0262 - accuracy: 0.9913 - val_loss: 0.2525 - val_accuracy: 0.9577\n",
            "Epoch 6/60\n",
            "149/149 [==============================] - 2s 11ms/step - loss: 0.0228 - accuracy: 0.9924 - val_loss: 0.2433 - val_accuracy: 0.9586\n",
            "Epoch 7/60\n",
            "149/149 [==============================] - 2s 11ms/step - loss: 0.0218 - accuracy: 0.9927 - val_loss: 0.2467 - val_accuracy: 0.9591\n",
            "Epoch 8/60\n",
            "149/149 [==============================] - 2s 11ms/step - loss: 0.0233 - accuracy: 0.9921 - val_loss: 0.2490 - val_accuracy: 0.9572\n",
            "Epoch 9/60\n",
            "149/149 [==============================] - 2s 11ms/step - loss: 0.0238 - accuracy: 0.9921 - val_loss: 0.2453 - val_accuracy: 0.9586\n",
            "Epoch 10/60\n",
            "149/149 [==============================] - 2s 11ms/step - loss: 0.0214 - accuracy: 0.9927 - val_loss: 0.2485 - val_accuracy: 0.9592\n",
            "Epoch 11/60\n",
            "149/149 [==============================] - 2s 11ms/step - loss: 0.0199 - accuracy: 0.9933 - val_loss: 0.2472 - val_accuracy: 0.9591\n",
            "Epoch 12/60\n",
            "149/149 [==============================] - 2s 11ms/step - loss: 0.0242 - accuracy: 0.9920 - val_loss: 0.2549 - val_accuracy: 0.9568\n",
            "Epoch 13/60\n",
            "149/149 [==============================] - 2s 11ms/step - loss: 0.0236 - accuracy: 0.9921 - val_loss: 0.2493 - val_accuracy: 0.9583\n",
            "Epoch 14/60\n",
            "149/149 [==============================] - 2s 11ms/step - loss: 0.0209 - accuracy: 0.9930 - val_loss: 0.2489 - val_accuracy: 0.9593\n",
            "Epoch 15/60\n",
            "149/149 [==============================] - 2s 11ms/step - loss: 0.0199 - accuracy: 0.9932 - val_loss: 0.2465 - val_accuracy: 0.9595\n",
            "Epoch 16/60\n",
            "149/149 [==============================] - 2s 11ms/step - loss: 0.0187 - accuracy: 0.9935 - val_loss: 0.2494 - val_accuracy: 0.9588\n",
            "Epoch 17/60\n",
            "149/149 [==============================] - 2s 11ms/step - loss: 0.0191 - accuracy: 0.9933 - val_loss: 0.2499 - val_accuracy: 0.9587\n",
            "Epoch 18/60\n",
            "149/149 [==============================] - 2s 11ms/step - loss: 0.0197 - accuracy: 0.9931 - val_loss: 0.2515 - val_accuracy: 0.9591\n",
            "Epoch 19/60\n",
            "149/149 [==============================] - 2s 11ms/step - loss: 0.0198 - accuracy: 0.9931 - val_loss: 0.2496 - val_accuracy: 0.9594\n",
            "Epoch 20/60\n",
            "149/149 [==============================] - 2s 11ms/step - loss: 0.0196 - accuracy: 0.9932 - val_loss: 0.2490 - val_accuracy: 0.9591\n",
            "Epoch 21/60\n",
            "149/149 [==============================] - 2s 11ms/step - loss: 0.0192 - accuracy: 0.9933 - val_loss: 0.2522 - val_accuracy: 0.9585\n",
            "Epoch 22/60\n",
            "149/149 [==============================] - 2s 11ms/step - loss: 0.0205 - accuracy: 0.9929 - val_loss: 0.2566 - val_accuracy: 0.9582\n",
            "Epoch 23/60\n",
            "149/149 [==============================] - 2s 11ms/step - loss: 0.0211 - accuracy: 0.9927 - val_loss: 0.2533 - val_accuracy: 0.9582\n",
            "Epoch 24/60\n",
            "149/149 [==============================] - 2s 11ms/step - loss: 0.0216 - accuracy: 0.9925 - val_loss: 0.2581 - val_accuracy: 0.9588\n",
            "Epoch 25/60\n",
            "149/149 [==============================] - 2s 11ms/step - loss: 0.0199 - accuracy: 0.9931 - val_loss: 0.2514 - val_accuracy: 0.9591\n",
            "Epoch 26/60\n",
            "149/149 [==============================] - 2s 11ms/step - loss: 0.0191 - accuracy: 0.9932 - val_loss: 0.2534 - val_accuracy: 0.9593\n",
            "Epoch 27/60\n",
            "149/149 [==============================] - 2s 11ms/step - loss: 0.0188 - accuracy: 0.9933 - val_loss: 0.2547 - val_accuracy: 0.9590\n",
            "Epoch 28/60\n",
            "149/149 [==============================] - 2s 11ms/step - loss: 0.0192 - accuracy: 0.9932 - val_loss: 0.2542 - val_accuracy: 0.9586\n",
            "Epoch 29/60\n",
            "149/149 [==============================] - 2s 11ms/step - loss: 0.0189 - accuracy: 0.9932 - val_loss: 0.2547 - val_accuracy: 0.9597\n",
            "Epoch 30/60\n",
            "149/149 [==============================] - 2s 11ms/step - loss: 0.0212 - accuracy: 0.9927 - val_loss: 0.2611 - val_accuracy: 0.9574\n",
            "Epoch 31/60\n",
            "149/149 [==============================] - 2s 11ms/step - loss: 0.0419 - accuracy: 0.9860 - val_loss: 0.2669 - val_accuracy: 0.9542\n",
            "Epoch 32/60\n",
            "149/149 [==============================] - 2s 11ms/step - loss: 0.0262 - accuracy: 0.9908 - val_loss: 0.2545 - val_accuracy: 0.9585\n",
            "Epoch 33/60\n",
            "149/149 [==============================] - 2s 11ms/step - loss: 0.0183 - accuracy: 0.9933 - val_loss: 0.2490 - val_accuracy: 0.9596\n",
            "Epoch 34/60\n",
            "149/149 [==============================] - 2s 11ms/step - loss: 0.0194 - accuracy: 0.9930 - val_loss: 0.2489 - val_accuracy: 0.9601\n",
            "Epoch 35/60\n",
            "149/149 [==============================] - 2s 11ms/step - loss: 0.0165 - accuracy: 0.9937 - val_loss: 0.2467 - val_accuracy: 0.9599\n",
            "Epoch 36/60\n",
            "149/149 [==============================] - 2s 11ms/step - loss: 0.0156 - accuracy: 0.9940 - val_loss: 0.2502 - val_accuracy: 0.9597\n",
            "Epoch 37/60\n",
            "149/149 [==============================] - 2s 11ms/step - loss: 0.0153 - accuracy: 0.9940 - val_loss: 0.2469 - val_accuracy: 0.9604\n",
            "Epoch 38/60\n",
            "149/149 [==============================] - 2s 11ms/step - loss: 0.0154 - accuracy: 0.9939 - val_loss: 0.2486 - val_accuracy: 0.9605\n",
            "Epoch 39/60\n",
            "149/149 [==============================] - 2s 11ms/step - loss: 0.0155 - accuracy: 0.9940 - val_loss: 0.2523 - val_accuracy: 0.9603\n",
            "Epoch 40/60\n",
            "149/149 [==============================] - 2s 11ms/step - loss: 0.0156 - accuracy: 0.9939 - val_loss: 0.2465 - val_accuracy: 0.9604\n",
            "Epoch 41/60\n",
            "149/149 [==============================] - 2s 11ms/step - loss: 0.0157 - accuracy: 0.9939 - val_loss: 0.2578 - val_accuracy: 0.9592\n",
            "Epoch 42/60\n",
            "149/149 [==============================] - 2s 11ms/step - loss: 0.0161 - accuracy: 0.9938 - val_loss: 0.2553 - val_accuracy: 0.9594\n",
            "Epoch 43/60\n",
            "149/149 [==============================] - 2s 11ms/step - loss: 0.0167 - accuracy: 0.9937 - val_loss: 0.2554 - val_accuracy: 0.9598\n",
            "Epoch 44/60\n",
            "149/149 [==============================] - 2s 11ms/step - loss: 0.0177 - accuracy: 0.9935 - val_loss: 0.2544 - val_accuracy: 0.9596\n",
            "Epoch 45/60\n",
            "149/149 [==============================] - 2s 11ms/step - loss: 0.0195 - accuracy: 0.9930 - val_loss: 0.2640 - val_accuracy: 0.9575\n",
            "Epoch 46/60\n",
            "149/149 [==============================] - 2s 11ms/step - loss: 0.0232 - accuracy: 0.9918 - val_loss: 0.2626 - val_accuracy: 0.9577\n",
            "Epoch 47/60\n",
            "149/149 [==============================] - 2s 11ms/step - loss: 0.0238 - accuracy: 0.9916 - val_loss: 0.2625 - val_accuracy: 0.9579\n",
            "Epoch 48/60\n",
            "149/149 [==============================] - 2s 11ms/step - loss: 0.0227 - accuracy: 0.9920 - val_loss: 0.2553 - val_accuracy: 0.9596\n",
            "Epoch 49/60\n",
            "149/149 [==============================] - 2s 11ms/step - loss: 0.0206 - accuracy: 0.9926 - val_loss: 0.2552 - val_accuracy: 0.9595\n",
            "Epoch 50/60\n",
            "149/149 [==============================] - 2s 11ms/step - loss: 0.0175 - accuracy: 0.9935 - val_loss: 0.2540 - val_accuracy: 0.9607\n",
            "Epoch 51/60\n",
            "149/149 [==============================] - 2s 11ms/step - loss: 0.0159 - accuracy: 0.9939 - val_loss: 0.2551 - val_accuracy: 0.9606\n",
            "Epoch 52/60\n",
            "149/149 [==============================] - 2s 11ms/step - loss: 0.0155 - accuracy: 0.9939 - val_loss: 0.2542 - val_accuracy: 0.9607\n",
            "Epoch 53/60\n",
            "149/149 [==============================] - 2s 11ms/step - loss: 0.0151 - accuracy: 0.9940 - val_loss: 0.2575 - val_accuracy: 0.9600\n",
            "Epoch 54/60\n",
            "149/149 [==============================] - 2s 11ms/step - loss: 0.0152 - accuracy: 0.9940 - val_loss: 0.2532 - val_accuracy: 0.9613\n",
            "Epoch 55/60\n",
            "149/149 [==============================] - 2s 11ms/step - loss: 0.0155 - accuracy: 0.9939 - val_loss: 0.2540 - val_accuracy: 0.9594\n",
            "Epoch 56/60\n",
            "149/149 [==============================] - 2s 11ms/step - loss: 0.0168 - accuracy: 0.9935 - val_loss: 0.2630 - val_accuracy: 0.9588\n",
            "Epoch 57/60\n",
            "149/149 [==============================] - 2s 11ms/step - loss: 0.0209 - accuracy: 0.9925 - val_loss: 0.2589 - val_accuracy: 0.9594\n",
            "Epoch 58/60\n",
            "149/149 [==============================] - 2s 11ms/step - loss: 0.0183 - accuracy: 0.9932 - val_loss: 0.2561 - val_accuracy: 0.9597\n",
            "Epoch 59/60\n",
            "149/149 [==============================] - 2s 11ms/step - loss: 0.0172 - accuracy: 0.9935 - val_loss: 0.2605 - val_accuracy: 0.9593\n",
            "Epoch 60/60\n",
            "149/149 [==============================] - 2s 11ms/step - loss: 0.0165 - accuracy: 0.9938 - val_loss: 0.2570 - val_accuracy: 0.9592\n",
            "INFO:tensorflow:Assets written to: EngtoFrenModel/assets\n"
          ],
          "name": "stdout"
        }
      ]
    },
    {
      "cell_type": "code",
      "metadata": {
        "colab": {
          "base_uri": "https://localhost:8080/"
        },
        "id": "ISmxZV2Msw49",
        "outputId": "f848958b-53f7-4d92-81b6-11fa46934c2e"
      },
      "source": [
        "Ypred = eft.convertEngtoFren(Xinput[7:8,:,:])\r\n",
        "print(Ypred)"
      ],
      "execution_count": 78,
      "outputs": [
        {
          "output_type": "stream",
          "text": [
            "J'ai la fringale.\n",
            "\n"
          ],
          "name": "stdout"
        }
      ]
    },
    {
      "cell_type": "code",
      "metadata": {
        "id": "1sUc3tJdt8AG"
      },
      "source": [
        ""
      ],
      "execution_count": null,
      "outputs": []
    }
  ]
}