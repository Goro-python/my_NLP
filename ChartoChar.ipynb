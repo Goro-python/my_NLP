{
  "nbformat": 4,
  "nbformat_minor": 0,
  "metadata": {
    "colab": {
      "name": "ChartoChar.ipynb",
      "provenance": [],
      "collapsed_sections": [],
      "authorship_tag": "ABX9TyPPQqwRkYrXkQtB1hMrPaXA",
      "include_colab_link": true
    },
    "kernelspec": {
      "name": "python3",
      "display_name": "Python 3"
    }
  },
  "cells": [
    {
      "cell_type": "markdown",
      "metadata": {
        "id": "view-in-github",
        "colab_type": "text"
      },
      "source": [
        "<a href=\"https://colab.research.google.com/github/Goro-python/my_NLP/blob/master/ChartoChar.ipynb\" target=\"_parent\"><img src=\"https://colab.research.google.com/assets/colab-badge.svg\" alt=\"Open In Colab\"/></a>"
      ]
    },
    {
      "cell_type": "code",
      "metadata": {
        "id": "CqPsNAZCOxA6"
      },
      "source": [
        "# seq to seq model :  English to French Character\r\n"
      ],
      "execution_count": 1,
      "outputs": []
    },
    {
      "cell_type": "code",
      "metadata": {
        "colab": {
          "base_uri": "https://localhost:8080/"
        },
        "id": "jnCd2DPjO1Bt",
        "outputId": "ec88e8e2-3400-4a83-fc9f-511fd94ded37"
      },
      "source": [
        "!!curl -O http://www.manythings.org/anki/fra-eng.zip\r\n",
        "!!unzip fra-eng.zip"
      ],
      "execution_count": 42,
      "outputs": [
        {
          "output_type": "execute_result",
          "data": {
            "text/plain": [
              "['Archive:  fra-eng.zip',\n",
              " 'replace _about.txt? [y]es, [n]o, [A]ll, [N]one, [r]ename: ']"
            ]
          },
          "metadata": {
            "tags": []
          },
          "execution_count": 42
        }
      ]
    },
    {
      "cell_type": "code",
      "metadata": {
        "id": "MFSN5q0hO3KO"
      },
      "source": [
        "with open(\"fra.txt\", \"r\", encoding=\"utf-8\") as f:\r\n",
        "  lines = f.read().split(\"\\n\")\r\n",
        "\r\n",
        "DataSize = len(lines)-1"
      ],
      "execution_count": 63,
      "outputs": []
    },
    {
      "cell_type": "code",
      "metadata": {
        "colab": {
          "base_uri": "https://localhost:8080/"
        },
        "id": "mFI1Is9cT2gj",
        "outputId": "252f0750-fe30-4651-f941-03b77887307b"
      },
      "source": [
        "for line in lines[0:2]:\r\n",
        "  print(line)\r\n",
        "  "
      ],
      "execution_count": 64,
      "outputs": [
        {
          "output_type": "stream",
          "text": [
            "Go.\tVa !\tCC-BY 2.0 (France) Attribution: tatoeba.org #2877272 (CM) & #1158250 (Wittydev)\n",
            "Hi.\tSalut !\tCC-BY 2.0 (France) Attribution: tatoeba.org #538123 (CM) & #509819 (Aiji)\n"
          ],
          "name": "stdout"
        }
      ]
    },
    {
      "cell_type": "code",
      "metadata": {
        "colab": {
          "base_uri": "https://localhost:8080/",
          "height": 86
        },
        "id": "yHwGRv_OO7c0",
        "outputId": "ba94e033-150f-49d8-de25-91801d7fb542"
      },
      "source": [
        "import numpy as np\r\n",
        "batch_size = 64 \r\n",
        "epochs = 100  \r\n",
        "latent_dim = 256  \r\n",
        "trainSize =  50000\r\n",
        "valSize   =  20000\r\n",
        "testSize  =  10000\r\n",
        "\r\n",
        "engSent = []\r\n",
        "frenSent = []\r\n",
        "\r\n",
        "for line in lines[:min(numSamples,len(lines)-1)]:\r\n",
        "  english,french,_= line.split(\"\\t\")\r\n",
        "  engSent.append(english)\r\n",
        "  frenSent.append(french)\r\n",
        "\r\n",
        "print(\"Number of English Sentence: \",len(engSent))\r\n",
        "print(\"Number of French Senttence: \",len(frenSent))\r\n",
        "\r\n",
        "trainIndexes = np.random.randint(DataSize, size=(trainSize))\r\n",
        "valIndexes =   np.random.randint(DataSize, size=(valSize))\r\n",
        "testIndexes =    np.random.randint(DataSize, size=(testSize))\r\n",
        "#index = np.random.randint(0,trainSamples)\r\n",
        "\r\n",
        "def setData(indexes):\r\n",
        "  X = []\r\n",
        "  Y = []\r\n",
        "  for ind in indexes:\r\n",
        "    X.append(engSent[ind])\r\n",
        "    Y.append(\"\\t\"+frenSent[ind]+\"\\n\")\r\n",
        "  return [X,Y]\r\n",
        "\r\n",
        "Xtrain, Ytrain =  setData(trainIndexes)\r\n",
        "Xval,Yval =       setData(valIndexes)      \r\n",
        "Xtest, Ytest =    setData(testIndexes)\r\n",
        "\r\n",
        "\r\n",
        "ind = np.random.randint(trainSize-1)\r\n",
        "print(ind)\r\n",
        "Xtrain[ind]\r\n",
        "Ytrain[ind]\r\n"
      ],
      "execution_count": 103,
      "outputs": [
        {
          "output_type": "stream",
          "text": [
            "Number of English Sentence:  179904\n",
            "Number of French Senttence:  179904\n",
            "25480\n"
          ],
          "name": "stdout"
        },
        {
          "output_type": "execute_result",
          "data": {
            "application/vnd.google.colaboratory.intrinsic+json": {
              "type": "string"
            },
            "text/plain": [
              "'\\tTon souvenir est bon.\\n'"
            ]
          },
          "metadata": {
            "tags": []
          },
          "execution_count": 103
        }
      ]
    },
    {
      "cell_type": "code",
      "metadata": {
        "colab": {
          "base_uri": "https://localhost:8080/",
          "height": 35
        },
        "id": "ZB0UbBvegaTn",
        "outputId": "0fe1f270-913f-4858-dc3e-88112ecfd905"
      },
      "source": [
        "engSent[1]\r\n",
        "Ytrain[3]"
      ],
      "execution_count": 102,
      "outputs": [
        {
          "output_type": "execute_result",
          "data": {
            "application/vnd.google.colaboratory.intrinsic+json": {
              "type": "string"
            },
            "text/plain": [
              "'\\tTout le monde est fier de toi.\\n'"
            ]
          },
          "metadata": {
            "tags": []
          },
          "execution_count": 102
        }
      ]
    },
    {
      "cell_type": "code",
      "metadata": {
        "colab": {
          "base_uri": "https://localhost:8080/",
          "height": 35
        },
        "id": "n4WiRertg2Fy",
        "outputId": "8e03080f-19f8-4cb9-9732-8ec5e6aece3e"
      },
      "source": [
        "\"\\t\" + frenSent[1] + \"\\n\""
      ],
      "execution_count": 99,
      "outputs": [
        {
          "output_type": "execute_result",
          "data": {
            "application/vnd.google.colaboratory.intrinsic+json": {
              "type": "string"
            },
            "text/plain": [
              "'\\tSalut !\\n'"
            ]
          },
          "metadata": {
            "tags": []
          },
          "execution_count": 99
        }
      ]
    },
    {
      "cell_type": "code",
      "metadata": {
        "id": "H2a2QOOWPWaf"
      },
      "source": [
        "from collections import defaultdict\r\n",
        "class convTable(object):\r\n",
        "  def __init__(self,engSent,frenSent):\r\n",
        "    self.engSent = engSent\r\n",
        "    self.frenSent = frenSent\r\n",
        "    self.engDict   =   defaultdict(int) \r\n",
        "    self.engRevDict =  defaultdict(str)\r\n",
        "    self.frenDict  =   defaultdict(int)\r\n",
        "    self.frenRevDict = defaultdict(str)\r\n",
        "    self.maxEngSent =  0\r\n",
        "    self.maxFrenSent = 0\r\n",
        "\r\n",
        "  def createEngDict(self):\r\n",
        "    _dict = set();\r\n",
        "    for sent in self.engSent:\r\n",
        "      for ch in sent:\r\n",
        "        _dict.add(ch)\r\n",
        "    _dict = sorted(list(_dict))\r\n",
        "    print(_dict)\r\n",
        "    for i,ch in enumerate(_dict):\r\n",
        "      self.engDict[ch] = i\r\n",
        "      self.engRevDict[i] = ch\r\n",
        "    print(self.engDict)\r\n",
        "\r\n",
        "  def createFrenDict(self):\r\n",
        "    _dict = set();\r\n",
        "    for sent in self.frenSent:\r\n",
        "      for ch in sent:\r\n",
        "        _dict.add(ch)\r\n",
        "    _dict = sorted(list(_dict))\r\n",
        "    for i,ch in enumerate(_dict):\r\n",
        "      self.frenDict[ch] = i\r\n",
        "      self.frenRevDict[i] = ch\r\n",
        "\r\n",
        "  def findMaxEngLength(self):\r\n",
        "    for sent in self.engSent:\r\n",
        "      self.maxEngSent= max(self.maxEngSent,len(sent)) \r\n",
        "\r\n",
        "  def findMaxFrenLength(self):\r\n",
        "    for sent in self.frenSent:\r\n",
        "      self.maxFrenSent= max(self.maxFrenSent,len(sent)) \r\n",
        "\r\n",
        "  def convertExptoArr(self,sentence,langFlag):\r\n",
        "      # langFlag = 1 for English, 0 for french\r\n",
        "      if langFlag:\r\n",
        "        X = np.zeros((self.maxEngSent,len(self.engDict)))\r\n",
        "        for i,ch in enumerate(sentence):\r\n",
        "          X[i,self.engDict[ch]] = 1\r\n",
        "        X[i+1:,self.engDict[\" \"]] = 1\r\n",
        "        return X\r\n",
        "      else:\r\n",
        "        X = np.zeros((self.maxFrenSent,len(self.frenDict)))\r\n",
        "        for i,ch in enumerate(sentence):\r\n",
        "          X[i,self.frenDict[ch]] = 1\r\n",
        "        X[i+1:,self.frenDict[\" \"]] = 1\r\n",
        "        return X\r\n",
        "\r\n",
        "\r\n",
        "  def convertArrtoExp(self,Arr):\r\n",
        "    pass\r\n",
        "\r\n",
        "\r\n",
        "\r\n",
        "\r\n",
        "\r\n",
        "\r\n",
        "    \r\n"
      ],
      "execution_count": 157,
      "outputs": []
    },
    {
      "cell_type": "code",
      "metadata": {
        "colab": {
          "base_uri": "https://localhost:8080/"
        },
        "id": "lcbrHbRKPwZc",
        "outputId": "310eeb95-c22e-4205-a0da-db1481aca889"
      },
      "source": [
        "ct = convTable(engSent,frenSent)\r\n",
        "ct.createEngDict()\r\n",
        "ct.createFrenDict()\r\n",
        "ct.findMaxEngLength()\r\n",
        "ct.findMaxFrenLength()"
      ],
      "execution_count": 158,
      "outputs": [
        {
          "output_type": "stream",
          "text": [
            "[' ', '!', '\"', '$', '%', '&', \"'\", '+', ',', '-', '.', '/', '0', '1', '2', '3', '4', '5', '6', '7', '8', '9', ':', ';', '?', 'A', 'B', 'C', 'D', 'E', 'F', 'G', 'H', 'I', 'J', 'K', 'L', 'M', 'N', 'O', 'P', 'Q', 'R', 'S', 'T', 'U', 'V', 'W', 'X', 'Y', 'Z', 'a', 'b', 'c', 'd', 'e', 'f', 'g', 'h', 'i', 'j', 'k', 'l', 'm', 'n', 'o', 'p', 'q', 'r', 's', 't', 'u', 'v', 'w', 'x', 'y', 'z', '\\xa0', '\\xad', 'º', 'ç', 'é', 'ö', 'ú', '–', '—', '‘', '’', '₂', '€']\n",
            "defaultdict(<class 'int'>, {' ': 0, '!': 1, '\"': 2, '$': 3, '%': 4, '&': 5, \"'\": 6, '+': 7, ',': 8, '-': 9, '.': 10, '/': 11, '0': 12, '1': 13, '2': 14, '3': 15, '4': 16, '5': 17, '6': 18, '7': 19, '8': 20, '9': 21, ':': 22, ';': 23, '?': 24, 'A': 25, 'B': 26, 'C': 27, 'D': 28, 'E': 29, 'F': 30, 'G': 31, 'H': 32, 'I': 33, 'J': 34, 'K': 35, 'L': 36, 'M': 37, 'N': 38, 'O': 39, 'P': 40, 'Q': 41, 'R': 42, 'S': 43, 'T': 44, 'U': 45, 'V': 46, 'W': 47, 'X': 48, 'Y': 49, 'Z': 50, 'a': 51, 'b': 52, 'c': 53, 'd': 54, 'e': 55, 'f': 56, 'g': 57, 'h': 58, 'i': 59, 'j': 60, 'k': 61, 'l': 62, 'm': 63, 'n': 64, 'o': 65, 'p': 66, 'q': 67, 'r': 68, 's': 69, 't': 70, 'u': 71, 'v': 72, 'w': 73, 'x': 74, 'y': 75, 'z': 76, '\\xa0': 77, '\\xad': 78, 'º': 79, 'ç': 80, 'é': 81, 'ö': 82, 'ú': 83, '–': 84, '—': 85, '‘': 86, '’': 87, '₂': 88, '€': 89})\n"
          ],
          "name": "stdout"
        }
      ]
    },
    {
      "cell_type": "code",
      "metadata": {
        "colab": {
          "base_uri": "https://localhost:8080/"
        },
        "id": "sOQGAjO4jszm",
        "outputId": "5ad41432-2743-475f-e295-586e7eaa274e"
      },
      "source": [
        "print(Xtrain[0])\r\n",
        "arr= ct.convertExptoArr(Xtrain[0],1)\r\n",
        "arr.shape"
      ],
      "execution_count": 160,
      "outputs": [
        {
          "output_type": "stream",
          "text": [
            "I've just arrived at the station.\n"
          ],
          "name": "stdout"
        },
        {
          "output_type": "execute_result",
          "data": {
            "text/plain": [
              "(262, 90)"
            ]
          },
          "metadata": {
            "tags": []
          },
          "execution_count": 160
        }
      ]
    },
    {
      "cell_type": "code",
      "metadata": {
        "colab": {
          "base_uri": "https://localhost:8080/"
        },
        "id": "Wf7ICLHJkE7I",
        "outputId": "966ccd78-543f-4cd0-bc14-8a1f354a1634"
      },
      "source": [
        "ct.convertExptoArr(\"I love you\",1)"
      ],
      "execution_count": 167,
      "outputs": [
        {
          "output_type": "execute_result",
          "data": {
            "text/plain": [
              "array([[0., 0., 0., ..., 0., 0., 0.],\n",
              "       [1., 0., 0., ..., 0., 0., 0.],\n",
              "       [0., 0., 0., ..., 0., 0., 0.],\n",
              "       ...,\n",
              "       [1., 0., 0., ..., 0., 0., 0.],\n",
              "       [1., 0., 0., ..., 0., 0., 0.],\n",
              "       [1., 0., 0., ..., 0., 0., 0.]])"
            ]
          },
          "metadata": {
            "tags": []
          },
          "execution_count": 167
        }
      ]
    },
    {
      "cell_type": "code",
      "metadata": {
        "id": "E1SH8mMQlDSZ"
      },
      "source": [
        ""
      ],
      "execution_count": null,
      "outputs": []
    }
  ]
}