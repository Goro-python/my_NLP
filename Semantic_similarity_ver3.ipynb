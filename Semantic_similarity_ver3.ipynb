{
  "nbformat": 4,
  "nbformat_minor": 0,
  "metadata": {
    "colab": {
      "name": "Semantic_similarity.ipynb",
      "provenance": [],
      "collapsed_sections": [],
      "authorship_tag": "ABX9TyP5AP0fsB9xFALdZl+rRgyq",
      "include_colab_link": true
    },
    "kernelspec": {
      "name": "python3",
      "display_name": "Python 3"
    },
    "accelerator": "GPU"
  },
  "cells": [
    {
      "cell_type": "markdown",
      "metadata": {
        "id": "view-in-github",
        "colab_type": "text"
      },
      "source": [
        "<a href=\"https://colab.research.google.com/github/Goro-python/my_NLP/blob/next_dev/Semantic_similarity_ver3.ipynb\" target=\"_parent\"><img src=\"https://colab.research.google.com/assets/colab-badge.svg\" alt=\"Open In Colab\"/></a>"
      ]
    },
    {
      "cell_type": "code",
      "metadata": {
        "id": "cq2LHX3W34eU"
      },
      "source": [
        "# semantic similarity\r\n",
        "\r\n",
        "import pandas as pd\r\n",
        "import numpy as np\r\n",
        "from sklearn.feature_extraction.text import CountVectorizer\r\n",
        "from sklearn.preprocessing import LabelEncoder\r\n",
        "np.random.seed(3)\r\n"
      ],
      "execution_count": 187,
      "outputs": []
    },
    {
      "cell_type": "code",
      "metadata": {
        "colab": {
          "base_uri": "https://localhost:8080/"
        },
        "id": "y7Zq1yu338R0",
        "outputId": "f99e52b6-0468-45ae-d631-8284337a2057"
      },
      "source": [
        "!curl -LO https://raw.githubusercontent.com/MohamadMerchant/SNLI/master/data.tar.gz\r\n",
        "!tar -xvzf data.tar.gz"
      ],
      "execution_count": 188,
      "outputs": [
        {
          "output_type": "stream",
          "text": [
            "  % Total    % Received % Xferd  Average Speed   Time    Time     Time  Current\n",
            "                                 Dload  Upload   Total   Spent    Left  Speed\n",
            "100 11.1M  100 11.1M    0     0  22.1M      0 --:--:-- --:--:-- --:--:-- 22.1M\n",
            "SNLI_Corpus/\n",
            "SNLI_Corpus/snli_1.0_dev.csv\n",
            "SNLI_Corpus/snli_1.0_train.csv\n",
            "SNLI_Corpus/snli_1.0_test.csv\n"
          ],
          "name": "stdout"
        }
      ]
    },
    {
      "cell_type": "code",
      "metadata": {
        "id": "Z0nuWkLp4L79"
      },
      "source": [
        "df = pd.read_csv(\"SNLI_Corpus/snli_1.0_train.csv\")\r\n",
        "df = df[df['similarity']!= '-']\r\n",
        "df = df.sample(n = 90000)\r\n",
        "df = df.astype('str')"
      ],
      "execution_count": 207,
      "outputs": []
    },
    {
      "cell_type": "code",
      "metadata": {
        "colab": {
          "base_uri": "https://localhost:8080/"
        },
        "id": "VGFQ4d2E_VNf",
        "outputId": "e63f0e3e-0c0a-4746-bfd1-4d7253f6e68c"
      },
      "source": [
        "import nltk\r\n",
        "nltk.download('punkt')\r\n",
        "nltk.download('stopwords')"
      ],
      "execution_count": 208,
      "outputs": [
        {
          "output_type": "stream",
          "text": [
            "[nltk_data] Downloading package punkt to /root/nltk_data...\n",
            "[nltk_data]   Package punkt is already up-to-date!\n",
            "[nltk_data] Downloading package stopwords to /root/nltk_data...\n",
            "[nltk_data]   Package stopwords is already up-to-date!\n"
          ],
          "name": "stdout"
        },
        {
          "output_type": "execute_result",
          "data": {
            "text/plain": [
              "True"
            ]
          },
          "metadata": {
            "tags": []
          },
          "execution_count": 208
        }
      ]
    },
    {
      "cell_type": "code",
      "metadata": {
        "id": "ehMIHmXR-Jp9"
      },
      "source": [
        "# text cleaning and processing \r\n",
        "from nltk.tokenize import word_tokenize\r\n",
        "from nltk.corpus import stopwords\r\n",
        "from nltk.stem import PorterStemmer \r\n",
        "\r\n",
        "def tokenizer(docs):\r\n",
        "  stop_words = set(stopwords.words('english')) \r\n",
        "  ps =  PorterStemmer() \r\n",
        "  text = []\r\n",
        "  for sent in docs:\r\n",
        "      text.append(word_tokenize(sent))\r\n",
        "  res = []\r\n",
        "  #print('Text: ',text)\r\n",
        "  for words in text:\r\n",
        "    new_word = []\r\n",
        "    for word in words:\r\n",
        "      if word not in stop_words and word.isalpha():\r\n",
        "        #print(word)\r\n",
        "        stem_word = word\r\n",
        "        #print('after stemming:',stem_word)\r\n",
        "        new_word.append(stem_word)\r\n",
        "    #print(' '.join(new_word))\r\n",
        "    res.append(' '.join(new_word))  \r\n",
        "  return res\r\n",
        "\r\n",
        "text1 = tokenizer(df['sentence1'])\r\n",
        "text2 = tokenizer(df['sentence2'])\r\n",
        "  \r\n",
        "\r\n",
        "\r\n",
        "  "
      ],
      "execution_count": 209,
      "outputs": []
    },
    {
      "cell_type": "code",
      "metadata": {
        "colab": {
          "base_uri": "https://localhost:8080/"
        },
        "id": "fNSe48dK6-ye",
        "outputId": "1aeda811-4fd0-4d2f-8fc8-5631915856df"
      },
      "source": [
        "len(text1)"
      ],
      "execution_count": 210,
      "outputs": [
        {
          "output_type": "execute_result",
          "data": {
            "text/plain": [
              "90000"
            ]
          },
          "metadata": {
            "tags": []
          },
          "execution_count": 210
        }
      ]
    },
    {
      "cell_type": "code",
      "metadata": {
        "id": "q7Iz7FasDT9k"
      },
      "source": [
        "from sklearn.feature_extraction.text import CountVectorizer,TfidfVectorizer\r\n",
        "cvr = TfidfVectorizer(max_features=2000)\r\n",
        "temp = cvr.fit_transform(text1+text2).toarray()"
      ],
      "execution_count": 6,
      "outputs": []
    },
    {
      "cell_type": "code",
      "metadata": {
        "id": "rPb_c-FmEx3t"
      },
      "source": [
        "X1 = cvr.transform(text1).toarray()\r\n",
        "X2 = cvr.transform(text2).toarray()"
      ],
      "execution_count": 7,
      "outputs": []
    },
    {
      "cell_type": "code",
      "metadata": {
        "id": "80QbhyFwC-0e"
      },
      "source": [
        "# target values \r\n",
        "\r\n",
        "X = np.concatenate((X1,X2),axis = -1)"
      ],
      "execution_count": 8,
      "outputs": []
    },
    {
      "cell_type": "code",
      "metadata": {
        "colab": {
          "base_uri": "https://localhost:8080/"
        },
        "id": "FsFiuy9iOPzu",
        "outputId": "d6dc241e-5b55-411d-9e30-a51a88532069"
      },
      "source": [
        "X.shape"
      ],
      "execution_count": 9,
      "outputs": [
        {
          "output_type": "execute_result",
          "data": {
            "text/plain": [
              "(10000, 4000)"
            ]
          },
          "metadata": {
            "tags": []
          },
          "execution_count": 9
        }
      ]
    },
    {
      "cell_type": "code",
      "metadata": {
        "id": "nTabljbP-KFv"
      },
      "source": [
        "#train and test split\r\n",
        "from sklearn.model_selection import train_test_split\r\n",
        "\r\n",
        "x_train,x_test,y_train,y_test = train_test_split(X,Y,test_size = 0.1)"
      ],
      "execution_count": 10,
      "outputs": []
    },
    {
      "cell_type": "code",
      "metadata": {
        "colab": {
          "base_uri": "https://localhost:8080/"
        },
        "id": "hWwNLR8z-Kdj",
        "outputId": "44e1ab00-73ea-4624-e940-63e74ac9a25c"
      },
      "source": [
        "# random forest trial \r\n",
        "from sklearn.ensemble import RandomForestClassifier\r\n",
        "rfc = RandomForestClassifier(n_estimators = 200,verbose = True)\r\n",
        "print('training error : ',rfc.fit(x_train,y_train))\r\n",
        "print('validation error: ',rfc.score(x_test,y_test))\r\n"
      ],
      "execution_count": 11,
      "outputs": [
        {
          "output_type": "stream",
          "text": [
            "[Parallel(n_jobs=1)]: Using backend SequentialBackend with 1 concurrent workers.\n"
          ],
          "name": "stderr"
        },
        {
          "output_type": "stream",
          "text": [
            "training error :  RandomForestClassifier(bootstrap=True, ccp_alpha=0.0, class_weight=None,\n",
            "                       criterion='gini', max_depth=None, max_features='auto',\n",
            "                       max_leaf_nodes=None, max_samples=None,\n",
            "                       min_impurity_decrease=0.0, min_impurity_split=None,\n",
            "                       min_samples_leaf=1, min_samples_split=2,\n",
            "                       min_weight_fraction_leaf=0.0, n_estimators=200,\n",
            "                       n_jobs=None, oob_score=False, random_state=None,\n",
            "                       verbose=True, warm_start=False)\n",
            "validation error:  0.548\n"
          ],
          "name": "stdout"
        },
        {
          "output_type": "stream",
          "text": [
            "[Parallel(n_jobs=1)]: Done 200 out of 200 | elapsed:   56.0s finished\n",
            "[Parallel(n_jobs=1)]: Using backend SequentialBackend with 1 concurrent workers.\n",
            "[Parallel(n_jobs=1)]: Done 200 out of 200 | elapsed:    0.2s finished\n"
          ],
          "name": "stderr"
        }
      ]
    },
    {
      "cell_type": "code",
      "metadata": {
        "colab": {
          "base_uri": "https://localhost:8080/"
        },
        "id": "l3vN1rks_PBb",
        "outputId": "dce7ba2f-8568-4402-a75c-dde2960f67ba"
      },
      "source": [
        "# Naive bayes\r\n",
        "from sklearn.naive_bayes import MultinomialNB\r\n",
        "mnm = MultinomialNB().fit(x_train,y_train)\r\n",
        "print('training error : ',mnm.fit(x_train,y_train))\r\n",
        "print('validation error: ',mnm.score(x_test,y_test))\r\n"
      ],
      "execution_count": 12,
      "outputs": [
        {
          "output_type": "stream",
          "text": [
            "training error :  MultinomialNB(alpha=1.0, class_prior=None, fit_prior=True)\n",
            "validation error:  0.514\n"
          ],
          "name": "stdout"
        }
      ]
    },
    {
      "cell_type": "code",
      "metadata": {
        "colab": {
          "base_uri": "https://localhost:8080/"
        },
        "id": "LOBkbOp7dxKN",
        "outputId": "911707af-55c7-4732-8f04-f8e51d1f806c"
      },
      "source": [
        "X.shape"
      ],
      "execution_count": 13,
      "outputs": [
        {
          "output_type": "execute_result",
          "data": {
            "text/plain": [
              "(10000, 4000)"
            ]
          },
          "metadata": {
            "tags": []
          },
          "execution_count": 13
        }
      ]
    },
    {
      "cell_type": "code",
      "metadata": {
        "id": "LrRRK5qCVbXM"
      },
      "source": [
        ""
      ],
      "execution_count": 13,
      "outputs": []
    },
    {
      "cell_type": "code",
      "metadata": {
        "id": "99B7feMl7dQ-"
      },
      "source": [
        "\r\n"
      ],
      "execution_count": 13,
      "outputs": []
    },
    {
      "cell_type": "code",
      "metadata": {
        "id": "4heFNAky_gbe"
      },
      "source": [
        ""
      ],
      "execution_count": 13,
      "outputs": []
    },
    {
      "cell_type": "code",
      "metadata": {
        "id": "LHZThIc8L-WD"
      },
      "source": [
        ""
      ],
      "execution_count": 13,
      "outputs": []
    },
    {
      "cell_type": "code",
      "metadata": {
        "id": "paf0Fx5m4Ry1"
      },
      "source": [
        ""
      ],
      "execution_count": 13,
      "outputs": []
    },
    {
      "cell_type": "code",
      "metadata": {
        "id": "tFQJdjwc4cS0"
      },
      "source": [
        ""
      ],
      "execution_count": 13,
      "outputs": []
    },
    {
      "cell_type": "code",
      "metadata": {
        "id": "cxsQLK2Z54xD"
      },
      "source": [
        ""
      ],
      "execution_count": 13,
      "outputs": []
    },
    {
      "cell_type": "code",
      "metadata": {
        "id": "-v5O22U3HKtY"
      },
      "source": [
        ""
      ],
      "execution_count": 13,
      "outputs": []
    },
    {
      "cell_type": "code",
      "metadata": {
        "id": "U2-eEwlw6N-o"
      },
      "source": [
        ""
      ],
      "execution_count": 13,
      "outputs": []
    },
    {
      "cell_type": "code",
      "metadata": {
        "id": "dLT3poC3KFbO"
      },
      "source": [
        ""
      ],
      "execution_count": 13,
      "outputs": []
    },
    {
      "cell_type": "code",
      "metadata": {
        "id": "BenT0Bk-6lph"
      },
      "source": [
        ""
      ],
      "execution_count": 13,
      "outputs": []
    },
    {
      "cell_type": "code",
      "metadata": {
        "id": "DBD0sfqeff_8"
      },
      "source": [
        ""
      ],
      "execution_count": 13,
      "outputs": []
    },
    {
      "cell_type": "code",
      "metadata": {
        "colab": {
          "base_uri": "https://localhost:8080/"
        },
        "id": "9IE2YW-OLLe_",
        "outputId": "a67735a3-3da7-43ae-e925-686d06e37811"
      },
      "source": [
        "X.shape"
      ],
      "execution_count": 14,
      "outputs": [
        {
          "output_type": "execute_result",
          "data": {
            "text/plain": [
              "(10000, 4000)"
            ]
          },
          "metadata": {
            "tags": []
          },
          "execution_count": 14
        }
      ]
    },
    {
      "cell_type": "code",
      "metadata": {
        "id": "Od0-GDwB8QZn"
      },
      "source": [
        "# keras tensorflow \r\n",
        "\r\n",
        "import tensorflow as tf\r\n",
        "import keras\r\n"
      ],
      "execution_count": 15,
      "outputs": []
    },
    {
      "cell_type": "code",
      "metadata": {
        "id": "UOmXVjJD-27d"
      },
      "source": [
        "inp =   tf.keras.Input(shape= (X.shape[1],))\r\n",
        "output = tf.keras.layers.Dense(3,activation='softmax')(inp)\r\n",
        "similar_sent =  keras.Model(inputs = inp,outputs = output)"
      ],
      "execution_count": 16,
      "outputs": []
    },
    {
      "cell_type": "code",
      "metadata": {
        "colab": {
          "base_uri": "https://localhost:8080/"
        },
        "id": "OuushxNJFJJl",
        "outputId": "c938add3-7ed4-42e8-80d3-19f8199231a0"
      },
      "source": [
        "similar_sent.summary()"
      ],
      "execution_count": 17,
      "outputs": [
        {
          "output_type": "stream",
          "text": [
            "Model: \"model\"\n",
            "_________________________________________________________________\n",
            "Layer (type)                 Output Shape              Param #   \n",
            "=================================================================\n",
            "input_1 (InputLayer)         [(None, 4000)]            0         \n",
            "_________________________________________________________________\n",
            "dense (Dense)                (None, 3)                 12003     \n",
            "=================================================================\n",
            "Total params: 12,003\n",
            "Trainable params: 12,003\n",
            "Non-trainable params: 0\n",
            "_________________________________________________________________\n"
          ],
          "name": "stdout"
        }
      ]
    },
    {
      "cell_type": "code",
      "metadata": {
        "id": "2EHJw4GLFu1V",
        "colab": {
          "base_uri": "https://localhost:8080/",
          "height": 201
        },
        "outputId": "d6a7a759-51e5-452b-cb0e-203bc794f4ff"
      },
      "source": [
        "keras.utils.plot_model(similar_sent,show_shapes= True)"
      ],
      "execution_count": 18,
      "outputs": [
        {
          "output_type": "execute_result",
          "data": {
            "image/png": "[encoded data removed]",
            "text/plain": [
              "<IPython.core.display.Image object>"
            ]
          },
          "metadata": {
            "tags": []
          },
          "execution_count": 18
        }
      ]
    },
    {
      "cell_type": "markdown",
      "metadata": {
        "id": "MgpiJQdX3yuX"
      },
      "source": [
        ""
      ]
    },
    {
      "cell_type": "code",
      "metadata": {
        "id": "RUYdSdB7GQ7k"
      },
      "source": [
        "similar_sent.compile(\"adam\", \"sparse_categorical_crossentropy\", metrics=[\"accuracy\"])\r\n",
        "callback = tf.keras.callbacks.EarlyStopping(monitor='val_loss', patience=3)"
      ],
      "execution_count": 19,
      "outputs": []
    },
    {
      "cell_type": "markdown",
      "metadata": {
        "id": "EsqYNVItI36Q"
      },
      "source": [
        ""
      ]
    },
    {
      "cell_type": "code",
      "metadata": {
        "colab": {
          "base_uri": "https://localhost:8080/"
        },
        "id": "8d6KViIJlZ2X",
        "outputId": "bf5091d6-14f0-48fa-c753-dfa73366a2af"
      },
      "source": [
        "X2.shape"
      ],
      "execution_count": 20,
      "outputs": [
        {
          "output_type": "execute_result",
          "data": {
            "text/plain": [
              "(10000, 2000)"
            ]
          },
          "metadata": {
            "tags": []
          },
          "execution_count": 20
        }
      ]
    },
    {
      "cell_type": "markdown",
      "metadata": {
        "id": "rWOhQD8j3yTR"
      },
      "source": [
        ""
      ]
    },
    {
      "cell_type": "code",
      "metadata": {
        "id": "9DGZuBxJGR46",
        "colab": {
          "base_uri": "https://localhost:8080/"
        },
        "outputId": "0fcbc688-4ce1-4804-8167-58ccb05874bf"
      },
      "source": [
        "history = similar_sent.fit(x_train,y_train,epochs=100,batch_size=64,validation_data = (x_test,y_test),callbacks=[callback])"
      ],
      "execution_count": 21,
      "outputs": [
        {
          "output_type": "stream",
          "text": [
            "Epoch 1/100\n",
            "141/141 [==============================] - 1s 5ms/step - loss: 1.0948 - accuracy: 0.3793 - val_loss: 1.0820 - val_accuracy: 0.4920\n",
            "Epoch 2/100\n",
            "141/141 [==============================] - 0s 3ms/step - loss: 1.0672 - accuracy: 0.5982 - val_loss: 1.0680 - val_accuracy: 0.5040\n",
            "Epoch 3/100\n",
            "141/141 [==============================] - 0s 3ms/step - loss: 1.0430 - accuracy: 0.6377 - val_loss: 1.0559 - val_accuracy: 0.5070\n",
            "Epoch 4/100\n",
            "141/141 [==============================] - 0s 2ms/step - loss: 1.0194 - accuracy: 0.6696 - val_loss: 1.0445 - val_accuracy: 0.4930\n",
            "Epoch 5/100\n",
            "141/141 [==============================] - 0s 3ms/step - loss: 0.9984 - accuracy: 0.6742 - val_loss: 1.0347 - val_accuracy: 0.5030\n",
            "Epoch 6/100\n",
            "141/141 [==============================] - 0s 3ms/step - loss: 0.9797 - accuracy: 0.6744 - val_loss: 1.0256 - val_accuracy: 0.4980\n",
            "Epoch 7/100\n",
            "141/141 [==============================] - 0s 3ms/step - loss: 0.9607 - accuracy: 0.6834 - val_loss: 1.0180 - val_accuracy: 0.4990\n",
            "Epoch 8/100\n",
            "141/141 [==============================] - 0s 3ms/step - loss: 0.9425 - accuracy: 0.6928 - val_loss: 1.0112 - val_accuracy: 0.5020\n",
            "Epoch 9/100\n",
            "141/141 [==============================] - 0s 2ms/step - loss: 0.9275 - accuracy: 0.6957 - val_loss: 1.0049 - val_accuracy: 0.5100\n",
            "Epoch 10/100\n",
            "141/141 [==============================] - 0s 2ms/step - loss: 0.9120 - accuracy: 0.6998 - val_loss: 0.9997 - val_accuracy: 0.5100\n",
            "Epoch 11/100\n",
            "141/141 [==============================] - 0s 3ms/step - loss: 0.9007 - accuracy: 0.7005 - val_loss: 0.9949 - val_accuracy: 0.5090\n",
            "Epoch 12/100\n",
            "141/141 [==============================] - 0s 3ms/step - loss: 0.8850 - accuracy: 0.7061 - val_loss: 0.9908 - val_accuracy: 0.5080\n",
            "Epoch 13/100\n",
            "141/141 [==============================] - 0s 3ms/step - loss: 0.8704 - accuracy: 0.7189 - val_loss: 0.9874 - val_accuracy: 0.5120\n",
            "Epoch 14/100\n",
            "141/141 [==============================] - 0s 3ms/step - loss: 0.8586 - accuracy: 0.7230 - val_loss: 0.9839 - val_accuracy: 0.5110\n",
            "Epoch 15/100\n",
            "141/141 [==============================] - 0s 3ms/step - loss: 0.8477 - accuracy: 0.7148 - val_loss: 0.9812 - val_accuracy: 0.5150\n",
            "Epoch 16/100\n",
            "141/141 [==============================] - 0s 3ms/step - loss: 0.8414 - accuracy: 0.7154 - val_loss: 0.9790 - val_accuracy: 0.5140\n",
            "Epoch 17/100\n",
            "141/141 [==============================] - 0s 3ms/step - loss: 0.8364 - accuracy: 0.7136 - val_loss: 0.9771 - val_accuracy: 0.5170\n",
            "Epoch 18/100\n",
            "141/141 [==============================] - 0s 3ms/step - loss: 0.8254 - accuracy: 0.7161 - val_loss: 0.9753 - val_accuracy: 0.5190\n",
            "Epoch 19/100\n",
            "141/141 [==============================] - 0s 3ms/step - loss: 0.8150 - accuracy: 0.7216 - val_loss: 0.9737 - val_accuracy: 0.5180\n",
            "Epoch 20/100\n",
            "141/141 [==============================] - 0s 3ms/step - loss: 0.8077 - accuracy: 0.7233 - val_loss: 0.9723 - val_accuracy: 0.5180\n",
            "Epoch 21/100\n",
            "141/141 [==============================] - 0s 2ms/step - loss: 0.7899 - accuracy: 0.7418 - val_loss: 0.9715 - val_accuracy: 0.5200\n",
            "Epoch 22/100\n",
            "141/141 [==============================] - 0s 2ms/step - loss: 0.7875 - accuracy: 0.7308 - val_loss: 0.9710 - val_accuracy: 0.5200\n",
            "Epoch 23/100\n",
            "141/141 [==============================] - 0s 3ms/step - loss: 0.7828 - accuracy: 0.7292 - val_loss: 0.9703 - val_accuracy: 0.5180\n",
            "Epoch 24/100\n",
            "141/141 [==============================] - 0s 3ms/step - loss: 0.7772 - accuracy: 0.7309 - val_loss: 0.9700 - val_accuracy: 0.5210\n",
            "Epoch 25/100\n",
            "141/141 [==============================] - 0s 3ms/step - loss: 0.7755 - accuracy: 0.7280 - val_loss: 0.9699 - val_accuracy: 0.5200\n",
            "Epoch 26/100\n",
            "141/141 [==============================] - 0s 3ms/step - loss: 0.7644 - accuracy: 0.7285 - val_loss: 0.9697 - val_accuracy: 0.5210\n",
            "Epoch 27/100\n",
            "141/141 [==============================] - 0s 2ms/step - loss: 0.7505 - accuracy: 0.7413 - val_loss: 0.9697 - val_accuracy: 0.5200\n",
            "Epoch 28/100\n",
            "141/141 [==============================] - 0s 3ms/step - loss: 0.7514 - accuracy: 0.7373 - val_loss: 0.9701 - val_accuracy: 0.5270\n",
            "Epoch 29/100\n",
            "141/141 [==============================] - 0s 3ms/step - loss: 0.7456 - accuracy: 0.7416 - val_loss: 0.9706 - val_accuracy: 0.5270\n",
            "Epoch 30/100\n",
            "141/141 [==============================] - 0s 3ms/step - loss: 0.7322 - accuracy: 0.7492 - val_loss: 0.9710 - val_accuracy: 0.5240\n"
          ],
          "name": "stdout"
        }
      ]
    },
    {
      "cell_type": "code",
      "metadata": {
        "id": "7Fk1QAdWAfNu",
        "colab": {
          "base_uri": "https://localhost:8080/",
          "height": 265
        },
        "outputId": "2f2f58ef-327d-4313-ff59-5f82a87d8f9e"
      },
      "source": [
        "from matplotlib import pyplot as plt\r\n",
        "plt.plot(history.history['val_loss'])\r\n",
        "\r\n",
        "plt.grid()"
      ],
      "execution_count": 22,
      "outputs": [
        {
          "output_type": "display_data",
          "data": {
            "image/png": "[encoded data removed]",
            "text/plain": [
              "<Figure size 432x288 with 1 Axes>"
            ]
          },
          "metadata": {
            "tags": [],
            "needs_background": "light"
          }
        }
      ]
    },
    {
      "cell_type": "code",
      "metadata": {
        "id": "A5zWdHnGBoLk"
      },
      "source": [
        "y_pred =  similar_sent.predict(x_test)\r\n",
        "\r\n",
        "y_pred = np.argmax(y_pred,axis = -1)"
      ],
      "execution_count": 23,
      "outputs": []
    },
    {
      "cell_type": "code",
      "metadata": {
        "id": "c-ulw0wOCg_S",
        "colab": {
          "base_uri": "https://localhost:8080/"
        },
        "outputId": "586a9a9d-675a-4fd3-8345-a17d93b80503"
      },
      "source": [
        "from sklearn.metrics import classification_report, confusion_matrix, accuracy_score\r\n",
        "print(classification_report(y_pred,y_test))"
      ],
      "execution_count": 24,
      "outputs": [
        {
          "output_type": "stream",
          "text": [
            "              precision    recall  f1-score   support\n",
            "\n",
            "           0       0.51      0.54      0.52       318\n",
            "           1       0.54      0.55      0.55       338\n",
            "           2       0.52      0.48      0.50       344\n",
            "\n",
            "    accuracy                           0.52      1000\n",
            "   macro avg       0.52      0.52      0.52      1000\n",
            "weighted avg       0.52      0.52      0.52      1000\n",
            "\n"
          ],
          "name": "stdout"
        }
      ]
    },
    {
      "cell_type": "code",
      "metadata": {
        "id": "EQmZ9NJ1C4m0"
      },
      "source": [
        "from keras.preprocessing.text import Tokenizer\r\n",
        "from keras.preprocessing.sequence import pad_sequences\r\n"
      ],
      "execution_count": 45,
      "outputs": []
    },
    {
      "cell_type": "code",
      "metadata": {
        "colab": {
          "base_uri": "https://localhost:8080/"
        },
        "id": "ETzyJSIqWHli",
        "outputId": "d28048a9-1164-41ce-fb4a-a836c600ace2"
      },
      "source": [
        "#text1 \r\n",
        "tokenizer1 = Tokenizer()\r\n",
        "tokenizer1.fit_on_texts(text1)\r\n",
        "sequences1 = tokenizer1.texts_to_sequences(text1)\r\n",
        "sent1 = pad_sequences(sequences1, maxlen=20,padding='post')\r\n",
        "print('first sentence :',sent1.shape)\r\n",
        "# text1 dict\r\n",
        "\r\n",
        "word_index1 = tokenizer1.word_index\r\n",
        "print(word_index1)\r\n",
        "_dict_dim1 = len(word_index1) + 1\r\n",
        "print('sentence1 dict dim : ',_dict_dim1)\r\n",
        "\r\n",
        "\r\n"
      ],
      "execution_count": 46,
      "outputs": [
        {
          "output_type": "stream",
          "text": [
            "first sentence : (1000, 20)\n",
            "{'a': 1, 'man': 2, 'two': 3, 'woman': 4, 'people': 5, 'wearing': 6, 'shirt': 7, 'young': 8, 'white': 9, 'black': 10, 'blue': 11, 'red': 12, 'standing': 13, 'sitting': 14, 'girl': 15, 'dog': 16, 'playing': 17, 'boy': 18, 'men': 19, 'holding': 20, 'street': 21, 'one': 22, 'group': 23, 'water': 24, 'walking': 25, 'front': 26, 'green': 27, 'outside': 28, 'women': 29, 'three': 30, 'child': 31, 'little': 32, 'yellow': 33, 'brown': 34, 'person': 35, 'building': 36, 'large': 37, 'another': 38, 'looking': 39, 'beach': 40, 'background': 41, 'running': 42, 'dressed': 43, 'hat': 44, 'riding': 45, 'children': 46, 'an': 47, 'girls': 48, 'small': 49, 'field': 50, 'hair': 51, 'the': 52, 'jacket': 53, 'ball': 54, 'snow': 55, 'next': 56, 'shorts': 57, 'working': 58, 'looks': 59, 'grass': 60, 'dress': 61, 'dogs': 62, 'sidewalk': 63, 'pants': 64, 'table': 65, 'stand': 66, 'jumping': 67, 'gray': 68, 'female': 69, 'hand': 70, 'city': 71, 'asian': 72, 'near': 73, 'behind': 74, 'orange': 75, 'face': 76, 'camera': 77, 'bike': 78, 'top': 79, 'something': 80, 'around': 81, 'lady': 82, 'horse': 83, 'car': 84, 'smiling': 85, 'air': 86, 'guy': 87, 'plays': 88, 'park': 89, 'talking': 90, 'glasses': 91, 'mouth': 92, 'game': 93, 'football': 94, 'player': 95, 'together': 96, 'uniform': 97, 'performing': 98, 'crowd': 99, 'sand': 100, 'four': 101, 'boys': 102, 'there': 103, 'back': 104, 'across': 105, 'construction': 106, 'bicycle': 107, 'along': 108, 'restaurant': 109, 'sign': 110, 'walk': 111, 'stands': 112, 'using': 113, 'sit': 114, 'jeans': 115, 'bench': 116, 'long': 117, 'taking': 118, 'dark': 119, 'covered': 120, 'holds': 121, 'pink': 122, 'room': 123, 'walks': 124, 'watches': 125, 'soccer': 126, 'baby': 127, 'head': 128, 'watching': 129, 'microphone': 130, 'sits': 131, 'male': 132, 'runs': 133, 'several': 134, 'drinking': 135, 'baseball': 136, 'boat': 137, 'many': 138, 'colorful': 139, 'dirt': 140, 'striped': 141, 'cleaning': 142, 'helmet': 143, 'picture': 144, 'older': 145, 'ocean': 146, 'pool': 147, 'reading': 148, 'ground': 149, 'look': 150, 'jumps': 151, 'bridge': 152, 'floor': 153, 'towards': 154, 'worker': 155, 'jump': 156, 'eating': 157, 'shirts': 158, 'window': 159, 'stage': 160, 'race': 161, 'guitar': 162, 'ice': 163, 'purple': 164, 'side': 165, 'carrying': 166, 'five': 167, 'wall': 168, 'fence': 169, 'food': 170, 'suit': 171, 'climbing': 172, 'truck': 173, 'bottle': 174, 'rock': 175, 'light': 176, 'basketball': 177, 'subway': 178, 'work': 179, 'np': 180, 'lake': 181, 'open': 182, 'cooking': 183, 'left': 184, 'swimming': 185, 'rides': 186, 'eyes': 187, 'mountain': 188, 'band': 189, 'clothing': 190, 'day': 191, 'hands': 192, 'set': 193, 'waiting': 194, 'trees': 195, 'display': 196, 'in': 197, 'middle': 198, 'train': 199, 'uses': 200, 'plaid': 201, 'getting': 202, 'umbrella': 203, 'kids': 204, 'making': 205, 'desk': 206, 'cart': 207, 'chair': 208, 'hanging': 209, 'toddler': 210, 'market': 211, 'instruments': 212, 'store': 213, 'away': 214, 'cap': 215, 'blond': 216, 'dock': 217, 'catch': 218, 'coat': 219, 'river': 220, 'tank': 221, 'wooden': 222, 'bag': 223, 'paper': 224, 'painting': 225, 'stick': 226, 'apron': 227, 'someone': 228, 'attempting': 229, 'wood': 230, 'watch': 231, 'hill': 232, 'high': 233, 'cars': 234, 'bus': 235, 'biker': 236, 'ride': 237, 'kicking': 238, 'foot': 239, 'staring': 240, 'rocky': 241, 'chairs': 242, 'cowboy': 243, 'hats': 244, 'past': 245, 'play': 246, 'steps': 247, 'beside': 248, 'laying': 249, 'guys': 250, 'lined': 251, 'kitchen': 252, 'drink': 253, 'costume': 254, 'parked': 255, 'piece': 256, 'carries': 257, 'dancing': 258, 'african': 259, 'area': 260, 'computer': 261, 'swing': 262, 'beard': 263, 'outdoors': 264, 'full': 265, 'skirt': 266, 'hard': 267, 'singing': 268, 'shopping': 269, 'fire': 270, 'team': 271, 'arms': 272, 'selling': 273, 'father': 274, 'get': 275, 'leaning': 276, 'big': 277, 'rope': 278, 'toy': 279, 'sunglasses': 280, 'lot': 281, 'workers': 282, 'adult': 283, 'motorcycle': 284, 'view': 285, 'clothes': 286, 'pictures': 287, 'observe': 288, 'pole': 289, 'outfit': 290, 'cellphone': 291, 'busy': 292, 'others': 293, 'fish': 294, 'help': 295, 'book': 296, 'backpack': 297, 'bright': 298, 'bikini': 299, 'track': 300, 'machine': 301, 'gathering': 302, 'adults': 303, 'cream': 304, 'school': 305, 'number': 306, 'sweatshirt': 307, 'bubbles': 308, 'hockey': 309, 'bikes': 310, 'lap': 311, 'pose': 312, 'arm': 313, 'board': 314, 'tree': 315, 'snowy': 316, 'horses': 317, 'luggage': 318, 'snowboarder': 319, 'place': 320, 'lots': 321, 'ready': 322, 'cigarette': 323, 'sweater': 324, 'trunks': 325, 'plastic': 326, 'run': 327, 'jackets': 328, 'graffiti': 329, 'couple': 330, 'event': 331, 'picnic': 332, 'some': 333, 'frisbee': 334, 'audience': 335, 'stone': 336, 'legs': 337, 'pile': 338, 'surfing': 339, 'surfboard': 340, 'sleeping': 341, 'right': 342, 'vest': 343, 'elderly': 344, 'happy': 345, 'concert': 346, 'son': 347, 'bandanna': 348, 'painted': 349, 'wave': 350, 'also': 351, 'family': 352, 'police': 353, 'rocks': 354, 'tent': 355, 'sky': 356, 'road': 357, 'cafe': 358, 'trail': 359, 'shown': 360, 'mother': 361, 'cross': 362, 'rodeo': 363, 'males': 364, 'fishing': 365, 'body': 366, 'fruit': 367, 'yard': 368, 'like': 369, 'grassy': 370, 'items': 371, 'corner': 372, 'setting': 373, 'night': 374, 'foreground': 375, 'phone': 376, 'takes': 377, 'posing': 378, 'sandals': 379, 'bar': 380, 'umbrellas': 381, 'vp': 382, 'dt': 383, 'canoe': 384, 'dance': 385, 'brick': 386, 'railing': 387, 'covering': 388, 'says': 389, 'competition': 390, 'grill': 391, 'members': 392, 'accordion': 393, 'motorcycles': 394, 'shoes': 395, 'jumpsuit': 396, 'works': 397, 'blowing': 398, 'players': 399, 'driving': 400, 'obstacle': 401, 'held': 402, 'flies': 403, 'teams': 404, 'distance': 405, 'individuals': 406, 'metal': 407, 'student': 408, 'kick': 409, 'break': 410, 'tire': 411, 'friend': 412, 'line': 413, 'cyclist': 414, 'bride': 415, 'mountains': 416, 'makeup': 417, 'six': 418, 'closed': 419, 'speaking': 420, 'skateboarder': 421, 'teenage': 422, 'winter': 423, 'old': 424, 'backyard': 425, 'short': 426, 'sleeves': 427, 'intently': 428, 'streets': 429, 'pouring': 430, 'empty': 431, 'bicycles': 432, 'feet': 433, 'bathing': 434, 'khaki': 435, 'rowboat': 436, 'type': 437, 'papers': 438, 'helmets': 439, 'show': 440, 'fluffy': 441, 'woods': 442, 'drums': 443, 'onto': 444, 'inside': 445, 'balloons': 446, 'talks': 447, 'shore': 448, 'photo': 449, 'fun': 450, 'coats': 451, 'vendor': 452, 'giving': 453, 'basket': 454, 'catching': 455, 'oriental': 456, 'leaves': 457, 'court': 458, 'object': 459, 'computers': 460, 'gold': 461, 'cone': 462, 'device': 463, 'rests': 464, 'bunch': 465, 'this': 466, 'statue': 467, 'museum': 468, 'art': 469, 'signs': 470, 'boots': 471, 'sun': 472, 'suits': 473, 'new': 474, 'station': 475, 'appears': 476, 'helps': 477, 'path': 478, 'gloves': 479, 'throwing': 480, 'overhead': 481, 'atop': 482, 'smoking': 483, 'cow': 484, 'trash': 485, 'business': 486, 'pushing': 487, 'hole': 488, 'drinks': 489, 'coffee': 490, 'putting': 491, 'mirror': 492, 'pointing': 493, 'airplane': 494, 'site': 495, 'calm': 496, 'showing': 497, 'crossing': 498, 'nearby': 499, 'volleyball': 500, 'diving': 501, 'splashing': 502, 'friends': 503, 'flag': 504, 'mill': 505, 'balls': 506, 'tan': 507, 'catcher': 508, 'coming': 509, 'teacher': 510, 'dancer': 511, 'rail': 512, 'shirtless': 513, 'lawn': 514, 'time': 515, 'parade': 516, 's': 517, 'pp': 518, 'nn': 519, 'acting': 520, 'fight': 521, 'scene': 522, 'costumes': 523, 'heels': 524, 'toward': 525, 'landscape': 526, 'life': 527, 'riverbank': 528, 'watched': 529, 'onlookers': 530, 'cup': 531, 'heart': 532, 'dancers': 533, 'action': 534, 'competing': 535, 'instructs': 536, 'thrown': 537, 'guard': 538, 'trolley': 539, 'crosswalk': 540, 'dune': 541, 'brightly': 542, 'leather': 543, 'crowded': 544, 'bottom': 545, 'seven': 546, 'sink': 547, 'pulls': 548, 'laden': 549, 'indian': 550, 'partially': 551, 'candy': 552, 'course': 553, 'waiter': 554, 'going': 555, 'trick': 556, 'horn': 557, 'classroom': 558, 'made': 559, 'cots': 560, 'hoodie': 561, 'take': 562, 'cello': 563, 'video': 564, 'attached': 565, 'spinning': 566, 'groom': 567, 'kissing': 568, 'neck': 569, 'faces': 570, 'pier': 571, 'sack': 572, 'concrete': 573, 'doctor': 574, 'flower': 575, 'marathon': 576, 'cutting': 577, 'scissors': 578, 'scuba': 579, 'class': 580, 'gathered': 581, 'smoke': 582, 'forty': 583, 'falling': 584, 'box': 585, 'dinner': 586, 'tub': 587, 'among': 588, 'cliff': 589, 'blankets': 590, 'lying': 591, 'athletic': 592, 'apparel': 593, 'waterfront': 594, 'fetching': 595, 'colored': 596, 'performer': 597, 'keyboard': 598, 'counter': 599, 'illuminated': 600, 'outdoor': 601, 'shows': 602, 'roof': 603, 'cellphones': 604, 'places': 605, 'rider': 606, 'woven': 607, 'firefighters': 608, 'firetruck': 609, 'navy': 610, 'nice': 611, 'strip': 612, 'modern': 613, 'baskets': 614, 'smile': 615, 'balancing': 616, 'beautiful': 617, 'fallen': 618, 'customers': 619, 'giant': 620, 'passing': 621, 'use': 622, 'lighter': 623, 'cook': 624, 'runner': 625, 'alone': 626, 'center': 627, 'laundry': 628, 'opposing': 629, 'dirty': 630, 'converse': 631, 'rabbit': 632, 'heavy': 633, 'snowball': 634, 'shoe': 635, 'tool': 636, 'drawing': 637, 'midair': 638, 'urban': 639, 'tourists': 640, 'eats': 641, 'drive': 642, 'gas': 643, 'caught': 644, 'tourist': 645, 'goes': 646, 'exit': 647, 'scarf': 648, 'different': 649, 'tube': 650, 'animals': 651, 'hiking': 652, 'creek': 653, 'books': 654, 'venue': 655, 'golden': 656, 'newborn': 657, 'bath': 658, 'gets': 659, 'stylish': 660, 'poodle': 661, 'party': 662, 'backwards': 663, 'position': 664, 'dilapidated': 665, 'shoulders': 666, 'pulling': 667, 'leash': 668, 'glittery': 669, 'wear': 670, 'silver': 671, 'squats': 672, 'shovel': 673, 'color': 674, 'hose': 675, 'hit': 676, 'scaffold': 677, 'skate': 678, 'shop': 679, 'cane': 680, 'ironing': 681, 'whose': 682, 'bottoms': 683, 'surf': 684, 'younger': 685, 'without': 686, 'prepare': 687, 'mid': 688, 'fountain': 689, 'newspaper': 690, 'completing': 691, 'photographers': 692, 'country': 693, 'gear': 694, 'bags': 695, 'leans': 696, 'low': 697, 'straw': 698, 'couch': 699, 'attire': 700, 'filled': 701, 'meat': 702, 'enjoys': 703, 'hula': 704, 'hoops': 705, 'writing': 706, 'tries': 707, 'host': 708, 'series': 709, 'engine': 710, 'marching': 711, 'plants': 712, 'stained': 713, 'glass': 714, 'bent': 715, 'forest': 716, 'tables': 717, 'american': 718, 'flags': 719, 'paddles': 720, 'enjoying': 721, 'he': 722, 'blows': 723, 'hugging': 724, 'blurry': 725, 'waters': 726, 'fixing': 727, 'edge': 728, 'pieces': 729, 'stuffed': 730, 'bird': 731, 'chasing': 732, 'telescope': 733, 'cute': 734, 'brass': 735, 'falls': 736, 'bowling': 737, 'towel': 738, 'make': 739, 'at': 740, 'elephant': 741, 'throw': 742, 'seated': 743, 'barrier': 744, 'portable': 745, 'waves': 746, 'hospital': 747, 'bed': 748, 'animal': 749, 'christmas': 750, 'hot': 751, 'sunny': 752, 'conversation': 753, 'preparing': 754, 'grills': 755, 'consisting': 756, 'downhill': 757, 'tennis': 758, 'skier': 759, 'skiing': 760, 'rainbow': 761, 'decorated': 762, 'beer': 763, 'tarp': 764, 'waits': 765, 'parking': 766, 'girlfriend': 767, 'squirting': 768, 'bear': 769, 'skateboard': 770, 'sleeveless': 771, 'moving': 772, 'swims': 773, 'pulled': 774, 'deck': 775, 'pretty': 776, 'curly': 777, 'enclosed': 778, 'jersey': 779, 'sticks': 780, 'balcony': 781, 'loading': 782, 'underneath': 783, 'ladies': 784, 'ballet': 785, 'perform': 786, 'bank': 787, 'poses': 788, 'mask': 789, 'robe': 790, 'stadium': 791, 'push': 792, 'guitarist': 793, 'moves': 794, 'asphalt': 795, 'jean': 796, 'smiles': 797, 'meal': 798, 'seat': 799, 'gymnasium': 800, 'bull': 801, 'bearded': 802, 'wet': 803, 'bat': 804, 'vbg': 805, 'fencing': 806, 'sweeping': 807, 'sing': 808, 'rakes': 809, 'planks': 810, 'examining': 811, 'backpacker': 812, 'foggy': 813, 'beached': 814, 'celebrate': 815, 'gathers': 816, 'docked': 817, 'equipped': 818, 'saver': 819, 'seaside': 820, 'firemen': 821, 'spraying': 822, 'mound': 823, 'drawn': 824, 'bollywood': 825, 'skaters': 826, 'speed': 827, 'skating': 828, 'turning': 829, 'arrow': 830, 'go': 831, 'chest': 832, 'coast': 833, 'manning': 834, 'mounted': 835, 'gun': 836, 'tall': 837, 'stopped': 838, 'pedestrian': 839, 'hurdle': 840, 'musicians': 841, 'violin': 842, 'sundaes': 843, 'stride': 844, 'explaining': 845, 'touching': 846, 'ten': 847, 'illinois': 848, 'aiming': 849, 'odd': 850, 'railroad': 851, 'snoopy': 852, 'washing': 853, 'sprayer': 854, 'heavily': 855, 'supplies': 856, 'cobblestone': 857, 'dumps': 858, 'submerged': 859, 'ref': 860, 'goals': 861, 'pull': 862, 'flowers': 863, 'sheltie': 864, 'stroke': 865, 'roped': 866, 'areas': 867, 'diners': 868, 'served': 869, 'coastline': 870, 'microphones': 871, 'pigs': 872, 'roasting': 873, 'pit': 874, 'calvin': 875, 'klein': 876, 'steel': 877, 'featuring': 878, 'extends': 879, 'panel': 880, 'speak': 881, 'institute': 882, 'politics': 883, 'democracy': 884, 'internet': 885, 'pass': 886, 'opposite': 887, 'direction': 888, 'students': 889, 'whiteboard': 890, 'discussion': 891, 'downward': 892, 'karate': 893, 'instructor': 894, 'tied': 895, 'stumps': 896, 'twilight': 897, 'maneuvering': 898, 'terrain': 899, 'telephone': 900, 'wires': 901, 'visible': 902, 'weld': 903, 'seam': 904, 'joining': 905, 'coupling': 906, 'flat': 907, 'repairing': 908, 'could': 909, 'waited': 910, 'tuba': 911, 'grocery': 912, 'facing': 913, 'squeezing': 914, 'airport': 915, 'jogs': 916, 'vanishes': 917, 'fan': 918, 'placing': 919, 'traveling': 920, 'escalator': 921, 'photographed': 922, 'jogging': 923, 'kiosk': 924, 'public': 925, 'knee': 926, 'pads': 927, 'elbow': 928, 'pad': 929, 'kneeing': 930, 'shoulder': 931, 'engage': 932, 'potato': 933, 'surface': 934, 'seen': 935, 'photograph': 936, 'dive': 937, 'given': 938, 'medical': 939, 'check': 940, 'silhouette': 941, 'cluttered': 942, 'english': 943, 'badminton': 944, 'gather': 945, 'rocking': 946, 'dominoes': 947, 'focuses': 948, 'gardening': 949, 'pushes': 950, 'signboards': 951, 'covers': 952, 'runners': 953, 'roulette': 954, 'celebrating': 955, 'dolly': 956, 'passed': 957, 'waterfall': 958, 'motorcyclist': 959, 'stops': 960, 'thirty': 961, 'flooded': 962, 'pavement': 963, 'climber': 964, 'hangs': 965, 'bricked': 966, 'juggling': 967, 'nightclub': 968, 'skater': 969, 'climbs': 970, 'jungle': 971, 'gym': 972, 'eight': 973, 'furry': 974, 'toys': 975, 'spiky': 976, 'barefoot': 977, 'clear': 978, 'second': 979, 'soft': 980, 'wrestling': 981, 'referee': 982, 'scantily': 983, 'tying': 984, 'straps': 985, 'typing': 986, 'blending': 987, 'soaking': 988, 'tiny': 989, 'bathtub': 990, 'bathroom': 991, 'candle': 992, 'wine': 993, 'slow': 994, 'rvs': 995, 'surgeon': 996, 'patient': 997, 'surgical': 998, 'tools': 999, 'ears': 1000, 'flapping': 1001, 'breeze': 1002, 'sends': 1003, 'text': 1004, 'message': 1005, 'tuxedo': 1006, 'hi': 1007, 'performers': 1008, 'beat': 1009, 'tribal': 1010, 'matching': 1011, 'garb': 1012, 'toddlers': 1013, 'swinging': 1014, 'skillet': 1015, 'scaffolding': 1016, 'anchor': 1017, 'posters': 1018, 'carrots': 1019, 'casserole': 1020, 'classmates': 1021, 'courtyard': 1022, 'descent': 1023, 'semi': 1024, 'circle': 1025, 'texts': 1026, 'will': 1027, 'win': 1028, 'vast': 1029, 'lace': 1030, 'jewish': 1031, 'collar': 1032, 'grinds': 1033, 'flour': 1034, 'stones': 1035, 'rain': 1036, 'knit': 1037, 'paris': 1038, 'cuddling': 1039, 'challenges': 1040, 'skateboarding': 1041, 'mostly': 1042, 'rehearsal': 1043, 'tongue': 1044, 'teeth': 1045, 'scooter': 1046, 'built': 1047, 'oranges': 1048, 'mom': 1049, 'ethnic': 1050, 'headpiece': 1051, 'dialect': 1052, 'holiday': 1053, 'okay': 1054, 'symbol': 1055, 'paddle': 1056, 'rough': 1057, 'passerby': 1058, 'free': 1059, 'b': 1060, 'letters': 1061, 'evening': 1062, 'splashed': 1063, 'shoeing': 1064, 'reclines': 1065, 'duck': 1066, 'reflective': 1067, 'campers': 1068, 'coal': 1069, 'vibrant': 1070, 'stores': 1071, 'hides': 1072, 'volunteers': 1073, 'booth': 1074, 'lines': 1075, 'string': 1076, 'verified': 1077, 'colleague': 1078, 'living': 1079, 'folding': 1080, 'piles': 1081, 'tackling': 1082, 'opponent': 1083, 'rainy': 1084, 'structure': 1085, 'counters': 1086, 'wineglasses': 1087, 'officers': 1088, 'asleep': 1089, 'alley': 1090, 'oboe': 1091, 'percussion': 1092, 'spectators': 1093, 'containing': 1094, 'lips': 1095, 'fenced': 1096, 'wrong': 1097, 'end': 1098, 'stairs': 1099, 'missing': 1100, 'drilling': 1101, 'labeled': 1102, 'superior': 1103, 'walls': 1104, 'diver': 1105, 'van': 1106, 'hydrant': 1107, 'saxophone': 1108, 'laptop': 1109, 'column': 1110, 'gokart': 1111, 'moto': 1112, 'rent': 1113, 'colonia': 1114, 'button': 1115, 'seeds': 1116, 'vegetables': 1117, 'camping': 1118, 'fall': 1119, 'shoppers': 1120, 'bistro': 1121, 'lovers': 1122, 'ebb': 1123, 'flow': 1124, 'representative': 1125, 'discussing': 1126, 'benefactor': 1127, 'gotten': 1128, 'especially': 1129, 'exciting': 1130, 'exemplary': 1131, 'numbered': 1132, 'cat': 1133, 'spots': 1134, 'crossed': 1135, 'barn': 1136, 'linking': 1137, 'kinds': 1138, 'donuts': 1139, 'points': 1140, 'perhaps': 1141, 'tackle': 1142, 'float': 1143, 'inflatable': 1144, 'aggressive': 1145, 'examine': 1146, 'menu': 1147, 'hood': 1148, 'windows': 1149, 'suspended': 1150, 'various': 1151, 'retriever': 1152, 'screens': 1153, 'martial': 1154, 'arts': 1155, 'pins': 1156, 'kimonos': 1157, 'sashes': 1158, 'laughing': 1159, 'lumberjack': 1160, 'security': 1161, 'cuts': 1162, 'broom': 1163, 'flannel': 1164, 'chiseling': 1165, 'cement': 1166, 'waterskiing': 1167, 'females': 1168, 'acrobatically': 1169, 'cartwheel': 1170, 'bending': 1171, 'sullen': 1172, 'sash': 1173, 'contestent': 1174, 'drug': 1175, 'fairy': 1176, 'wings': 1177, 'pause': 1178, 'review': 1179, 'office': 1180, 'fruits': 1181, 'space': 1182, 'sharing': 1183, 'passionate': 1184, 'kiss': 1185, 'net': 1186, 'far': 1187, 'tide': 1188, 'comes': 1189, 'pinata': 1190, 'gravely': 1191, 'erected': 1192, 'transvestite': 1193, 'vehicle': 1194, 'racer': 1195, 'camouflage': 1196, 'mows': 1197, 'hippies': 1198, 'talk': 1199, 'bicycling': 1200, 'rollers': 1201, 'dusk': 1202, 'storage': 1203, 'cut': 1204, 'sleeve': 1205, 'handheld': 1206, 'electronic': 1207, 'money': 1208, 'verizon': 1209, 'fabric': 1210, 'suspiciously': 1211, 'relaxing': 1212, 'valley': 1213, 'haircut': 1214, 'butcher': 1215, 'knife': 1216, 'carve': 1217, 'carcass': 1218, 'joking': 1219, 'soldiers': 1220, 'deli': 1221, 'trampoline': 1222, 'cleans': 1223, 'hacky': 1224, 'kneeling': 1225, 'shade': 1226, 'industrial': 1227, 'fatigue': 1228, 'balding': 1229, 'billboard': 1230, 'plant': 1231, 'cityscape': 1232, 'process': 1233, 'ledge': 1234, 'marble': 1235, 'eyeglasses': 1236, 'synchronized': 1237, 'ballerinas': 1238, 'record': 1239, 'flight': 1240, 'enter': 1241, 'raft': 1242, 'outstretched': 1243, 'backs': 1244, 'appear': 1245, 'stroller': 1246, 'project': 1247, 'contained': 1248, 'garbage': 1249, 'dyed': 1250, 'restaurants': 1251, 'hiker': 1252, 'superman': 1253, 'designer': 1254, 'motif': 1255, 'award': 1256, 'ceremony': 1257, 'honoring': 1258, 'bottled': 1259, 'lies': 1260, 'stomach': 1261, 'military': 1262, 'surrounded': 1263, 'deflated': 1264, 'machinery': 1265, 'digs': 1266, 'skid': 1267, 'loader': 1268, 'jumper': 1269, 'congregate': 1270, 'puts': 1271, 'pan': 1272, 'sauce': 1273, 'garnished': 1274, 'lemon': 1275, 'geisha': 1276, 'salesman': 1277, 'meats': 1278, 'slowly': 1279, 'microscope': 1280, 'taken': 1281, 'shot': 1282, 'block': 1283, 'harness': 1284, 'wax': 1285, 'figurine': 1286, 'engineers': 1287, 'doorway': 1288, 'rafting': 1289, 'rapids': 1290, 'thin': 1291, 'fours': 1292, 'parts': 1293, 'dishes': 1294, 'buffet': 1295, 'stoplight': 1296, 'meet': 1297, 'already': 1298, 'started': 1299, 'tractor': 1300, 'herds': 1301, 'sheep': 1302, 'carver': 1303, 'chisel': 1304, 'carving': 1305, 'hammer': 1306, 'sorts': 1307, 'safety': 1308, 'goggles': 1309, 'segway': 1310, 'personal': 1311, 'transportation': 1312, 'blind': 1313, 'detect': 1314, 'things': 1315, 'corgi': 1316, 'tunnel': 1317, 'benches': 1318, 'root': 1319, 'nnp': 1320, 'peopl': 1321, 'mushroom': 1322, 'present': 1323, 'dropped': 1324, 'alcoholic': 1325, 'beverage': 1326, 'companion': 1327, 'sleds': 1328, 'shops': 1329, 'tattooed': 1330, 'digital': 1331, 'native': 1332, 'americans': 1333, 'temple': 1334, 'feeding': 1335, 'ducks': 1336, 'kayaking': 1337, 'festival': 1338, 'boats': 1339, 'yet': 1340, 'chatting': 1341, 'turns': 1342, 'sideways': 1343, 'pilot': 1344, 'bends': 1345, 'carry': 1346, 'hikers': 1347, 'mimes': 1348, 'mime': 1349, 'community': 1350, 'climb': 1351, 'scoop': 1352, 'calf': 1353, 'studying': 1354, 'hang': 1355, 'glider': 1356, 'pigtails': 1357, 'spread': 1358, 'warning': 1359, 'compositional': 1360, 'notebook': 1361, 'compartment': 1362, 'lifted': 1363, 'handstands': 1364, 'cellular': 1365, 'religious': 1366, 'protester': 1367, 'expresses': 1368, 'displeasure': 1369, 'political': 1370, 'violence': 1371, 'taiwan': 1372, 'medieval': 1373, 'robes': 1374, 'wind': 1375, 'competitive': 1376, 'possession': 1377, 'swings': 1378, 'meters': 1379, 'congregating': 1380, 'pavilion': 1381, 'humorous': 1382, 'wedding': 1383, 'cake': 1384, 'husband': 1385, 'turban': 1386, 'dj': 1387, 'mic': 1388, 'rallies': 1389, 'least': 1390, 'swim': 1391, 'shallow': 1392, 'grows': 1393, 'deeps': 1394, 'milling': 1395, 'answer': 1396, 'canyon': 1397, 'outing': 1398, 'escalators': 1399, 'feed': 1400, 'highchair': 1401, 'carnival': 1402, 'step': 1403, 'cold': 1404, 'cloudy': 1405, 'bib': 1406, 'embedded': 1407, 'roasts': 1408, 'pig': 1409, 'crawling': 1410, 'lost': 1411, 'desert': 1412, 'nothing': 1413, 'mattress': 1414, 'maps': 1415, 'gown': 1416, 'muslim': 1417, 'seashore': 1418, 'oxygen': 1419, 'tubes': 1420, 'nose': 1421, 'mechanics': 1422, 'drag': 1423, 'racing': 1424, 'services': 1425, 'rod': 1426, 'dragster': 1427, 'bite': 1428, 'apple': 1429, 'closes': 1430, 'function': 1431, 'traditional': 1432, 'braiding': 1433, 'funny': 1434, 'assorted': 1435, 'filet': 1436, 'parachutes': 1437, 'landed': 1438, 'pillows': 1439, 'transporting': 1440, 'destination': 1441, 'arena': 1442, 'chipping': 1443, 'mess': 1444, 'decorative': 1445, 'naked': 1446, 'stool': 1447, 'sparse': 1448, 'clouds': 1449, 'batter': 1450, 'umpire': 1451, 'spherical': 1452, 'engaged': 1453, 'courage': 1454, 'daring': 1455, 'leading': 1456, 'racetrack': 1457, 'sculpting': 1458, 'bored': 1459, 'snowboard': 1460, 'travels': 1461, 'stop': 1462, 'backlit': 1463, 'ollies': 1464, 'onlooking': 1465, 'prince': 1466, 'speckled': 1467, 'headband': 1468, 'torch': 1469, 'sort': 1470, 'motorman': 1471, 'isle': 1472, 'fluid': 1473, 'charcoal': 1474, 'coals': 1475, 'including': 1476, 'communication': 1477, 'polo': 1478, 'automobile': 1479, 'slides': 1480, 'slide': 1481, 'occupy': 1482, 'probably': 1483, 'patrick': 1484, 'screen': 1485, 'stream': 1486, 'aims': 1487, 'hoop': 1488, 'painters': 1489, 'railings': 1490, 'asia': 1491, 'poodles': 1492, 'leashes': 1493, 'crane': 1494, 'boxed': 1495, 'shaped': 1496, 'item': 1497, 'wok': 1498, 'sled': 1499, 'plank': 1500, 'storefront': 1501, 'infant': 1502, 'bamboo': 1503, 'bucking': 1504, 'bicyclist': 1505, 'shades': 1506, 'slopes': 1507, 'beige': 1508, 'playgym': 1509, 'bishop': 1510, 'ashes': 1511, 'forehead': 1512, 'cocktail': 1513, 'cork': 1514, 'plugs': 1515, 'forming': 1516, 'wheeled': 1517, 'wheelchair': 1518, 'bookstore': 1519, 'star': 1520, 'passes': 1521, 'stocky': 1522, 'waving': 1523, 'dried': 1524, 'corn': 1525, 'stalks': 1526, 'assisting': 1527, 'objects': 1528, 'followed': 1529, 'with': 1530, 'i': 1531, 'pokes': 1532, 'farm': 1533, 'facial': 1534, 'expressions': 1535, 'close': 1536, 'kicks': 1537, 'snowboarders': 1538, 'ski': 1539, 'lift': 1540, 'purse': 1541, 'listening': 1542, 'assists': 1543, 'lab': 1544, 'wilderness': 1545, 'daytime': 1546, 'image': 1547, 'columned': 1548, 'javelin': 1549, 'brunette': 1550, 'scrubs': 1551, 'surgery': 1552, 'bunny': 1553, 'wait': 1554, 'excited': 1555, 'narrow': 1556, 'wheels': 1557, 'hillside': 1558, 'cowboys': 1559, 'whiskey': 1560, 'trots': 1561, 'oklahoma': 1562, 'scent': 1563, 'tea': 1564, 'halloween': 1565, 'spiderman': 1566, 'hammock': 1567, 'printed': 1568, 'multiple': 1569, 'striking': 1570, 'caps': 1571, 'react': 1572, 'kitten': 1573, 'graphic': 1574, 'saddle': 1575, 'mane': 1576, 'breathing': 1577, 'chocolate': 1578, 'balances': 1579, 'snowboarding': 1580, 'crafts': 1581, 'grimacing': 1582, 'clipper': 1583, 'well': 1584, 'casually': 1585, 'california': 1586, 'quarterback': 1587, 'throws': 1588, 'receiver': 1589, 'pursued': 1590, 'stanford': 1591, 'defense': 1592, 'fifth': 1593, 'daughters': 1594, 'attired': 1595, 'kettle': 1596, 'patrons': 1597, 'chat': 1598, 'dine': 1599, 'skinny': 1600, 'falcon': 1601, 'resting': 1602, 'preoccupied': 1603, 'headwear': 1604, 'waitress': 1605, 'tray': 1606, 'neon': 1607, 'clown': 1608, 'struggle': 1609, 'igloo': 1610, 'dangling': 1611, 'overlook': 1612, 'trying': 1613, 'aquarium': 1614, 'clasps': 1615, 'eastern': 1616, 'drummer': 1617, 'lit': 1618, 'lightning': 1619, 'reddish': 1620, 'cattle': 1621, 'skull': 1622, 'fixture': 1623, 'glove': 1624, 'overlooking': 1625, 'wheelbarrow': 1626, 'messy': 1627, 'treat': 1628, 'experienced': 1629, 'boulder': 1630, 'kart': 1631, 'wheel': 1632, 'overalls': 1633, 'changing': 1634, 'skeleton': 1635, 'optimistic': 1636, 'rushes': 1637, 'bmx': 1638, 'good': 1639, 'exercising': 1640, 'cheek': 1641, 'penalty': 1642, 'drenched': 1643, 'strollers': 1644, 'enjoy': 1645, 'music': 1646, 'schoolgirls': 1647, 'uniforms': 1648, 'march': 1649, 'participants': 1650, 'bystanders': 1651, 'leotard': 1652, 'hugged': 1653, 'else': 1654, 'painter': 1655, 'completed': 1656, 'majority': 1657, 'nap': 1658, 'makeshift': 1659, 'rip': 1660, 'shines': 1661, 'roller': 1662, 'coaster': 1663, 'frisk': 1664, 'santa': 1665, 'scatteredly': 1666, 'placed': 1667, 'fill': 1668, 'trim': 1669, 'doors': 1670, 'individual': 1671, 'directly': 1672, 'passion': 1673, 'washed': 1674, 'outfits': 1675, 'employees': 1676, 'dinnertime': 1677, 'wrist': 1678, 'paintball': 1679, 'fuselage': 1680, 'aging': 1681, 'jet': 1682, 'aircraft': 1683, 'makes': 1684, 'cry': 1685, 'platform': 1686, 'reversed': 1687, 'filing': 1688, 'cabinets': 1689, 'butterflies': 1690, 'drives': 1691, 'bulldozer': 1692, 'headphones': 1693, 'hooking': 1694, 'home': 1695, 'veteran': 1696, 'bearers': 1697, 'presenting': 1698, 'grandmother': 1699, 'grandchild': 1700, 'crouching': 1701, 'pigeons': 1702, 'scientist': 1703, 'tablet': 1704, 'wonders': 1705, 'science': 1706, 'intrigued': 1707, 'viewers': 1708, 'crocs': 1709, 'finishes': 1710, 'last': 1711, 'touch': 1712, 'sculpture': 1713, 'unison': 1714, 'branch': 1715, 'walkway': 1716, 'tilted': 1717, 'germany': 1718, 'material': 1719, 'cloth': 1720, 'tired': 1721, 'rest': 1722, 'couches': 1723, 'smokes': 1724, 'tricycle': 1725, 'scottish': 1726, 'bagpipers': 1727, 'statute': 1728, 'predominantly': 1729, 'pounces': 1730, 'door': 1731, 'amish': 1732, 'buggy': 1733, 'promoting': 1734, 'turned': 1735, 'upside': 1736, 'handling': 1737, 'socket': 1738, 'wrench': 1739, 'brownish': 1740, 'said': 1741, 'cocktails': 1742, 'wrangle': 1743, 'dust': 1744, 'kicked': 1745, 'porch': 1746, 'minor': 1747, 'league': 1748, 'pitcher': 1749, 'referees': 1750, 'leaving': 1751, 'checking': 1752, 'sharpening': 1753, 'grinding': 1754, 'local': 1755, 'sleeps': 1756, 'buildings': 1757, 'nationals': 1758, 'oceans': 1759, 'surfer': 1760, 'curling': 1761, 'stairway': 1762, 'costco': 1763, 'hay': 1764, 'bale': 1765, 'climbed': 1766, 'rolling': 1767, 'amount': 1768, 'wool': 1769, 'pen': 1770, 'pitch': 1771, 'tiara': 1772, 'someones': 1773, 'atm': 1774, 'exercise': 1775, 'equestrian': 1776, 'scares': 1777, 'flock': 1778, 'seagulls': 1779, 'shoreline': 1780, 'crosses': 1781, 'disney': 1782, 'princess': 1783, 'mower': 1784, 'drop': 1785, 'technique': 1786, 'terminal': 1787, 'travelers': 1788, 'dumpsters': 1789, 'story': 1790, 'beads': 1791, 'leads': 1792, 'donkey': 1793, 'shooting': 1794, 'checkers': 1795, 'sings': 1796, 'club': 1797, 'gate': 1798, 'impedes': 1799, 'progress': 1800, 'oncoming': 1801, 'shielding': 1802, 'mural': 1803, 'scoring': 1804, 'creams': 1805, 'prp': 1806, 'vbz': 1807, 'cc': 1808, 'jj': 1809, 'cd': 1810, 'vbp': 1811, 'hooded': 1812, 'desks': 1813, 'skin': 1814, 'tight': 1815, 'cones': 1816, 'races': 1817, 'prepares': 1818, 'sale': 1819, 'bodysuit': 1820, 'organizing': 1821, 'activity': 1822, 'yawning': 1823, 'border': 1824, 'collie': 1825, 'accomplishes': 1826, 'dresses': 1827, 'gypsy': 1828, 'skirts': 1829, 'notre': 1830, 'dame': 1831, 'france': 1832, 'entertaining': 1833, 'maybe': 1834, 'demonstrating': 1835, 'teach': 1836, 'index': 1837, 'finger': 1838, 'opened': 1839, 'cheering': 1840, 'beers': 1841, 'grilling': 1842, 'barbecue': 1843, 'juggles': 1844, 'sinking': 1845, 'underwater': 1846, 'japan': 1847, 'calling': 1848, 'wife': 1849, 'tell': 1850, 'late': 1851, 'lead': 1852, 'singer': 1853, 'visited': 1854, 'song': 1855, 'upholstered': 1856, 'handed': 1857, 'teal': 1858, 'ladder': 1859, 'bricks': 1860, 'fierce': 1861, 'shaving': 1862, 'handing': 1863, 'leashed': 1864, 'musician': 1865, 'retail': 1866, 'wade': 1867, 'helping': 1868, 'tie': 1869, 'necktie': 1870, 'house': 1871, 'horizon': 1872, 'grilled': 1873, 'cheese': 1874, 'plates': 1875, 'blues': 1876, 'maroon': 1877, 'happening': 1878, 'preschool': 1879, 'aged': 1880, 'shells': 1881, 'rugs': 1882, 'tile': 1883, 'grout': 1884, 'joseph': 1885, 'mist': 1886, 'poles': 1887, 'picking': 1888, 'belongings': 1889, 'piled': 1890, 'chefs': 1891, 'electric': 1892, 'saw': 1893, 'officer': 1894, 'cab': 1895, 'wearubg': 1896, 'mannequin': 1897, 'teaching': 1898, 'folic': 1899, 'acid': 1900, 'neurulation': 1901, 'poster': 1902, 'abstract': 1903, 'cartoon': 1904, 'horizontal': 1905, 'stripes': 1906, 'tanks': 1907, 'similar': 1908, 'playpen': 1909, 'wide': 1910, 'twenties': 1911, 'leaf': 1912, 'paved': 1913, 'shake': 1914}\n",
            "sentence1 dict dim :  1915\n"
          ],
          "name": "stdout"
        }
      ]
    },
    {
      "cell_type": "code",
      "metadata": {
        "colab": {
          "base_uri": "https://localhost:8080/"
        },
        "id": "AHjwwa7kaqYp",
        "outputId": "b8f838ae-f2bf-40a1-9953-93b7c95843d2"
      },
      "source": [
        "# text2 \r\n",
        "tokenizer2 = Tokenizer()\r\n",
        "tokenizer2.fit_on_texts(text2)\r\n",
        "sequences2 = tokenizer2.texts_to_sequences(text2)\r\n",
        "sent2 = pad_sequences(sequences2, maxlen=20,padding='post')\r\n",
        "print('second sentence :',sent2.shape)\r\n",
        "\r\n",
        "# text2 dict\r\n",
        "\r\n",
        "word_index2 = tokenizer2.word_index\r\n",
        "print(word_index2)\r\n",
        "_dict_dim2 = len(word_index2) + 1\r\n",
        "print('sentence2 dict dim : ',_dict_dim2)\r\n",
        "\r\n"
      ],
      "execution_count": 47,
      "outputs": [
        {
          "output_type": "stream",
          "text": [
            "second sentence : (1000, 20)\n",
            "{'a': 1, 'the': 2, 'man': 3, 'people': 4, 'woman': 5, 'two': 6, 'there': 7, 'boy': 8, 'girl': 9, 'men': 10, 'person': 11, 'outside': 12, 'playing': 13, 'dog': 14, 'wearing': 15, 'group': 16, 'women': 17, 'sitting': 18, 'walking': 19, 'young': 20, 'child': 21, 'beach': 22, 'three': 23, 'street': 24, 'holding': 25, 'water': 26, 'black': 27, 'watching': 28, 'standing': 29, 'red': 30, 'children': 31, 'riding': 32, 'little': 33, 'looking': 34, 'white': 35, 'inside': 36, 'working': 37, 'dogs': 38, 'an': 39, 'some': 40, 'sleeping': 41, 'lady': 42, 'play': 43, 'picture': 44, 'one': 45, 'running': 46, 'shirt': 47, 'pool': 48, 'eating': 49, 'bike': 50, 'boat': 51, 'blue': 52, 'ball': 53, 'baby': 54, 'making': 55, 'swimming': 56, 'work': 57, 'getting': 58, 'girls': 59, 'around': 60, 'grass': 61, 'soccer': 62, 'player': 63, 'outdoors': 64, 'game': 65, 'taking': 66, 'car': 67, 'ready': 68, 'talking': 69, 'crowd': 70, 'table': 71, 'horse': 72, 'sand': 73, 'female': 74, 'boys': 75, 'stands': 76, 'family': 77, 'green': 78, 'np': 79, 'large': 80, 'together': 81, 'day': 82, 'laying': 83, 'going': 84, 'home': 85, 'friends': 86, 'animals': 87, 'father': 88, 'kids': 89, 'drinking': 90, 'sits': 91, 'waiting': 92, 'food': 93, 'small': 94, 'dressed': 95, 'band': 96, 'sit': 97, 'snow': 98, 'someone': 99, 'couple': 100, 'old': 101, 'plays': 102, 'worker': 103, 'park': 104, 'front': 105, 'jumping': 106, 'mother': 107, 'long': 108, 'near': 109, 'room': 110, 'take': 111, 'asian': 112, 'field': 113, 'building': 114, 'school': 115, 'human': 116, 'time': 117, 'painting': 118, 'dress': 119, 'cooking': 120, 'mountain': 121, 'ride': 122, 'enjoying': 123, 'get': 124, 'parade': 125, 'putting': 126, 'guy': 127, 'walks': 128, 'cafe': 129, 'performing': 130, 'stage': 131, 'next': 132, 'something': 133, 'house': 134, 'four': 135, 'sign': 136, 'umbrella': 137, 'sleep': 138, 'jacket': 139, 'ocean': 140, 'five': 141, 'singing': 142, 'carrying': 143, 'towards': 144, 'runs': 145, 'camera': 146, 'pictures': 147, 'hard': 148, 'music': 149, 'kid': 150, 'climbing': 151, 'surfing': 152, 'toy': 153, 'construction': 154, 'bar': 155, 'police': 156, 'hair': 157, 'hat': 158, 'past': 159, 'top': 160, 'cleaning': 161, 'another': 162, 'sidewalk': 163, 'yellow': 164, 'holds': 165, 'couch': 166, 'coffee': 167, 'competing': 168, 'they': 169, 'in': 170, 'cross': 171, 'cat': 172, 'walk': 173, 'run': 174, 'biker': 175, 'forest': 176, 'summer': 177, 'pushing': 178, 'shopping': 179, 'cart': 180, 'fun': 181, 'swim': 182, 'football': 183, 'watches': 184, 'indoors': 185, 'open': 186, 'speaking': 187, 'class': 188, 'store': 189, 'brothers': 190, 'using': 191, 'chairs': 192, 'new': 193, 'gym': 194, 'wave': 195, 'face': 196, 'son': 197, 'rides': 198, 'bicycle': 199, 'daughter': 200, 'city': 201, 'team': 202, 'concert': 203, 'several': 204, 'basketball': 205, 'ground': 206, 'workers': 207, 'bench': 208, 'showing': 209, 'window': 210, 'competition': 211, 'stick': 212, 'baseball': 213, 'dancing': 214, 'onlookers': 215, 'made': 216, 'racing': 217, 'place': 218, 'animal': 219, 'dirt': 220, 'teacher': 221, 'telling': 222, 'kitchen': 223, 'race': 224, 'dinner': 225, 'break': 226, 'behind': 227, 'covered': 228, 'cowboys': 229, 'moving': 230, 'orange': 231, 'microphone': 232, 'hands': 233, 'tall': 234, 'cutting': 235, 'project': 236, 'photo': 237, 'outdoor': 238, 'reading': 239, 'guys': 240, 'drink': 241, 'restaurant': 242, 'clothes': 243, 'tan': 244, 'motorcycle': 245, 'nobody': 246, 'jeans': 247, 'train': 248, 'truck': 249, 'lined': 250, 'rug': 251, 'rabbit': 252, 'big': 253, 'catch': 254, 'movie': 255, 'marathon': 256, 'happy': 257, 'skateboard': 258, 'sun': 259, 'dance': 260, 'wife': 261, 'husband': 262, 'great': 263, 'basket': 264, 'throwing': 265, 'helmet': 266, 'vacation': 267, 'leaves': 268, 'bridge': 269, 'pink': 270, 'head': 271, 'mouth': 272, 'eats': 273, 'sky': 274, 'museum': 275, 'high': 276, 'jump': 277, 'display': 278, 'computer': 279, 'indoor': 280, 'driving': 281, 'adult': 282, 'air': 283, 'snowboarder': 284, 'costume': 285, 'favorite': 286, 'asleep': 287, 'volleyball': 288, 'nnp': 289, 'pp': 290, 'airplane': 291, 'sings': 292, 'banana': 293, 'full': 294, 'wedding': 295, 'practice': 296, 'back': 297, 'loading': 298, 'friend': 299, 'enjoy': 300, 'jj': 301, 'song': 302, 'juggling': 303, 'life': 304, 'skiing': 305, 'pole': 306, 'fire': 307, 'members': 308, 'hunting': 309, 'dune': 310, 'gathering': 311, 'musicians': 312, 'buying': 313, 'jogging': 314, 'kicking': 315, 'hot': 316, 'shoes': 317, 'feet': 318, 'loves': 319, 'preparing': 320, 'go': 321, 'bed': 322, 'puts': 323, 'pair': 324, 'bags': 325, 'tennis': 326, 'market': 327, 'distance': 328, 'conversation': 329, 'student': 330, 'board': 331, 'females': 332, 'craft': 333, 'horses': 334, 'jungle': 335, 'ducks': 336, 'mall': 337, 'groom': 338, 'kissing': 339, 'makeup': 340, 'wood': 341, 'smoking': 342, 'washing': 343, 'pizza': 344, 'transportation': 345, 'wall': 346, 'motorcycles': 347, 'sat': 348, 'along': 349, 'circus': 350, 'climbs': 351, 'picnic': 352, 'vest': 353, 'dock': 354, 'pose': 355, 'audience': 356, 'floor': 357, 'chasing': 358, 'lap': 359, 'planning': 360, 'parked': 361, 'area': 362, 'hiking': 363, 'places': 364, 'toddlers': 365, 'rider': 366, 'brown': 367, 'owner': 368, 'rain': 369, 'firefighters': 370, 'cyclist': 371, 'midair': 372, 'practicing': 373, 'popcorn': 374, 'catching': 375, 'various': 376, 'mirror': 377, 'like': 378, 'camping': 379, 'posing': 380, 'background': 381, 'gold': 382, 'device': 383, 'wooden': 384, 'many': 385, 'cars': 386, 'resting': 387, 'use': 388, 'tourists': 389, 'live': 390, 'streets': 391, 'studying': 392, 'college': 393, 'look': 394, 'grill': 395, 'frisbee': 396, 'boots': 397, 'gray': 398, 'cake': 399, 'chair': 400, 'tells': 401, 'poodle': 402, 'colorful': 403, 'hand': 404, 'drive': 405, 'texting': 406, 'rodeo': 407, 'pets': 408, 'porch': 409, 'castle': 410, 'color': 411, 'teaching': 412, 'fish': 413, 'vendor': 414, 'stop': 415, 'wheels': 416, 'swing': 417, 'chase': 418, 'body': 419, 'best': 420, 'hit': 421, 'coat': 422, 'shark': 423, 'fountain': 424, 'star': 425, 'cap': 426, 'employee': 427, 'nap': 428, 'hula': 429, 'hoops': 430, 'series': 431, 'traffic': 432, 'cup': 433, 'tv': 434, 'meet': 435, 'happily': 436, 'living': 437, 'involved': 438, 'rock': 439, 'club': 440, 'beer': 441, 'eat': 442, 'fetch': 443, 'photograph': 444, 'birds': 445, 'tree': 446, 'caught': 447, 'plane': 448, 'job': 449, 'jumps': 450, 'highway': 451, 'pieces': 452, 'telescope': 453, 'perform': 454, 'tank': 455, 'shorts': 456, 'injured': 457, 'nothing': 458, 'party': 459, 'lying': 460, 'elephant': 461, 'river': 462, 'poses': 463, 'public': 464, 'trees': 465, 'action': 466, 'christmas': 467, 'pants': 468, 'males': 469, 'drawing': 470, 'path': 471, 'selling': 472, 'piano': 473, 'humans': 474, 'library': 475, 'girlfriend': 476, 'wears': 477, 'underneath': 478, 'tarp': 479, 'way': 480, 'games': 481, 'uses': 482, 'without': 483, 'put': 484, 'bicyclist': 485, 'coats': 486, 'apples': 487, 'enjoys': 488, 'trying': 489, 'hide': 490, 'broken': 491, 'kicked': 492, 'first': 493, 'outfit': 494, 'ice': 495, 'cream': 496, 'goal': 497, 'officer': 498, 'guitar': 499, 'skeleton': 500, 'smiling': 501, 'this': 502, 'balls': 503, 'stand': 504, 'taken': 505, 'amish': 506, 'cameras': 507, 'gloves': 508, 'angry': 509, 'lunch': 510, 'players': 511, 'gets': 512, 'shirts': 513, 'wet': 514, 'bikini': 515, 'these': 516, 'vp': 517, 'nns': 518, 'hats': 519, 'sing': 520, 'yelling': 521, 'bearded': 522, 'magic': 523, 'tricks': 524, 'performs': 525, 'act': 526, 'begging': 527, 'backpacker': 528, 'railing': 529, 'gathers': 530, 'docked': 531, 'equipped': 532, 'saver': 533, 'watched': 534, 'fireman': 535, 'slide': 536, 'fully': 537, 'clothed': 538, 'sunblock': 539, 'resets': 540, 'heart': 541, 'sightseeing': 542, 'met': 543, 'lobby': 544, 'arrow': 545, 'coast': 546, 'guard': 547, 'briefing': 548, 'mission': 549, 'busses': 550, 'trolleys': 551, 'crosswalks': 552, 'stuck': 553, 'brightly': 554, 'sundaes': 555, 'math': 556, 'problem': 557, 'stepped': 558, 'automobile': 559, 'community': 560, 'service': 561, 'carly': 562, 'peanuts': 563, 'sink': 564, 'hill': 565, 'indian': 566, 'riverbank': 567, 'chicken': 568, 'egg': 569, 'popsicle': 570, 'golden': 571, 'retrievers': 572, 'kennel': 573, 'stunt': 574, 'rally': 575, 'track': 576, 'toddler': 577, 'heavy': 578, 'diners': 579, 'teams': 580, 'bikes': 581, 'know': 582, 'stares': 583, 'snap': 584, 'dumped': 585, 'amount': 586, 'rocks': 587, 'students': 588, 'exhausted': 589, 'stove': 590, 'hairs': 591, 'songs': 592, 'traveling': 593, 'post': 594, 'contents': 595, 'welders': 596, 'repairs': 597, 'second': 598, 'trombone': 599, 'solo': 600, 'shooting': 601, 'squeezing': 602, 'joggers': 603, 'fan': 604, 'bride': 605, 'sipping': 606, 'alcoholic': 607, 'beverage': 608, 'bus': 609, 'pier': 610, 'hoeing': 611, 'garden': 612, 'eyes': 613, 'jumped': 614, 'kneed': 615, 'checkup': 616, 'snorkel': 617, 'doctor': 618, 'dishes': 619, 'english': 620, 'honors': 621, 'seeing': 622, 'smoke': 623, 'sprinting': 624, 'falls': 625, 'listen': 626, 'box': 627, 'wine': 628, 'brave': 629, 'parlor': 630, 'laughing': 631, 'pouring': 632, 'normal': 633, 'dolly': 634, 'tanning': 635, 'machine': 636, 'graffitied': 637, 'serves': 638, 'backdrop': 639, 'youth': 640, 'jackets': 641, 'join': 642, 'tub': 643, 'flooded': 644, 'pavement': 645, 'attendant': 646, 'shot': 647, 'taming': 648, 'lions': 649, 'nightclub': 650, 'dark': 651, 'puppies': 652, 'preparation': 653, 'audition': 654, 'american': 655, 'ninja': 656, 'warrior': 657, 'eight': 658, 'bicycles': 659, 'waterfront': 660, 'puppy': 661, 'photographer': 662, 'peformers': 663, 'african': 664, 'bottles': 665, 'glasses': 666, 'instrument': 667, 'dining': 668, 'pile': 669, 'bananas': 670, 'helmets': 671, 'kill': 672, 'squirrel': 673, 'wanted': 674, 'rvs': 675, 'surgeon': 676, 'maltese': 677, 'mountains': 678, 'nicely': 679, 'huge': 680, 'drums': 681, 'older': 682, 'grilling': 683, 'fixing': 684, 'shingles': 685, 'malibu': 686, 'unorganized': 687, 'husbands': 688, 'balloons': 689, 'elderly': 690, 'beets': 691, 'casserole': 692, 'allowed': 693, 'courtyard': 694, 'descent': 695, 'semi': 696, 'circle': 697, 'texts': 698, 'will': 699, 'china': 700, 'win': 701, 'woven': 702, 'stormy': 703, 'talks': 704, 'priest': 705, 'used': 706, 'mixer': 707, 'grind': 708, 'flour': 709, 'firetruck': 710, 'stripes': 711, 'rehearse': 712, 'bathing': 713, 'scooter': 714, 'mom': 715, 'interpretive': 716, 'headpiece': 717, 'stone': 718, 'others': 719, 'rc': 720, 'die': 721, 'cast': 722, 'buses': 723, 'karaoke': 724, 'valentines': 725, 'towels': 726, 'passes': 727, 'sizing': 728, 'sneakers': 729, 'fall': 730, 'customers': 731, 'asked': 732, 'try': 733, 'samples': 734, 'merchants': 735, 'court': 736, 'object': 737, 'vibrand': 738, 'crossed': 739, 'she': 740, 'daily': 741, 'robbed': 742, 'laps': 743, 'volunteers': 744, 'cone': 745, 'owman': 746, 'tackle': 747, 'opponent': 748, 'structure': 749, 'concrete': 750, 'officers': 751, 'converse': 752, 'containing': 753, 'smiles': 754, 'snowball': 755, 'fight': 756, 'drill': 757, 'diver': 758, 'cookie': 759, 'blonde': 760, 'dad': 761, 'years': 762, 'camper': 763, 'gazes': 764, 'exciting': 765, 'torches': 766, 'purple': 767, 'fur': 768, 'momentum': 769, 'steps': 770, 'cowboy': 771, 'beside': 772, 'barn': 773, 'rise': 774, 'types': 775, 'relaxes': 776, 'trains': 777, 'components': 778, 'relax': 779, 'appear': 780, 'aggressive': 781, 'windows': 782, 'books': 783, 'burned': 784, 'recording': 785, 'studio': 786, 'mat': 787, 'comparing': 788, 'screens': 789, 'martial': 790, 'arts': 791, 'suits': 792, 'kimono': 793, 'joke': 794, 'paints': 795, 'diaper': 796, 'accident': 797, 'lumberjack': 798, 'bright': 799, 'blow': 800, 'candles': 801, 'chores': 802, 'costumes': 803, 'prom': 804, 'outfits': 805, 'installing': 806, 'door': 807, 'isdriving': 808, 'left': 809, 'tour': 810, 'backwards': 811, 'apartment': 812, 'shoulders': 813, 'tugging': 814, 'leash': 815, 'fairy': 816, 'flies': 817, 'jfk': 818, 'airport': 819, 'drivers': 820, 'computers': 821, 'lot': 822, 'fruits': 823, 'kiss': 824, 'goodbye': 825, 'hose': 826, 'hitting': 827, 'instead': 828, 'piata': 829, 'lay': 830, 'vehicle': 831, 'racer': 832, 'line': 833, 'tools': 834, 'view': 835, 'crazy': 836, 'factory': 837, 'costumed': 838, 'cigarette': 839, 'attack': 840, 'king': 841, 'irons': 842, 'filmed': 843, 'posture': 844, 'fairly': 845, 'relaxed': 846, 'sexy': 847, 'butcher': 848, 'target': 849, 'come': 850, 'roommates': 851, 'dane': 852, 'fetching': 853, 'skills': 854, 'soldiers': 855, 'shouting': 856, 'stilts': 857, 'cleaners': 858, 'industrial': 859, 'ironing': 860, 'stole': 861, 'swims': 862, 'offshore': 863, 'climbling': 864, 'find': 865, 'treasure': 866, 'cityscape': 867, 'nearby': 868, 'fruit': 869, 'passing': 870, 'ballerinas': 871, 'thing': 872, 'shoot': 873, 'cold': 874, 'raft': 875, 'size': 876, 'drives': 877, 'stroller': 878, 'monopoly': 879, 'dyed': 880, 'heard': 881, 'fly': 882, 'lord': 883, 'fortuitously': 884, 'altogether': 885, 'misinterpreted': 886, 'hiker': 887, 'tired': 888, 'batman': 889, 'shoddy': 890, 'erected': 891, 'acknowledge': 892, 'worst': 893, 'contestants': 894, 'rowing': 895, 'land': 896, 'jog': 897, 'bottle': 898, 'lies': 899, 'frightened': 900, 'supervisor': 901, 'sure': 902, 'breakfast': 903, 'cats': 904, 'drinks': 905, 'cement': 906, 'wrist': 907, 'shifts': 908, 'gang': 909, 'diner': 910, 'meat': 911, 'counter': 912, 'beauty': 913, 'salon': 914, 'nails': 915, 'done': 916, 'midnight': 917, 'motel': 918, 'panting': 919, 'hosted': 920, 'wax': 921, 'figure': 922, 'melting': 923, 'tipping': 924, 'thin': 925, 'homeless': 926, 'town': 927, 'buffet': 928, 'already': 929, 'started': 930, 'title': 931, 'carver': 932, 'chisel': 933, 'hammer': 934, 'hispanic': 935, 'pointing': 936, 'pianist': 937, 'earns': 938, 'persons': 939, 'activities': 940, 'crowded': 941, 'e': 942, 'were': 943, 'on': 944, 'mushroom': 945, 'performer': 946, 'tosses': 947, 'flaming': 948, 'batons': 949, 'waitresses': 950, 'fancy': 951, 'shops': 952, 'short': 953, 'necked': 954, 'childhood': 955, 'feeding': 956, 'kayaking': 957, 'crying': 958, 'story': 959, 'engine': 960, 'trouble': 961, 'pilot': 962, 'escaping': 963, 'burning': 964, 'hikers': 965, 'mimes': 966, 'occupying': 967, 'section': 968, 'part': 969, 'cycling': 970, 'homework': 971, 'arms': 972, 'milk': 973, 'janitor': 974, 'helps': 975, 'artists': 976, 'helper': 977, 'finish': 978, 'sport': 979, 'festival': 980, 'paper': 981, 'reflective': 982, 'gymnastics': 983, 'sunset': 984, 'laughs': 985, 'giggles': 986, 'religious': 987, 'protester': 988, 'pleased': 989, 'violence': 990, 'early': 991, 'competitive': 992, 'volley': 993, 'spiked': 994, 'bowling': 995, 'strike': 996, 'both': 997, 'tripped': 998, 'turban': 999, 'else': 1000, 'laundry': 1001, 'dj': 1002, 'monkey': 1003, 'peeling': 1004, 'attentively': 1005, 'atop': 1006, 'escalators': 1007, 'reads': 1008, 'newspaper': 1009, 'carnival': 1010, 'crossing': 1011, 'middle': 1012, 'winter': 1013, 'nature': 1014, 'roasting': 1015, 'duck': 1016, 'individual': 1017, 'creeps': 1018, 'barricade': 1019, 'wonder': 1020, 'desert': 1021, 'flag': 1022, 'seashore': 1023, 'hospital': 1024, 'floors': 1025, 'need': 1026, 'repair': 1027, 'excitedly': 1028, 'waits': 1029, 'presents': 1030, 'dragster': 1031, 'apple': 1032, 'nice': 1033, 'khaki': 1034, 'fellow': 1035, 'acquaintances': 1036, 'observing': 1037, 'function': 1038, 'braiding': 1039, 'professionally': 1040, 'alone': 1041, 'bedroom': 1042, 'hang': 1043, 'sandals': 1044, 'stuff': 1045, 'pony': 1046, 'trots': 1047, 'arena': 1048, 'cows': 1049, 'chased': 1050, 'knock': 1051, 'lovers': 1052, 'it': 1053, 'raining': 1054, 'letting': 1055, 'stool': 1056, 'no': 1057, 'moment': 1058, 'batter': 1059, 'goes': 1060, 'every': 1061, 'activity': 1062, 'capacity': 1063, 'winning': 1064, 'skier': 1065, 'playground': 1066, 'signs': 1067, 'knew': 1068, 'sculpting': 1069, 'despondant': 1070, 'hoding': 1071, 'bud': 1072, 'light': 1073, 'number': 1074, 'snowboard': 1075, 'flower': 1076, 'aisle': 1077, 'sunny': 1078, 'skateboarder': 1079, 'zombie': 1080, 'fishing': 1081, 'prince': 1082, 'italian': 1083, 'resturant': 1084, 'video': 1085, 'waffles': 1086, 'campfood': 1087, 'cheerleaders': 1088, 'mascot': 1089, 'takse': 1090, 'communication': 1091, 'he': 1092, 'read': 1093, 'thr': 1094, 'hockey': 1095, 'match': 1096, 'trash': 1097, 'crane': 1098, 'item': 1099, 'stir': 1100, 'fry': 1101, 'deisgner': 1102, 'suit': 1103, 'offered': 1104, 'sale': 1105, 'soon': 1106, 'comes': 1107, 'skiers': 1108, 'lives': 1109, 'pack': 1110, 'wolves': 1111, 'fawn': 1112, 'bishop': 1113, 'talked': 1114, 'cheek': 1115, 'dolls': 1116, 'television': 1117, 'bag': 1118, 'uniformed': 1119, 'boarding': 1120, 'subway': 1121, 'corn': 1122, 'naked': 1123, 'things': 1124, 'onto': 1125, 'carry': 1126, 'follows': 1127, 'my': 1128, 'i': 1129, 'good': 1130, 'umbrellas': 1131, 'close': 1132, 'whith': 1133, 'foot': 1134, 'snowboards': 1135, 'rode': 1136, 'ski': 1137, 'lift': 1138, 'bad': 1139, 'news': 1140, 'helping': 1141, 'lab': 1142, 'wilderness': 1143, 'order': 1144, 'menu': 1145, 'rap': 1146, 'stars': 1147, 'battle': 1148, 'athlete': 1149, 'surgical': 1150, 'resident': 1151, 'surgery': 1152, 'bunny': 1153, 'blond': 1154, 'watch': 1155, 'instruments': 1156, 'cow': 1157, 'farm': 1158, 'bowl': 1159, 'scent': 1160, 'tea': 1161, 'material': 1162, 'let': 1163, 'pail': 1164, 'watering': 1165, 'hole': 1166, 'catwalk': 1167, 'trolley': 1168, 'church': 1169, 'carols': 1170, 'hospice': 1171, 'center': 1172, 'debating': 1173, 'deflate': 1174, 'gate': 1175, 'fashionable': 1176, 'artist': 1177, 'graffiti': 1178, 'mask': 1179, 'gun': 1180, 'bank': 1181, 'teller': 1182, 'stood': 1183, 'lamb': 1184, 'chop': 1185, 'politician': 1186, 'addressing': 1187, 'potential': 1188, 'voters': 1189, 'decides': 1190, 'championship': 1191, 'cocker': 1192, 'spaniel': 1193, 'dives': 1194, 'lake': 1195, 'robe': 1196, 'daughters': 1197, 'apron': 1198, 'biking': 1199, 'trick': 1200, 'rollerblades': 1201, 'interviews': 1202, 'pogo': 1203, 'drunk': 1204, 'surving': 1205, 'still': 1206, 'splashes': 1207, 'storm': 1208, 'blowing': 1209, 'bubbles': 1210, 'sharks': 1211, 'aquarium': 1212, 'cheerios': 1213, 'experienced': 1214, 'moves': 1215, 'impress': 1216, 'chick': 1217, 'scales': 1218, 'cliff': 1219, 'flip': 1220, 'tire': 1221, 'replaced': 1222, 'jean': 1223, 'overalls': 1224, 'business': 1225, 'crawls': 1226, 'fearful': 1227, 'rushes': 1228, 'irritated': 1229, 'exercising': 1230, 'ballet': 1231, 'dancers': 1232, 'book': 1233, 'shelf': 1234, 'supplies': 1235, 'professional': 1236, 'musician': 1237, 'leave': 1238, 'night': 1239, 'uniform': 1240, 'march': 1241, 'labor': 1242, 'runners': 1243, 'gymnast': 1244, 'medal': 1245, 'painter': 1246, 'art': 1247, 'local': 1248, 'forgot': 1249, 'wear': 1250, 'interview': 1251, 'theater': 1252, 'phone': 1253, 'sprayed': 1254, 'grafitti': 1255, 'log': 1256, 'flume': 1257, 'closeup': 1258, 'attempting': 1259, 'santa': 1260, 'accused': 1261, 'weapon': 1262, 'photographed': 1263, 'male': 1264, 'cheetah': 1265, 'fast': 1266, 'chihuahua': 1267, 'took': 1268, 'present': 1269, 'site': 1270, 'classroom': 1271, 'show': 1272, 'scuba': 1273, 'diving': 1274, 'bulldozer': 1275, 'rocky': 1276, 'headphones': 1277, 'hooking': 1278, 'grandmother': 1279, 'oven': 1280, 'crouch': 1281, 'observes': 1282, 'pigeons': 1283, 'quick': 1284, 'scientist': 1285, 'looks': 1286, 'lens': 1287, 'hubble': 1288, 'finishes': 1289, 'branch': 1290, 'tilted': 1291, 'model': 1292, 'viewing': 1293, 'bull': 1294, 'adults': 1295, 'scottish': 1296, 'care': 1297, 'statute': 1298, 'leaving': 1299, 'office': 1300, 'hooks': 1301, 'buggy': 1302, 'judge': 1303, 'chess': 1304, 'wrenches': 1305, 'meeting': 1306, 'sofa': 1307, 'sad': 1308, 'doors': 1309, 'pitcher': 1310, 'pee': 1311, 'refs': 1312, 'driveway': 1313, 'repairing': 1314, 'chain': 1315, 'astronomer': 1316, 'finds': 1317, 'moon': 1318, 'surfer': 1319, 'check': 1320, 'costco': 1321, 'limb': 1322, 'broke': 1323, 'and': 1324, 'looked': 1325, 'down': 1326, 'from': 1327, 'rolls': 1328, 'wool': 1329, 'pen': 1330, 'van': 1331, 'inning': 1332, 'mothers': 1333, 'tiara': 1334, 'contest': 1335, 'penalty': 1336, 'kick': 1337, 'treadmills': 1338, 'tries': 1339, 'main': 1340, 'event': 1341, 'starts': 1342, 'scared': 1343, 'away': 1344, 'seagulls': 1345, 'challenging': 1346, 'travelers': 1347, 'terminal': 1348, 'station': 1349, 'wheelie': 1350, 'trampoline': 1351, 'celebrating': 1352, 'mardi': 1353, 'gras': 1354, 'leads': 1355, 'donkey': 1356, 'toward': 1357, 'paint': 1358, 'takes': 1359, 'checkers': 1360, 'railroad': 1361, 'completing': 1362, 'last': 1363, 'task': 1364, 'outing': 1365, 'mural': 1366, 'points': 1367, 'spring': 1368, 'root': 1369, 's': 1370, 'ex': 1371, 'vbp': 1372, 'cd': 1373, 'vbg': 1374, 'dt': 1375, 'horizontal': 1376, 'nn': 1377, 'motorcyle': 1378, 'quietly': 1379, 'cones': 1380, 'roof': 1381, 'sold': 1382, 'prepare': 1383, 'slowly': 1384, 'boss': 1385, 'clothing': 1386, 'tuba': 1387, 'empty': 1388, 'agent': 1389, 'paying': 1390, 'attention': 1391, 'auditorium': 1392, 'hanging': 1393, 'actually': 1394, 'aliens': 1395, 'world': 1396, 'bean': 1397, 'consisting': 1398, 'musical': 1399, 'performance': 1400, 'fighting': 1401, 'boxing': 1402, 'lead': 1403, 'singer': 1404, 'teaches': 1405, 'guitarist': 1406, 'cereal': 1407, 'talk': 1408, 'case': 1409, 'paintbrush': 1410, 'ladder': 1411, 'fierce': 1412, 'shaving': 1413, 'beard': 1414, 'shower': 1415, 'raking': 1416, 'lawn': 1417, 'infront': 1418, 'manicure': 1419, 'pet': 1420, 'pig': 1421, 'chatting': 1422, 'duo': 1423, 'r': 1424, 'b': 1425, 'push': 1426, 'rakes': 1427, 'protesting': 1428, 'waxing': 1429, 'chest': 1430, 'works': 1431, 'sisters': 1432, 'weekly': 1433, 'date': 1434, 'seat': 1435, 'threw': 1436, 'puck': 1437, 'horizon': 1438, 'sells': 1439, 'fried': 1440, 'dough': 1441, 'shells': 1442, 'dealer': 1443, 'oriental': 1444, 'carpets': 1445, 'turkish': 1446, 'tile': 1447, 'picks': 1448, 'at': 1449, 'shovel': 1450, 'seated': 1451, 'poker': 1452, 'upside': 1453, 'belongings': 1454, 'doghouse': 1455, 'cooks': 1456, 'make': 1457, 'patrons': 1458, 'smile': 1459, 'created': 1460, 'important': 1461, 'grilled': 1462, 'cheese': 1463, 'considering': 1464, 'biology': 1465, 'course': 1466, 'poster': 1467, 'enclosure': 1468, 'falling': 1469, 'punk': 1470, 'kicks': 1471}\n",
            "sentence2 dict dim :  1472\n"
          ],
          "name": "stdout"
        }
      ]
    },
    {
      "cell_type": "markdown",
      "metadata": {
        "id": "AbNY4D4eknV6"
      },
      "source": [
        ""
      ]
    },
    {
      "cell_type": "code",
      "metadata": {
        "id": "cI2qsxFQDtEg"
      },
      "source": [
        "# target \r\n",
        "lbl = LabelEncoder()\r\n",
        "Y = lbl.fit_transform(df['similarity'])"
      ],
      "execution_count": 117,
      "outputs": []
    },
    {
      "cell_type": "code",
      "metadata": {
        "id": "Nm11fcxOEITx",
        "colab": {
          "base_uri": "https://localhost:8080/"
        },
        "outputId": "e1e10745-5a3a-4a41-ab71-dd9d73878a22"
      },
      "source": [
        "Y.shape"
      ],
      "execution_count": 49,
      "outputs": [
        {
          "output_type": "execute_result",
          "data": {
            "text/plain": [
              "(1000,)"
            ]
          },
          "metadata": {
            "tags": []
          },
          "execution_count": 49
        }
      ]
    },
    {
      "cell_type": "code",
      "metadata": {
        "id": "upTCxK_QEJN5",
        "colab": {
          "base_uri": "https://localhost:8080/",
          "height": 533
        },
        "outputId": "5e8bfd4c-3205-4c8e-e3ce-52e571655d15"
      },
      "source": [
        "import tensorflow as tf\r\n",
        "import keras\r\n",
        "maxlen = 20\r\n",
        "# getting the embedding \r\n",
        "# first sentence \r\n",
        "inp1 =  tf.keras.Input(shape = (maxlen,))\r\n",
        "embed1 = tf.keras.layers.Embedding(input_dim = _dict_dim1,output_dim=100)(inp1)\r\n",
        "lstm1,h1,c1 = tf.keras.layers.LSTM(units = 100,return_sequences=True,return_state=True)(embed1)\r\n",
        "#pooled1 = tf.keras.layers.GlobalAveragePooling1D()(lstm1)\r\n",
        "# second sentence \r\n",
        "inp2 =    tf.keras.Input(shape = (maxlen,))\r\n",
        "embed2 =  tf.keras.layers.Embedding(input_dim = _dict_dim2,output_dim=100)(inp2)\r\n",
        "lstm2,h2,c2 = tf.keras.layers.LSTM(units = 100,return_sequences=True,return_state=True)(embed2)\r\n",
        "#pooled2 = tf.keras.layers.GlobalAveragePooling1D()(lstm2)\r\n",
        "# concatenate \r\n",
        "concat = tf.keras.layers.concatenate([h1,h2],axis = -1)\r\n",
        "# dense \r\n",
        "output = tf.keras.layers.Dense(3,activation='softmax')(concat)\r\n",
        "\r\n",
        "sent_model_v2 = keras.Model(inputs = [inp1,inp2],outputs = output)\r\n",
        "\r\n",
        "keras.utils.plot_model(sent_model_v2,show_shapes=True)\r\n",
        "\r\n",
        "\r\n"
      ],
      "execution_count": 50,
      "outputs": [
        {
          "output_type": "execute_result",
          "data": {
            "image/png": "[encoded data removed]",
            "text/plain": [
              "<IPython.core.display.Image object>"
            ]
          },
          "metadata": {
            "tags": []
          },
          "execution_count": 50
        }
      ]
    },
    {
      "cell_type": "code",
      "metadata": {
        "colab": {
          "base_uri": "https://localhost:8080/"
        },
        "id": "iGdLHSTrA7pu",
        "outputId": "738448df-90a8-4a0e-e74b-386366977316"
      },
      "source": [
        "sent_model_v2.summary()"
      ],
      "execution_count": 51,
      "outputs": [
        {
          "output_type": "stream",
          "text": [
            "Model: \"model\"\n",
            "__________________________________________________________________________________________________\n",
            "Layer (type)                    Output Shape         Param #     Connected to                     \n",
            "==================================================================================================\n",
            "input_1 (InputLayer)            [(None, 20)]         0                                            \n",
            "__________________________________________________________________________________________________\n",
            "input_2 (InputLayer)            [(None, 20)]         0                                            \n",
            "__________________________________________________________________________________________________\n",
            "embedding (Embedding)           (None, 20, 100)      191500      input_1[0][0]                    \n",
            "__________________________________________________________________________________________________\n",
            "embedding_1 (Embedding)         (None, 20, 100)      147200      input_2[0][0]                    \n",
            "__________________________________________________________________________________________________\n",
            "lstm (LSTM)                     [(None, 20, 100), (N 80400       embedding[0][0]                  \n",
            "__________________________________________________________________________________________________\n",
            "lstm_1 (LSTM)                   [(None, 20, 100), (N 80400       embedding_1[0][0]                \n",
            "__________________________________________________________________________________________________\n",
            "concatenate (Concatenate)       (None, 200)          0           lstm[0][1]                       \n",
            "                                                                 lstm_1[0][1]                     \n",
            "__________________________________________________________________________________________________\n",
            "dense (Dense)                   (None, 3)            603         concatenate[0][0]                \n",
            "==================================================================================================\n",
            "Total params: 500,103\n",
            "Trainable params: 500,103\n",
            "Non-trainable params: 0\n",
            "__________________________________________________________________________________________________\n"
          ],
          "name": "stdout"
        }
      ]
    },
    {
      "cell_type": "code",
      "metadata": {
        "id": "DnGBfU1xFZ7h"
      },
      "source": [
        "sent_model_v2.compile(\"adam\", \"sparse_categorical_crossentropy\", metrics=[\"accuracy\"])\r\n",
        "#callback = tf.keras.callbacks.EarlyStopping(monitor='val_loss', patience=3)"
      ],
      "execution_count": 52,
      "outputs": []
    },
    {
      "cell_type": "markdown",
      "metadata": {
        "id": "0U_ZPi1Hhja2"
      },
      "source": [
        ""
      ]
    },
    {
      "cell_type": "code",
      "metadata": {
        "id": "xB9zVhgGFfbL",
        "colab": {
          "base_uri": "https://localhost:8080/"
        },
        "outputId": "f144019e-a061-44d9-c498-13d8c02e4772"
      },
      "source": [
        "history = sent_model_v2.fit([sent1,sent2],Y,epochs=15,batch_size=32,validation_split=0.1)"
      ],
      "execution_count": 55,
      "outputs": [
        {
          "output_type": "stream",
          "text": [
            "Epoch 1/15\n",
            "29/29 [==============================] - 0s 11ms/step - loss: 0.4155 - accuracy: 0.8411 - val_loss: 1.6412 - val_accuracy: 0.3400\n",
            "Epoch 2/15\n",
            "29/29 [==============================] - 0s 10ms/step - loss: 0.2986 - accuracy: 0.8978 - val_loss: 1.7923 - val_accuracy: 0.3400\n",
            "Epoch 3/15\n",
            "29/29 [==============================] - 0s 10ms/step - loss: 0.1524 - accuracy: 0.9467 - val_loss: 2.4067 - val_accuracy: 0.3100\n",
            "Epoch 4/15\n",
            "29/29 [==============================] - 0s 11ms/step - loss: 0.0911 - accuracy: 0.9722 - val_loss: 2.8816 - val_accuracy: 0.3100\n",
            "Epoch 5/15\n",
            "29/29 [==============================] - 0s 11ms/step - loss: 0.0562 - accuracy: 0.9822 - val_loss: 2.8649 - val_accuracy: 0.3400\n",
            "Epoch 6/15\n",
            "29/29 [==============================] - 0s 11ms/step - loss: 0.0294 - accuracy: 0.9922 - val_loss: 3.1564 - val_accuracy: 0.2900\n",
            "Epoch 7/15\n",
            "29/29 [==============================] - 0s 10ms/step - loss: 0.0330 - accuracy: 0.9867 - val_loss: 3.6761 - val_accuracy: 0.3400\n",
            "Epoch 8/15\n",
            "29/29 [==============================] - 0s 11ms/step - loss: 0.0476 - accuracy: 0.9833 - val_loss: 3.2699 - val_accuracy: 0.3600\n",
            "Epoch 9/15\n",
            "29/29 [==============================] - 0s 10ms/step - loss: 0.0326 - accuracy: 0.9889 - val_loss: 3.1194 - val_accuracy: 0.3700\n",
            "Epoch 10/15\n",
            "29/29 [==============================] - 0s 10ms/step - loss: 0.0157 - accuracy: 0.9956 - val_loss: 3.3583 - val_accuracy: 0.3300\n",
            "Epoch 11/15\n",
            "29/29 [==============================] - 0s 10ms/step - loss: 0.0057 - accuracy: 1.0000 - val_loss: 3.4664 - val_accuracy: 0.3600\n",
            "Epoch 12/15\n",
            "29/29 [==============================] - 0s 10ms/step - loss: 0.0074 - accuracy: 0.9989 - val_loss: 3.9360 - val_accuracy: 0.3300\n",
            "Epoch 13/15\n",
            "29/29 [==============================] - 0s 10ms/step - loss: 0.0073 - accuracy: 0.9989 - val_loss: 3.7578 - val_accuracy: 0.3500\n",
            "Epoch 14/15\n",
            "29/29 [==============================] - 0s 15ms/step - loss: 0.0020 - accuracy: 1.0000 - val_loss: 3.8485 - val_accuracy: 0.3500\n",
            "Epoch 15/15\n",
            "29/29 [==============================] - 0s 10ms/step - loss: 0.0013 - accuracy: 1.0000 - val_loss: 3.8872 - val_accuracy: 0.3600\n"
          ],
          "name": "stdout"
        }
      ]
    },
    {
      "cell_type": "code",
      "metadata": {
        "id": "kRaWWuWOFgTJ"
      },
      "source": [
        "|y_pred = sent_model_v2.predict([sent1[1:2],sent2[1:2]])"
      ],
      "execution_count": 123,
      "outputs": []
    },
    {
      "cell_type": "code",
      "metadata": {
        "id": "kXjYJxpkQHfN",
        "colab": {
          "base_uri": "https://localhost:8080/"
        },
        "outputId": "36ce8a7f-60a2-4c3e-bd33-75e53eb97a70"
      },
      "source": [
        "y_pred"
      ],
      "execution_count": 124,
      "outputs": [
        {
          "output_type": "execute_result",
          "data": {
            "text/plain": [
              "array([[0.22416471, 0.7302794 , 0.0455559 ]], dtype=float32)"
            ]
          },
          "metadata": {
            "tags": []
          },
          "execution_count": 124
        }
      ]
    },
    {
      "cell_type": "code",
      "metadata": {
        "id": "hWuU78L5Qs4m"
      },
      "source": [
        ""
      ],
      "execution_count": 24,
      "outputs": []
    },
    {
      "cell_type": "code",
      "metadata": {
        "id": "zwCMZRWGR_aM",
        "colab": {
          "base_uri": "https://localhost:8080/",
          "height": 162
        },
        "outputId": "371a3e23-0e70-4706-dd8b-8be8a30f9924"
      },
      "source": [
        "res"
      ],
      "execution_count": 25,
      "outputs": [
        {
          "output_type": "error",
          "ename": "NameError",
          "evalue": "ignored",
          "traceback": [
            "\u001b[0;31m---------------------------------------------------------------------------\u001b[0m",
            "\u001b[0;31mNameError\u001b[0m                                 Traceback (most recent call last)",
            "\u001b[0;32m<ipython-input-25-c08785e04264>\u001b[0m in \u001b[0;36m<module>\u001b[0;34m()\u001b[0m\n\u001b[0;32m----> 1\u001b[0;31m \u001b[0mres\u001b[0m\u001b[0;34m\u001b[0m\u001b[0;34m\u001b[0m\u001b[0m\n\u001b[0m",
            "\u001b[0;31mNameError\u001b[0m: name 'res' is not defined"
          ]
        }
      ]
    },
    {
      "cell_type": "code",
      "metadata": {
        "id": "eQHn9dz3SANK",
        "colab": {
          "base_uri": "https://localhost:8080/"
        },
        "outputId": "d54b6c0c-2d80-4922-c59f-0d401ce103ab"
      },
      "source": [
        "sent_model_v2.summary()"
      ],
      "execution_count": 21,
      "outputs": [
        {
          "output_type": "stream",
          "text": [
            "Model: \"model_2\"\n",
            "__________________________________________________________________________________________________\n",
            "Layer (type)                    Output Shape         Param #     Connected to                     \n",
            "==================================================================================================\n",
            "input_6 (InputLayer)            [(None, 100)]        0                                            \n",
            "__________________________________________________________________________________________________\n",
            "input_7 (InputLayer)            [(None, 100)]        0                                            \n",
            "__________________________________________________________________________________________________\n",
            "embedding_4 (Embedding)         (None, 100, 1024)    9051136     input_6[0][0]                    \n",
            "__________________________________________________________________________________________________\n",
            "embedding_5 (Embedding)         (None, 100, 1024)    10257408    input_7[0][0]                    \n",
            "__________________________________________________________________________________________________\n",
            "bidirectional_4 (Bidirectional) (None, 100, 256)     1180672     embedding_4[0][0]                \n",
            "__________________________________________________________________________________________________\n",
            "bidirectional_5 (Bidirectional) (None, 100, 256)     1180672     embedding_5[0][0]                \n",
            "__________________________________________________________________________________________________\n",
            "global_average_pooling1d_4 (Glo (None, 256)          0           bidirectional_4[0][0]            \n",
            "__________________________________________________________________________________________________\n",
            "global_average_pooling1d_5 (Glo (None, 256)          0           bidirectional_5[0][0]            \n",
            "__________________________________________________________________________________________________\n",
            "concatenate_2 (Concatenate)     (None, 512)          0           global_average_pooling1d_4[0][0] \n",
            "                                                                 global_average_pooling1d_5[0][0] \n",
            "__________________________________________________________________________________________________\n",
            "dense_2 (Dense)                 (None, 3)            1539        concatenate_2[0][0]              \n",
            "==================================================================================================\n",
            "Total params: 21,671,427\n",
            "Trainable params: 21,671,427\n",
            "Non-trainable params: 0\n",
            "__________________________________________________________________________________________________\n"
          ],
          "name": "stdout"
        }
      ]
    },
    {
      "cell_type": "code",
      "metadata": {
        "colab": {
          "base_uri": "https://localhost:8080/"
        },
        "id": "vEtVuTNo7OCZ",
        "outputId": "bffccc97-9ca2-4997-9125-77704a3d7c72"
      },
      "source": [
        "len(text1)"
      ],
      "execution_count": 99,
      "outputs": [
        {
          "output_type": "execute_result",
          "data": {
            "text/plain": [
              "10000"
            ]
          },
          "metadata": {
            "tags": []
          },
          "execution_count": 99
        }
      ]
    },
    {
      "cell_type": "code",
      "metadata": {
        "id": "YNKAE6lPrDJA"
      },
      "source": [
        "from tensorflow.keras.layers.experimental.preprocessing import TextVectorization\r\n",
        "\r\n",
        "vectorizer = TextVectorization(max_tokens=20000, output_sequence_length=42)\r\n",
        "\r\n",
        "vectorizer.adapt(text1+text2)"
      ],
      "execution_count": 264,
      "outputs": []
    },
    {
      "cell_type": "code",
      "metadata": {
        "id": "Vyh1VTXPrPuS"
      },
      "source": [
        "X1 = vectorizer(text1)\r\n",
        "X2=  vectorizer(text2)"
      ],
      "execution_count": 265,
      "outputs": []
    },
    {
      "cell_type": "code",
      "metadata": {
        "colab": {
          "base_uri": "https://localhost:8080/"
        },
        "id": "swbA4uI4KtpE",
        "outputId": "addf1ad0-7c74-43d2-b909-04c4e7c713ea"
      },
      "source": [
        "X1.shape\r\n",
        "X2.shape\r\n"
      ],
      "execution_count": 266,
      "outputs": [
        {
          "output_type": "execute_result",
          "data": {
            "text/plain": [
              "TensorShape([90000, 42])"
            ]
          },
          "metadata": {
            "tags": []
          },
          "execution_count": 266
        }
      ]
    },
    {
      "cell_type": "code",
      "metadata": {
        "colab": {
          "base_uri": "https://localhost:8080/"
        },
        "id": "u77GtuWZK8R6",
        "outputId": "07f945d8-3edd-44a0-ac82-29853a432144"
      },
      "source": [
        "vectorizer.get_vocabulary()[:5]"
      ],
      "execution_count": 267,
      "outputs": [
        {
          "output_type": "execute_result",
          "data": {
            "text/plain": [
              "['', '[UNK]', 'a', 'man', 'the']"
            ]
          },
          "metadata": {
            "tags": []
          },
          "execution_count": 267
        }
      ]
    },
    {
      "cell_type": "code",
      "metadata": {
        "id": "QtVQoVssXfHi"
      },
      "source": [
        "voc = vectorizer.get_vocabulary()\r\n",
        "word_index = dict(zip(voc, range(len(voc))))"
      ],
      "execution_count": 268,
      "outputs": []
    },
    {
      "cell_type": "code",
      "metadata": {
        "id": "z-JwObMXX6k4"
      },
      "source": [
        ""
      ],
      "execution_count": null,
      "outputs": []
    },
    {
      "cell_type": "code",
      "metadata": {
        "id": "MkcJ_JlbX9eg"
      },
      "source": [
        ""
      ],
      "execution_count": null,
      "outputs": []
    },
    {
      "cell_type": "code",
      "metadata": {
        "id": "d_JiptxYcJna"
      },
      "source": [
        ""
      ],
      "execution_count": null,
      "outputs": []
    },
    {
      "cell_type": "code",
      "metadata": {
        "id": "zbvsI7TvcNql"
      },
      "source": [
        ""
      ],
      "execution_count": null,
      "outputs": []
    },
    {
      "cell_type": "code",
      "metadata": {
        "colab": {
          "base_uri": "https://localhost:8080/"
        },
        "id": "hFCj1N06cSj9",
        "outputId": "41704374-a821-484c-e8c2-ed4116c7eb79"
      },
      "source": [
        "#Glove vectors \r\n",
        "\r\n",
        "!wget http://nlp.stanford.edu/data/glove.6B.zip\r\n",
        "!unzip -q glove.6B.zip\r\n",
        "\r\n"
      ],
      "execution_count": 62,
      "outputs": [
        {
          "output_type": "stream",
          "text": [
            "--2020-12-25 12:21:55--  http://nlp.stanford.edu/data/glove.6B.zip\n",
            "Resolving nlp.stanford.edu (nlp.stanford.edu)... 171.64.67.140\n",
            "Connecting to nlp.stanford.edu (nlp.stanford.edu)|171.64.67.140|:80... connected.\n",
            "HTTP request sent, awaiting response... 302 Found\n",
            "Location: https://nlp.stanford.edu/data/glove.6B.zip [following]\n",
            "--2020-12-25 12:21:55--  https://nlp.stanford.edu/data/glove.6B.zip\n",
            "Connecting to nlp.stanford.edu (nlp.stanford.edu)|171.64.67.140|:443... connected.\n",
            "HTTP request sent, awaiting response... 301 Moved Permanently\n",
            "Location: http://downloads.cs.stanford.edu/nlp/data/glove.6B.zip [following]\n",
            "--2020-12-25 12:21:55--  http://downloads.cs.stanford.edu/nlp/data/glove.6B.zip\n",
            "Resolving downloads.cs.stanford.edu (downloads.cs.stanford.edu)... 171.64.64.22\n",
            "Connecting to downloads.cs.stanford.edu (downloads.cs.stanford.edu)|171.64.64.22|:80... connected.\n",
            "HTTP request sent, awaiting response... 200 OK\n",
            "Length: 862182613 (822M) [application/zip]\n",
            "Saving to: ‘glove.6B.zip.4’\n",
            "\n",
            "glove.6B.zip.4      100%[===================>] 822.24M  1.96MB/s    in 6m 27s  \n",
            "\n",
            "2020-12-25 12:28:22 (2.13 MB/s) - ‘glove.6B.zip.4’ saved [862182613/862182613]\n",
            "\n",
            "[glove.6B.zip]\n",
            "  End-of-central-directory signature not found.  Either this file is not\n",
            "  a zipfile, or it constitutes one disk of a multi-part archive.  In the\n",
            "  latter case the central directory and zipfile comment will be found on\n",
            "  the last disk(s) of this archive.\n",
            "unzip:  cannot find zipfile directory in one of glove.6B.zip or\n",
            "        glove.6B.zip.zip, and cannot find glove.6B.zip.ZIP, period.\n"
          ],
          "name": "stdout"
        }
      ]
    },
    {
      "cell_type": "code",
      "metadata": {
        "colab": {
          "base_uri": "https://localhost:8080/"
        },
        "id": "kwJCXZg11vkr",
        "outputId": "28b4ba58-0ca1-4f72-acd6-7787f4e67258"
      },
      "source": [
        "!ls\r\n",
        "!unzip -q glove.6B.zip.4"
      ],
      "execution_count": 63,
      "outputs": [
        {
          "output_type": "stream",
          "text": [
            "data.tar.gz   glove.6B.zip.1  glove.6B.zip.3  model.png    SNLI_Corpus\n",
            "glove.6B.zip  glove.6B.zip.2  glove.6B.zip.4  sample_data\n"
          ],
          "name": "stdout"
        }
      ]
    },
    {
      "cell_type": "code",
      "metadata": {
        "colab": {
          "base_uri": "https://localhost:8080/"
        },
        "id": "EjpA1vBT37f3",
        "outputId": "7c67a8f8-6af7-4874-8919-2f54a6c0382e"
      },
      "source": [
        "!ls"
      ],
      "execution_count": 64,
      "outputs": [
        {
          "output_type": "stream",
          "text": [
            "data.tar.gz\t   glove.6B.50d.txt  glove.6B.zip.3  SNLI_Corpus\n",
            "glove.6B.100d.txt  glove.6B.zip      glove.6B.zip.4\n",
            "glove.6B.200d.txt  glove.6B.zip.1    model.png\n",
            "glove.6B.300d.txt  glove.6B.zip.2    sample_data\n"
          ],
          "name": "stdout"
        }
      ]
    },
    {
      "cell_type": "code",
      "metadata": {
        "colab": {
          "base_uri": "https://localhost:8080/"
        },
        "id": "jT4BRh33l4CL",
        "outputId": "93d12c49-1de9-47a2-cf8b-27f8950a1f01"
      },
      "source": [
        "# import os \r\n",
        "# path_to_glove_file = os.path.join(\r\n",
        "#     os.path.expanduser(\"~\"), \".keras/datasets/glove.6B.100d.txt\"\r\n",
        "# )\r\n",
        "\r\n",
        "embeddings_index = {}\r\n",
        "with open(\"glove.6B.100d.txt\") as f:\r\n",
        "    for line in f:\r\n",
        "        word, coefs = line.split(maxsplit=1)\r\n",
        "        coefs = np.fromstring(coefs, \"f\", sep=\" \")\r\n",
        "        embeddings_index[word] = coefs\r\n",
        "\r\n",
        "print(\"Found %s word vectors.\" % len(embeddings_index))"
      ],
      "execution_count": 269,
      "outputs": [
        {
          "output_type": "stream",
          "text": [
            "Found 400000 word vectors.\n"
          ],
          "name": "stdout"
        }
      ]
    },
    {
      "cell_type": "code",
      "metadata": {
        "colab": {
          "base_uri": "https://localhost:8080/"
        },
        "id": "4fb1xIf_1pM2",
        "outputId": "f3868eb7-c49e-4e42-b92c-2698bc394b12"
      },
      "source": [
        "num_tokens = len(voc) + 2\r\n",
        "embedding_dim = 100\r\n",
        "hits = 0\r\n",
        "misses = 0\r\n",
        "\r\n",
        "# Prepare embedding matrix\r\n",
        "embedding_matrix = np.zeros((num_tokens, embedding_dim))\r\n",
        "for word, i in word_index.items():\r\n",
        "    embedding_vector = embeddings_index.get(word)\r\n",
        "    if embedding_vector is not None:\r\n",
        "        # Words not found in embedding index will be all-zeros.\r\n",
        "        # This includes the representation for \"padding\" and \"OOV\"\r\n",
        "        embedding_matrix[i] = embedding_vector\r\n",
        "        hits += 1\r\n",
        "    else:\r\n",
        "        misses += 1\r\n",
        "print(\"Converted %d words (%d misses)\" % (hits, misses))"
      ],
      "execution_count": 270,
      "outputs": [
        {
          "output_type": "stream",
          "text": [
            "Converted 17051 words (1536 misses)\n"
          ],
          "name": "stdout"
        }
      ]
    },
    {
      "cell_type": "code",
      "metadata": {
        "id": "1TaYof8P-uMo"
      },
      "source": [
        "df[\"label\"] = df[\"similarity\"].apply(\r\n",
        "    lambda x: 0 if x == \"contradiction\" else 1 if x == \"entailment\" else 2\r\n",
        ")\r\n",
        "Y_target = tf.keras.utils.to_categorical(df['label'], num_classes=3)"
      ],
      "execution_count": 271,
      "outputs": []
    },
    {
      "cell_type": "code",
      "metadata": {
        "colab": {
          "base_uri": "https://localhost:8080/",
          "height": 865
        },
        "id": "RBigZmx04i0H",
        "outputId": "b0f77c63-fd28-417d-da06-8cf76d9843d2"
      },
      "source": [
        "import tensorflow as tf\r\n",
        "import keras\r\n",
        "maxlen = 42\r\n",
        "# getting the embedding \r\n",
        "# first sentence \r\n",
        "inp1 =  tf.keras.Input(shape = (maxlen,))\r\n",
        "embed1 = tf.keras.layers.Embedding(\r\n",
        "    num_tokens,\r\n",
        "    embedding_dim,\r\n",
        "    embeddings_initializer=keras.initializers.Constant(embedding_matrix),\r\n",
        "    trainable=False,\r\n",
        ")(inp1)\r\n",
        "lstm1,h1,c1 = tf.keras.layers.LSTM(units = 100,return_sequences=True,return_state=True)(embed1)\r\n",
        "# second sentence \r\n",
        "inp2 =    tf.keras.Input(shape = (maxlen,))\r\n",
        "embed2 =  tf.keras.layers.Embedding(\r\n",
        "    num_tokens,\r\n",
        "    embedding_dim,\r\n",
        "    embeddings_initializer=keras.initializers.Constant(embedding_matrix),\r\n",
        "    trainable=False,\r\n",
        ")(inp2)\r\n",
        "lstm2,h2,c2 = tf.keras.layers.LSTM(units = 100,return_sequences=True,return_state=True)(embed2)\r\n",
        "# concatenate \r\n",
        "concat = tf.keras.layers.concatenate([h1,h2],axis = -1)\r\n",
        "# dense \r\n",
        "\r\n",
        "output = tf.keras.layers.Dense(200,activation='tanh')(concat)\r\n",
        "output = tf.keras.layers.Dense(200,activation='tanh')(output)\r\n",
        "\r\n",
        "output = tf.keras.layers.Dense(200,activation='tanh')(output)\r\n",
        "output = tf.keras.layers.Dense(3,activation='softmax')(output)\r\n",
        "\r\n",
        "\r\n",
        "\r\n",
        "\r\n",
        "sent_model_w2v = keras.Model(inputs = [inp1,inp2],outputs = output)\r\n",
        "\r\n",
        "keras.utils.plot_model(sent_model_w2v,show_shapes=True)"
      ],
      "execution_count": 272,
      "outputs": [
        {
          "output_type": "execute_result",
          "data": {
            "image/png": "[encoded data removed]",
            "text/plain": [
              "<IPython.core.display.Image object>"
            ]
          },
          "metadata": {
            "tags": []
          },
          "execution_count": 272
        }
      ]
    },
    {
      "cell_type": "code",
      "metadata": {
        "id": "dv32187N7gcP"
      },
      "source": [
        ""
      ],
      "execution_count": 226,
      "outputs": []
    },
    {
      "cell_type": "code",
      "metadata": {
        "colab": {
          "base_uri": "https://localhost:8080/"
        },
        "id": "d91PF4Mr5Gk6",
        "outputId": "92415525-a0c0-4aa3-c723-80c76c3dd71b"
      },
      "source": [
        "sent_model_w2v.summary()"
      ],
      "execution_count": 273,
      "outputs": [
        {
          "output_type": "stream",
          "text": [
            "Model: \"model_18\"\n",
            "__________________________________________________________________________________________________\n",
            "Layer (type)                    Output Shape         Param #     Connected to                     \n",
            "==================================================================================================\n",
            "input_38 (InputLayer)           [(None, 42)]         0                                            \n",
            "__________________________________________________________________________________________________\n",
            "input_39 (InputLayer)           [(None, 42)]         0                                            \n",
            "__________________________________________________________________________________________________\n",
            "embedding_36 (Embedding)        (None, 42, 100)      1858900     input_38[0][0]                   \n",
            "__________________________________________________________________________________________________\n",
            "embedding_37 (Embedding)        (None, 42, 100)      1858900     input_39[0][0]                   \n",
            "__________________________________________________________________________________________________\n",
            "lstm_36 (LSTM)                  [(None, 42, 100), (N 80400       embedding_36[0][0]               \n",
            "__________________________________________________________________________________________________\n",
            "lstm_37 (LSTM)                  [(None, 42, 100), (N 80400       embedding_37[0][0]               \n",
            "__________________________________________________________________________________________________\n",
            "concatenate_18 (Concatenate)    (None, 200)          0           lstm_36[0][1]                    \n",
            "                                                                 lstm_37[0][1]                    \n",
            "__________________________________________________________________________________________________\n",
            "dense_38 (Dense)                (None, 200)          40200       concatenate_18[0][0]             \n",
            "__________________________________________________________________________________________________\n",
            "dense_39 (Dense)                (None, 200)          40200       dense_38[0][0]                   \n",
            "__________________________________________________________________________________________________\n",
            "dense_40 (Dense)                (None, 200)          40200       dense_39[0][0]                   \n",
            "__________________________________________________________________________________________________\n",
            "dense_41 (Dense)                (None, 3)            603         dense_40[0][0]                   \n",
            "==================================================================================================\n",
            "Total params: 3,999,803\n",
            "Trainable params: 282,003\n",
            "Non-trainable params: 3,717,800\n",
            "__________________________________________________________________________________________________\n"
          ],
          "name": "stdout"
        }
      ]
    },
    {
      "cell_type": "code",
      "metadata": {
        "id": "z5DcF1Oc6Dav"
      },
      "source": [
        "sent_model_w2v.compile(\"sgd\", \"categorical_crossentropy\", metrics=[\"accuracy\"])\r\n",
        "callback = tf.keras.callbacks.EarlyStopping(monitor='val_loss', patience=10)"
      ],
      "execution_count": 274,
      "outputs": []
    },
    {
      "cell_type": "code",
      "metadata": {
        "id": "kS_UmWEQDsv0"
      },
      "source": [
        ""
      ],
      "execution_count": null,
      "outputs": []
    },
    {
      "cell_type": "code",
      "metadata": {
        "id": "-9EKUui3BDo2"
      },
      "source": [
        ""
      ],
      "execution_count": 205,
      "outputs": []
    },
    {
      "cell_type": "code",
      "metadata": {
        "colab": {
          "base_uri": "https://localhost:8080/",
          "height": 370
        },
        "id": "UspxWmCu6N00",
        "outputId": "a428fafd-f3b9-4b06-ea03-4dfda13592b2"
      },
      "source": [
        "w2v_hist = sent_model_w2v.fit([X1,X2],Y_target,epochs=100,batch_size=32,validation_split=0.1)"
      ],
      "execution_count": 275,
      "outputs": [
        {
          "output_type": "stream",
          "text": [
            "Epoch 1/100\n",
            "2532/2532 [==============================] - 25s 9ms/step - loss: 1.0991 - accuracy: 0.3316 - val_loss: 1.0990 - val_accuracy: 0.3410\n",
            "Epoch 2/100\n",
            " 757/2532 [=======>......................] - ETA: 14s - loss: 1.0990 - accuracy: 0.3347"
          ],
          "name": "stdout"
        },
        {
          "output_type": "error",
          "ename": "KeyboardInterrupt",
          "evalue": "ignored",
          "traceback": [
            "\u001b[0;31m---------------------------------------------------------------------------\u001b[0m",
            "\u001b[0;31mKeyboardInterrupt\u001b[0m                         Traceback (most recent call last)",
            "\u001b[0;32m<ipython-input-275-ebd8947beaa3>\u001b[0m in \u001b[0;36m<module>\u001b[0;34m()\u001b[0m\n\u001b[0;32m----> 1\u001b[0;31m \u001b[0mw2v_hist\u001b[0m \u001b[0;34m=\u001b[0m \u001b[0msent_model_w2v\u001b[0m\u001b[0;34m.\u001b[0m\u001b[0mfit\u001b[0m\u001b[0;34m(\u001b[0m\u001b[0;34m[\u001b[0m\u001b[0mX1\u001b[0m\u001b[0;34m,\u001b[0m\u001b[0mX2\u001b[0m\u001b[0;34m]\u001b[0m\u001b[0;34m,\u001b[0m\u001b[0mY_target\u001b[0m\u001b[0;34m,\u001b[0m\u001b[0mepochs\u001b[0m\u001b[0;34m=\u001b[0m\u001b[0;36m100\u001b[0m\u001b[0;34m,\u001b[0m\u001b[0mbatch_size\u001b[0m\u001b[0;34m=\u001b[0m\u001b[0;36m32\u001b[0m\u001b[0;34m,\u001b[0m\u001b[0mvalidation_split\u001b[0m\u001b[0;34m=\u001b[0m\u001b[0;36m0.1\u001b[0m\u001b[0;34m)\u001b[0m\u001b[0;34m\u001b[0m\u001b[0;34m\u001b[0m\u001b[0m\n\u001b[0m",
            "\u001b[0;32m/usr/local/lib/python3.6/dist-packages/tensorflow/python/keras/engine/training.py\u001b[0m in \u001b[0;36mfit\u001b[0;34m(self, x, y, batch_size, epochs, verbose, callbacks, validation_split, validation_data, shuffle, class_weight, sample_weight, initial_epoch, steps_per_epoch, validation_steps, validation_batch_size, validation_freq, max_queue_size, workers, use_multiprocessing)\u001b[0m\n\u001b[1;32m   1098\u001b[0m                 _r=1):\n\u001b[1;32m   1099\u001b[0m               \u001b[0mcallbacks\u001b[0m\u001b[0;34m.\u001b[0m\u001b[0mon_train_batch_begin\u001b[0m\u001b[0;34m(\u001b[0m\u001b[0mstep\u001b[0m\u001b[0;34m)\u001b[0m\u001b[0;34m\u001b[0m\u001b[0;34m\u001b[0m\u001b[0m\n\u001b[0;32m-> 1100\u001b[0;31m               \u001b[0mtmp_logs\u001b[0m \u001b[0;34m=\u001b[0m \u001b[0mself\u001b[0m\u001b[0;34m.\u001b[0m\u001b[0mtrain_function\u001b[0m\u001b[0;34m(\u001b[0m\u001b[0miterator\u001b[0m\u001b[0;34m)\u001b[0m\u001b[0;34m\u001b[0m\u001b[0;34m\u001b[0m\u001b[0m\n\u001b[0m\u001b[1;32m   1101\u001b[0m               \u001b[0;32mif\u001b[0m \u001b[0mdata_handler\u001b[0m\u001b[0;34m.\u001b[0m\u001b[0mshould_sync\u001b[0m\u001b[0;34m:\u001b[0m\u001b[0;34m\u001b[0m\u001b[0;34m\u001b[0m\u001b[0m\n\u001b[1;32m   1102\u001b[0m                 \u001b[0mcontext\u001b[0m\u001b[0;34m.\u001b[0m\u001b[0masync_wait\u001b[0m\u001b[0;34m(\u001b[0m\u001b[0;34m)\u001b[0m\u001b[0;34m\u001b[0m\u001b[0;34m\u001b[0m\u001b[0m\n",
            "\u001b[0;32m/usr/local/lib/python3.6/dist-packages/tensorflow/python/eager/def_function.py\u001b[0m in \u001b[0;36m__call__\u001b[0;34m(self, *args, **kwds)\u001b[0m\n\u001b[1;32m    826\u001b[0m     \u001b[0mtracing_count\u001b[0m \u001b[0;34m=\u001b[0m \u001b[0mself\u001b[0m\u001b[0;34m.\u001b[0m\u001b[0mexperimental_get_tracing_count\u001b[0m\u001b[0;34m(\u001b[0m\u001b[0;34m)\u001b[0m\u001b[0;34m\u001b[0m\u001b[0;34m\u001b[0m\u001b[0m\n\u001b[1;32m    827\u001b[0m     \u001b[0;32mwith\u001b[0m \u001b[0mtrace\u001b[0m\u001b[0;34m.\u001b[0m\u001b[0mTrace\u001b[0m\u001b[0;34m(\u001b[0m\u001b[0mself\u001b[0m\u001b[0;34m.\u001b[0m\u001b[0m_name\u001b[0m\u001b[0;34m)\u001b[0m \u001b[0;32mas\u001b[0m \u001b[0mtm\u001b[0m\u001b[0;34m:\u001b[0m\u001b[0;34m\u001b[0m\u001b[0;34m\u001b[0m\u001b[0m\n\u001b[0;32m--> 828\u001b[0;31m       \u001b[0mresult\u001b[0m \u001b[0;34m=\u001b[0m \u001b[0mself\u001b[0m\u001b[0;34m.\u001b[0m\u001b[0m_call\u001b[0m\u001b[0;34m(\u001b[0m\u001b[0;34m*\u001b[0m\u001b[0margs\u001b[0m\u001b[0;34m,\u001b[0m \u001b[0;34m**\u001b[0m\u001b[0mkwds\u001b[0m\u001b[0;34m)\u001b[0m\u001b[0;34m\u001b[0m\u001b[0;34m\u001b[0m\u001b[0m\n\u001b[0m\u001b[1;32m    829\u001b[0m       \u001b[0mcompiler\u001b[0m \u001b[0;34m=\u001b[0m \u001b[0;34m\"xla\"\u001b[0m \u001b[0;32mif\u001b[0m \u001b[0mself\u001b[0m\u001b[0;34m.\u001b[0m\u001b[0m_experimental_compile\u001b[0m \u001b[0;32melse\u001b[0m \u001b[0;34m\"nonXla\"\u001b[0m\u001b[0;34m\u001b[0m\u001b[0;34m\u001b[0m\u001b[0m\n\u001b[1;32m    830\u001b[0m       \u001b[0mnew_tracing_count\u001b[0m \u001b[0;34m=\u001b[0m \u001b[0mself\u001b[0m\u001b[0;34m.\u001b[0m\u001b[0mexperimental_get_tracing_count\u001b[0m\u001b[0;34m(\u001b[0m\u001b[0;34m)\u001b[0m\u001b[0;34m\u001b[0m\u001b[0;34m\u001b[0m\u001b[0m\n",
            "\u001b[0;32m/usr/local/lib/python3.6/dist-packages/tensorflow/python/eager/def_function.py\u001b[0m in \u001b[0;36m_call\u001b[0;34m(self, *args, **kwds)\u001b[0m\n\u001b[1;32m    853\u001b[0m       \u001b[0;31m# In this case we have created variables on the first call, so we run the\u001b[0m\u001b[0;34m\u001b[0m\u001b[0;34m\u001b[0m\u001b[0;34m\u001b[0m\u001b[0m\n\u001b[1;32m    854\u001b[0m       \u001b[0;31m# defunned version which is guaranteed to never create variables.\u001b[0m\u001b[0;34m\u001b[0m\u001b[0;34m\u001b[0m\u001b[0;34m\u001b[0m\u001b[0m\n\u001b[0;32m--> 855\u001b[0;31m       \u001b[0;32mreturn\u001b[0m \u001b[0mself\u001b[0m\u001b[0;34m.\u001b[0m\u001b[0m_stateless_fn\u001b[0m\u001b[0;34m(\u001b[0m\u001b[0;34m*\u001b[0m\u001b[0margs\u001b[0m\u001b[0;34m,\u001b[0m \u001b[0;34m**\u001b[0m\u001b[0mkwds\u001b[0m\u001b[0;34m)\u001b[0m  \u001b[0;31m# pylint: disable=not-callable\u001b[0m\u001b[0;34m\u001b[0m\u001b[0;34m\u001b[0m\u001b[0m\n\u001b[0m\u001b[1;32m    856\u001b[0m     \u001b[0;32melif\u001b[0m \u001b[0mself\u001b[0m\u001b[0;34m.\u001b[0m\u001b[0m_stateful_fn\u001b[0m \u001b[0;32mis\u001b[0m \u001b[0;32mnot\u001b[0m \u001b[0;32mNone\u001b[0m\u001b[0;34m:\u001b[0m\u001b[0;34m\u001b[0m\u001b[0;34m\u001b[0m\u001b[0m\n\u001b[1;32m    857\u001b[0m       \u001b[0;31m# Release the lock early so that multiple threads can perform the call\u001b[0m\u001b[0;34m\u001b[0m\u001b[0;34m\u001b[0m\u001b[0;34m\u001b[0m\u001b[0m\n",
            "\u001b[0;32m/usr/local/lib/python3.6/dist-packages/tensorflow/python/eager/function.py\u001b[0m in \u001b[0;36m__call__\u001b[0;34m(self, *args, **kwargs)\u001b[0m\n\u001b[1;32m   2941\u001b[0m        filtered_flat_args) = self._maybe_define_function(args, kwargs)\n\u001b[1;32m   2942\u001b[0m     return graph_function._call_flat(\n\u001b[0;32m-> 2943\u001b[0;31m         filtered_flat_args, captured_inputs=graph_function.captured_inputs)  # pylint: disable=protected-access\n\u001b[0m\u001b[1;32m   2944\u001b[0m \u001b[0;34m\u001b[0m\u001b[0m\n\u001b[1;32m   2945\u001b[0m   \u001b[0;34m@\u001b[0m\u001b[0mproperty\u001b[0m\u001b[0;34m\u001b[0m\u001b[0;34m\u001b[0m\u001b[0m\n",
            "\u001b[0;32m/usr/local/lib/python3.6/dist-packages/tensorflow/python/eager/function.py\u001b[0m in \u001b[0;36m_call_flat\u001b[0;34m(self, args, captured_inputs, cancellation_manager)\u001b[0m\n\u001b[1;32m   1917\u001b[0m       \u001b[0;31m# No tape is watching; skip to running the function.\u001b[0m\u001b[0;34m\u001b[0m\u001b[0;34m\u001b[0m\u001b[0;34m\u001b[0m\u001b[0m\n\u001b[1;32m   1918\u001b[0m       return self._build_call_outputs(self._inference_function.call(\n\u001b[0;32m-> 1919\u001b[0;31m           ctx, args, cancellation_manager=cancellation_manager))\n\u001b[0m\u001b[1;32m   1920\u001b[0m     forward_backward = self._select_forward_and_backward_functions(\n\u001b[1;32m   1921\u001b[0m         \u001b[0margs\u001b[0m\u001b[0;34m,\u001b[0m\u001b[0;34m\u001b[0m\u001b[0;34m\u001b[0m\u001b[0m\n",
            "\u001b[0;32m/usr/local/lib/python3.6/dist-packages/tensorflow/python/eager/function.py\u001b[0m in \u001b[0;36mcall\u001b[0;34m(self, ctx, args, cancellation_manager)\u001b[0m\n\u001b[1;32m    558\u001b[0m               \u001b[0minputs\u001b[0m\u001b[0;34m=\u001b[0m\u001b[0margs\u001b[0m\u001b[0;34m,\u001b[0m\u001b[0;34m\u001b[0m\u001b[0;34m\u001b[0m\u001b[0m\n\u001b[1;32m    559\u001b[0m               \u001b[0mattrs\u001b[0m\u001b[0;34m=\u001b[0m\u001b[0mattrs\u001b[0m\u001b[0;34m,\u001b[0m\u001b[0;34m\u001b[0m\u001b[0;34m\u001b[0m\u001b[0m\n\u001b[0;32m--> 560\u001b[0;31m               ctx=ctx)\n\u001b[0m\u001b[1;32m    561\u001b[0m         \u001b[0;32melse\u001b[0m\u001b[0;34m:\u001b[0m\u001b[0;34m\u001b[0m\u001b[0;34m\u001b[0m\u001b[0m\n\u001b[1;32m    562\u001b[0m           outputs = execute.execute_with_cancellation(\n",
            "\u001b[0;32m/usr/local/lib/python3.6/dist-packages/tensorflow/python/eager/execute.py\u001b[0m in \u001b[0;36mquick_execute\u001b[0;34m(op_name, num_outputs, inputs, attrs, ctx, name)\u001b[0m\n\u001b[1;32m     58\u001b[0m     \u001b[0mctx\u001b[0m\u001b[0;34m.\u001b[0m\u001b[0mensure_initialized\u001b[0m\u001b[0;34m(\u001b[0m\u001b[0;34m)\u001b[0m\u001b[0;34m\u001b[0m\u001b[0;34m\u001b[0m\u001b[0m\n\u001b[1;32m     59\u001b[0m     tensors = pywrap_tfe.TFE_Py_Execute(ctx._handle, device_name, op_name,\n\u001b[0;32m---> 60\u001b[0;31m                                         inputs, attrs, num_outputs)\n\u001b[0m\u001b[1;32m     61\u001b[0m   \u001b[0;32mexcept\u001b[0m \u001b[0mcore\u001b[0m\u001b[0;34m.\u001b[0m\u001b[0m_NotOkStatusException\u001b[0m \u001b[0;32mas\u001b[0m \u001b[0me\u001b[0m\u001b[0;34m:\u001b[0m\u001b[0;34m\u001b[0m\u001b[0;34m\u001b[0m\u001b[0m\n\u001b[1;32m     62\u001b[0m     \u001b[0;32mif\u001b[0m \u001b[0mname\u001b[0m \u001b[0;32mis\u001b[0m \u001b[0;32mnot\u001b[0m \u001b[0;32mNone\u001b[0m\u001b[0;34m:\u001b[0m\u001b[0;34m\u001b[0m\u001b[0;34m\u001b[0m\u001b[0m\n",
            "\u001b[0;31mKeyboardInterrupt\u001b[0m: "
          ]
        }
      ]
    },
    {
      "cell_type": "code",
      "metadata": {
        "id": "8ko_0pL36jt9"
      },
      "source": [
        ""
      ],
      "execution_count": 128,
      "outputs": []
    },
    {
      "cell_type": "code",
      "metadata": {
        "colab": {
          "base_uri": "https://localhost:8080/"
        },
        "id": "DFbzhCQH9BIw",
        "outputId": "aebb894a-965d-4360-bc13-91ab73fedf82"
      },
      "source": [
        "Y.shape"
      ],
      "execution_count": 130,
      "outputs": [
        {
          "output_type": "execute_result",
          "data": {
            "text/plain": [
              "(50000, 3)"
            ]
          },
          "metadata": {
            "tags": []
          },
          "execution_count": 130
        }
      ]
    },
    {
      "cell_type": "code",
      "metadata": {
        "id": "a5xf7AcS-iil"
      },
      "source": [
        ""
      ],
      "execution_count": null,
      "outputs": []
    }
  ]
}