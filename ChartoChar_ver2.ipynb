{
  "nbformat": 4,
  "nbformat_minor": 0,
  "metadata": {
    "accelerator": "GPU",
    "colab": {
      "name": "ChartoChar.ipynb",
      "provenance": [],
      "collapsed_sections": [],
      "authorship_tag": "ABX9TyMYYrpkod9SaRxTQ37z8Kx3",
      "include_colab_link": true
    },
    "kernelspec": {
      "display_name": "Python 3",
      "name": "python3"
    }
  },
  "cells": [
    {
      "cell_type": "markdown",
      "metadata": {
        "id": "view-in-github",
        "colab_type": "text"
      },
      "source": [
        "<a href=\"https://colab.research.google.com/github/Goro-python/my_NLP/blob/next_dev/ChartoChar_ver2.ipynb\" target=\"_parent\"><img src=\"https://colab.research.google.com/assets/colab-badge.svg\" alt=\"Open In Colab\"/></a>"
      ]
    },
    {
      "cell_type": "code",
      "metadata": {
        "id": "CqPsNAZCOxA6"
      },
      "source": [
        "# seq to seq model :  English to French Character\r\n"
      ],
      "execution_count": null,
      "outputs": []
    },
    {
      "cell_type": "code",
      "metadata": {
        "colab": {
          "base_uri": "https://localhost:8080/"
        },
        "id": "jnCd2DPjO1Bt",
        "outputId": "2c1f8270-34f2-4e98-fefe-e485f0ea0bf6"
      },
      "source": [
        "!!curl -O http://www.manythings.org/anki/fra-eng.zip\r\n",
        "!!unzip fra-eng.zip"
      ],
      "execution_count": null,
      "outputs": [
        {
          "output_type": "execute_result",
          "data": {
            "text/plain": [
              "['Archive:  fra-eng.zip',\n",
              " '  inflating: _about.txt              ',\n",
              " '  inflating: fra.txt                 ']"
            ]
          },
          "metadata": {
            "tags": []
          },
          "execution_count": 2
        }
      ]
    },
    {
      "cell_type": "code",
      "metadata": {
        "id": "MFSN5q0hO3KO"
      },
      "source": [
        "with open(\"fra.txt\", \"r\", encoding=\"utf-8\") as f:\r\n",
        "  lines = f.read().split(\"\\n\")\r\n",
        "DataSize = 10000"
      ],
      "execution_count": null,
      "outputs": []
    },
    {
      "cell_type": "code",
      "metadata": {
        "colab": {
          "base_uri": "https://localhost:8080/"
        },
        "id": "mFI1Is9cT2gj",
        "outputId": "b3db2813-d7c7-4bfe-99fb-3cd46a6b2e0e"
      },
      "source": [
        "for line in lines[0:2]:\r\n",
        "  print(line)\r\n",
        "  "
      ],
      "execution_count": null,
      "outputs": [
        {
          "output_type": "stream",
          "text": [
            "Go.\tVa !\tCC-BY 2.0 (France) Attribution: tatoeba.org #2877272 (CM) & #1158250 (Wittydev)\n",
            "Hi.\tSalut !\tCC-BY 2.0 (France) Attribution: tatoeba.org #538123 (CM) & #509819 (Aiji)\n"
          ],
          "name": "stdout"
        }
      ]
    },
    {
      "cell_type": "code",
      "metadata": {
        "colab": {
          "base_uri": "https://localhost:8080/",
          "height": 86
        },
        "id": "yHwGRv_OO7c0",
        "outputId": "290b0291-c091-468c-ad7d-b500cc6c900d"
      },
      "source": [
        "import numpy as np\r\n",
        "np.random.seed(1)\r\n",
        "batch_size = 64 \r\n",
        "epochs = 100  \r\n",
        "latent_dim = 256  \r\n",
        "trainSize =  10000\r\n",
        "valSize   =  1000\r\n",
        "testSize  =  1000\r\n",
        "\r\n",
        "engSent = []\r\n",
        "frenSent = []\r\n",
        "\r\n",
        "for line in lines[:DataSize+1]:\r\n",
        "  english,french,_= line.split(\"\\t\")\r\n",
        "  engSent.append(english)\r\n",
        "  frenSent.append(\"\\t\" + french + \"\\n\")   # extra appended\r\n",
        "\r\n",
        "print(\"Number of English Sentence: \",len(engSent))\r\n",
        "print(\"Number of French Senttence: \",len(frenSent))\r\n",
        "\r\n",
        "trainIndexes = np.random.randint(DataSize, size=(trainSize))\r\n",
        "valIndexes =   np.random.randint(DataSize, size=(valSize))\r\n",
        "testIndexes =    np.random.randint(DataSize, size=(testSize))\r\n",
        "#index = np.random.randint(0,trainSamples)\r\n",
        "\r\n",
        "def setData(indexes):\r\n",
        "  X = []\r\n",
        "  Y = []\r\n",
        "  for ind in indexes:\r\n",
        "    X.append(engSent[ind])\r\n",
        "    Y.append(frenSent[ind])\r\n",
        "  return [X,Y]\r\n",
        "\r\n",
        "Xtrain, Ytrain =  setData(trainIndexes)\r\n",
        "Xval,Yval =       setData(valIndexes)      \r\n",
        "Xtest, Ytest =    setData(testIndexes)\r\n",
        "\r\n",
        "\r\n",
        "ind = np.random.randint(trainSize-1)\r\n",
        "print(ind)\r\n",
        "Xtrain[ind]\r\n",
        "Ytrain[ind]\r\n"
      ],
      "execution_count": null,
      "outputs": [
        {
          "output_type": "stream",
          "text": [
            "Number of English Sentence:  10001\n",
            "Number of French Senttence:  10001\n",
            "8267\n"
          ],
          "name": "stdout"
        },
        {
          "output_type": "execute_result",
          "data": {
            "application/vnd.google.colaboratory.intrinsic+json": {
              "type": "string"
            },
            "text/plain": [
              "'\\tAttends un peu.\\n'"
            ]
          },
          "metadata": {
            "tags": []
          },
          "execution_count": 5
        }
      ]
    },
    {
      "cell_type": "code",
      "metadata": {
        "id": "ZB0UbBvegaTn"
      },
      "source": [
        ""
      ],
      "execution_count": null,
      "outputs": []
    },
    {
      "cell_type": "code",
      "metadata": {
        "colab": {
          "base_uri": "https://localhost:8080/",
          "height": 35
        },
        "id": "n4WiRertg2Fy",
        "outputId": "1881fa5a-437a-4e47-a563-e5f33b551877"
      },
      "source": [
        "\"\\t\" + frenSent[1] + \"\\n\""
      ],
      "execution_count": null,
      "outputs": [
        {
          "output_type": "execute_result",
          "data": {
            "application/vnd.google.colaboratory.intrinsic+json": {
              "type": "string"
            },
            "text/plain": [
              "'\\t\\tSalut !\\n\\n'"
            ]
          },
          "metadata": {
            "tags": []
          },
          "execution_count": 6
        }
      ]
    },
    {
      "cell_type": "code",
      "metadata": {
        "id": "H2a2QOOWPWaf"
      },
      "source": [
        "from collections import defaultdict\r\n",
        "class convTable(object):\r\n",
        "  def __init__(self,engSent,frenSent):\r\n",
        "    self.engSent = engSent\r\n",
        "    self.frenSent = frenSent\r\n",
        "    self.engDict   =   defaultdict(int) \r\n",
        "    self.engRevDict =  defaultdict(str)\r\n",
        "    self.frenDict  =   defaultdict(int)\r\n",
        "    self.frenRevDict = defaultdict(str)\r\n",
        "    self.maxEngSent =  0\r\n",
        "    self.maxFrenSent = 0\r\n",
        "\r\n",
        "  def createEngDict(self):\r\n",
        "    _dict = set();\r\n",
        "    for sent in self.engSent:\r\n",
        "      for ch in sent:\r\n",
        "        _dict.add(ch)\r\n",
        "    _dict = sorted(list(_dict))\r\n",
        "    print(_dict)\r\n",
        "    for i,ch in enumerate(_dict):\r\n",
        "      self.engDict[ch] = i\r\n",
        "      self.engRevDict[i] = ch\r\n",
        "    print(self.engDict)\r\n",
        "\r\n",
        "  def createFrenDict(self):\r\n",
        "    _dict = set();\r\n",
        "    for sent in self.frenSent:\r\n",
        "      for ch in sent:\r\n",
        "        _dict.add(ch)\r\n",
        "    _dict = sorted(list(_dict))\r\n",
        "    for i,ch in enumerate(_dict):\r\n",
        "      self.frenDict[ch] = i\r\n",
        "      self.frenRevDict[i] = ch\r\n",
        "\r\n",
        "  def findMaxEngLength(self):\r\n",
        "    for sent in self.engSent:\r\n",
        "      self.maxEngSent= max(self.maxEngSent,len(sent)) \r\n",
        "\r\n",
        "  def findMaxFrenLength(self):\r\n",
        "    self.maxFrenSent = max(len(sent) for  sent in self.frenSent)\r\n",
        "\r\n",
        "      \r\n",
        "\r\n",
        "  def convertExptoArr(self,sentence,langFlag):\r\n",
        "      # langFlag = 1 for English, 0 for french\r\n",
        "      if langFlag:\r\n",
        "        X = np.zeros((self.maxEngSent,len(self.engDict)))\r\n",
        "        for i,ch in enumerate(sentence):\r\n",
        "          X[i,self.engDict[ch]] = 1\r\n",
        "        X[i+1:,self.engDict[\" \"]] = 1\r\n",
        "        return X\r\n",
        "      else:\r\n",
        "        X = np.zeros((self.maxFrenSent,len(self.frenDict)))\r\n",
        "        for i,ch in enumerate(sentence):\r\n",
        "          X[i,self.frenDict[ch]] = 1\r\n",
        "        X[i+1:,self.frenDict[\" \"]] = 1\r\n",
        "        return X\r\n",
        "\r\n",
        "\r\n",
        "  def convertArrtoExp(self,Arr,langFlag):\r\n",
        "    exp = \"\"\r\n",
        "    if langFlag:\r\n",
        "      maxArr = np.argmax(Arr,axis = 1)\r\n",
        "      maxArr=maxArr.flatten()\r\n",
        "      for index in maxArr:      \r\n",
        "        exp+=self.engRevDict[index]\r\n",
        "      return exp\r\n",
        "    else:\r\n",
        "      maxArr = np.argmax(Arr,axis = 1)\r\n",
        "      maxArr=maxArr.flatten()\r\n",
        "      for index in maxArr:      \r\n",
        "        exp+=self.frenRevDict[index]\r\n",
        "      return exp\r\n",
        "\r\n",
        "\r\n",
        "\r\n",
        "\r\n",
        "\r\n",
        "\r\n",
        "\r\n",
        "    \r\n"
      ],
      "execution_count": null,
      "outputs": []
    },
    {
      "cell_type": "code",
      "metadata": {
        "colab": {
          "base_uri": "https://localhost:8080/"
        },
        "id": "lcbrHbRKPwZc",
        "outputId": "a08779cd-b5e1-4799-94b4-36b5aac52d92"
      },
      "source": [
        "ct = convTable(engSent,frenSent)\r\n",
        "ct.createEngDict()\r\n",
        "ct.createFrenDict()\r\n",
        "ct.findMaxEngLength()\r\n",
        "ct.findMaxFrenLength()"
      ],
      "execution_count": null,
      "outputs": [
        {
          "output_type": "stream",
          "text": [
            "[' ', '!', '$', '%', '&', \"'\", ',', '-', '.', '0', '1', '2', '3', '5', '6', '7', '8', '9', ':', '?', 'A', 'B', 'C', 'D', 'E', 'F', 'G', 'H', 'I', 'J', 'K', 'L', 'M', 'N', 'O', 'P', 'Q', 'R', 'S', 'T', 'U', 'V', 'W', 'Y', 'a', 'b', 'c', 'd', 'e', 'f', 'g', 'h', 'i', 'j', 'k', 'l', 'm', 'n', 'o', 'p', 'q', 'r', 's', 't', 'u', 'v', 'w', 'x', 'y', 'z', 'é']\n",
            "defaultdict(<class 'int'>, {' ': 0, '!': 1, '$': 2, '%': 3, '&': 4, \"'\": 5, ',': 6, '-': 7, '.': 8, '0': 9, '1': 10, '2': 11, '3': 12, '5': 13, '6': 14, '7': 15, '8': 16, '9': 17, ':': 18, '?': 19, 'A': 20, 'B': 21, 'C': 22, 'D': 23, 'E': 24, 'F': 25, 'G': 26, 'H': 27, 'I': 28, 'J': 29, 'K': 30, 'L': 31, 'M': 32, 'N': 33, 'O': 34, 'P': 35, 'Q': 36, 'R': 37, 'S': 38, 'T': 39, 'U': 40, 'V': 41, 'W': 42, 'Y': 43, 'a': 44, 'b': 45, 'c': 46, 'd': 47, 'e': 48, 'f': 49, 'g': 50, 'h': 51, 'i': 52, 'j': 53, 'k': 54, 'l': 55, 'm': 56, 'n': 57, 'o': 58, 'p': 59, 'q': 60, 'r': 61, 's': 62, 't': 63, 'u': 64, 'v': 65, 'w': 66, 'x': 67, 'y': 68, 'z': 69, 'é': 70})\n"
          ],
          "name": "stdout"
        }
      ]
    },
    {
      "cell_type": "code",
      "metadata": {
        "colab": {
          "base_uri": "https://localhost:8080/"
        },
        "id": "DGd2ZWoNfmgW",
        "outputId": "e5ffd708-ed00-4098-d68c-0c4d069631ca"
      },
      "source": [
        "ct.maxEngSent"
      ],
      "execution_count": null,
      "outputs": [
        {
          "output_type": "execute_result",
          "data": {
            "text/plain": [
              "15"
            ]
          },
          "metadata": {
            "tags": []
          },
          "execution_count": 9
        }
      ]
    },
    {
      "cell_type": "code",
      "metadata": {
        "id": "o0TWSuCODLNv"
      },
      "source": [
        "Ytemp = ct.convertExptoArr(Ytrain[0],0)"
      ],
      "execution_count": null,
      "outputs": []
    },
    {
      "cell_type": "code",
      "metadata": {
        "colab": {
          "base_uri": "https://localhost:8080/"
        },
        "id": "eo5JnK_CsFvk",
        "outputId": "5c435b3e-3fce-4dc9-d07f-c0f1560674ae"
      },
      "source": [
        "Ytemp.shape"
      ],
      "execution_count": null,
      "outputs": [
        {
          "output_type": "execute_result",
          "data": {
            "text/plain": [
              "(59, 94)"
            ]
          },
          "metadata": {
            "tags": []
          },
          "execution_count": 11
        }
      ]
    },
    {
      "cell_type": "code",
      "metadata": {
        "colab": {
          "base_uri": "https://localhost:8080/",
          "height": 35
        },
        "id": "E9CB4fn_sdWj",
        "outputId": "d3ca936a-1a76-4195-b898-6417642fe1b3"
      },
      "source": [
        "ct.convertArrtoExp(Ytemp,0)"
      ],
      "execution_count": null,
      "outputs": [
        {
          "output_type": "execute_result",
          "data": {
            "application/vnd.google.colaboratory.intrinsic+json": {
              "type": "string"
            },
            "text/plain": [
              "'\\tÀ plus tard !\\n                                            '"
            ]
          },
          "metadata": {
            "tags": []
          },
          "execution_count": 12
        }
      ]
    },
    {
      "cell_type": "code",
      "metadata": {
        "id": "sOQGAjO4jszm"
      },
      "source": [
        "def createData(X,Y):\r\n",
        "  XData = []\r\n",
        "  YData = []\r\n",
        "  for i in range(len(X)):\r\n",
        "    XData.append(list(ct.convertExptoArr(X[i],1)))\r\n",
        "    YData.append(list(ct.convertExptoArr(Y[i],0)))\r\n",
        "  return [np.array(XData),np.array(YData)]\r\n",
        "\r\n",
        "\r\n",
        "Xtr, Ytr =  createData(Xtrain,Ytrain)\r\n",
        "#Xv, Yv =    createData(Xval,Yval)\r\n",
        "#Xtst,Ytst = createData(Xtest,Ytest)\r\n",
        "\r\n",
        "\r\n",
        "\r\n",
        "\r\n",
        "\r\n",
        "  "
      ],
      "execution_count": null,
      "outputs": []
    },
    {
      "cell_type": "code",
      "metadata": {
        "colab": {
          "base_uri": "https://localhost:8080/"
        },
        "id": "hemEmiFefyTA",
        "outputId": "b981d391-bd05-49f2-b36d-468843ae3c2e"
      },
      "source": [
        "Ytr"
      ],
      "execution_count": null,
      "outputs": [
        {
          "output_type": "execute_result",
          "data": {
            "text/plain": [
              "array([[[1., 0., 0., ..., 0., 0., 0.],\n",
              "        [0., 0., 0., ..., 0., 0., 0.],\n",
              "        [0., 0., 1., ..., 0., 0., 0.],\n",
              "        ...,\n",
              "        [0., 0., 1., ..., 0., 0., 0.],\n",
              "        [0., 0., 1., ..., 0., 0., 0.],\n",
              "        [0., 0., 1., ..., 0., 0., 0.]],\n",
              "\n",
              "       [[1., 0., 0., ..., 0., 0., 0.],\n",
              "        [0., 0., 0., ..., 0., 0., 0.],\n",
              "        [0., 0., 0., ..., 0., 0., 0.],\n",
              "        ...,\n",
              "        [0., 0., 1., ..., 0., 0., 0.],\n",
              "        [0., 0., 1., ..., 0., 0., 0.],\n",
              "        [0., 0., 1., ..., 0., 0., 0.]],\n",
              "\n",
              "       [[1., 0., 0., ..., 0., 0., 0.],\n",
              "        [0., 0., 0., ..., 0., 0., 0.],\n",
              "        [0., 0., 0., ..., 0., 0., 0.],\n",
              "        ...,\n",
              "        [0., 0., 1., ..., 0., 0., 0.],\n",
              "        [0., 0., 1., ..., 0., 0., 0.],\n",
              "        [0., 0., 1., ..., 0., 0., 0.]],\n",
              "\n",
              "       ...,\n",
              "\n",
              "       [[1., 0., 0., ..., 0., 0., 0.],\n",
              "        [0., 0., 0., ..., 0., 0., 0.],\n",
              "        [0., 0., 0., ..., 0., 0., 0.],\n",
              "        ...,\n",
              "        [0., 0., 1., ..., 0., 0., 0.],\n",
              "        [0., 0., 1., ..., 0., 0., 0.],\n",
              "        [0., 0., 1., ..., 0., 0., 0.]],\n",
              "\n",
              "       [[1., 0., 0., ..., 0., 0., 0.],\n",
              "        [0., 0., 0., ..., 0., 0., 0.],\n",
              "        [0., 0., 0., ..., 0., 0., 0.],\n",
              "        ...,\n",
              "        [0., 0., 1., ..., 0., 0., 0.],\n",
              "        [0., 0., 1., ..., 0., 0., 0.],\n",
              "        [0., 0., 1., ..., 0., 0., 0.]],\n",
              "\n",
              "       [[1., 0., 0., ..., 0., 0., 0.],\n",
              "        [0., 0., 0., ..., 0., 0., 0.],\n",
              "        [0., 0., 0., ..., 0., 0., 0.],\n",
              "        ...,\n",
              "        [0., 0., 1., ..., 0., 0., 0.],\n",
              "        [0., 0., 1., ..., 0., 0., 0.],\n",
              "        [0., 0., 1., ..., 0., 0., 0.]]])"
            ]
          },
          "metadata": {
            "tags": []
          },
          "execution_count": 14
        }
      ]
    },
    {
      "cell_type": "code",
      "metadata": {
        "id": "mW6mIeqbPSsZ"
      },
      "source": [
        "def decoderTarget(Y):\r\n",
        "  x,y,z = Y.shape\r\n",
        "  decoderTarget = np.zeros((x,y,z))\r\n",
        "  for i in range(x):\r\n",
        "    decoderTarget[i,0:y-1,:] = Y[i,1:,:]\r\n",
        "    temp = np.zeros((1,z))\r\n",
        "    temp[0,ct.frenDict[\" \"]] = 1\r\n",
        "    decoderTarget[i,-1,:] = temp\r\n",
        "  return decoderTarget"
      ],
      "execution_count": null,
      "outputs": []
    },
    {
      "cell_type": "code",
      "metadata": {
        "id": "Wf7ICLHJkE7I"
      },
      "source": [
        "Ytarget = decoderTarget(Ytr)\r\n",
        "Yinput = Ytr\r\n",
        "Xinput = Xtr"
      ],
      "execution_count": null,
      "outputs": []
    },
    {
      "cell_type": "code",
      "metadata": {
        "colab": {
          "base_uri": "https://localhost:8080/"
        },
        "id": "zekjByn8vfHY",
        "outputId": "f77a3946-1ddf-450b-dd25-ce7d6086bd61"
      },
      "source": [
        "Ytarget.shape"
      ],
      "execution_count": null,
      "outputs": [
        {
          "output_type": "execute_result",
          "data": {
            "text/plain": [
              "(10000, 59, 94)"
            ]
          },
          "metadata": {
            "tags": []
          },
          "execution_count": 17
        }
      ]
    },
    {
      "cell_type": "code",
      "metadata": {
        "colab": {
          "base_uri": "https://localhost:8080/",
          "height": 35
        },
        "id": "E1SH8mMQlDSZ",
        "outputId": "5693ef1e-1892-4762-8067-98756234d800"
      },
      "source": [
        "ct.convertArrtoExp(Ytarget[1],0)"
      ],
      "execution_count": null,
      "outputs": [
        {
          "output_type": "execute_result",
          "data": {
            "application/vnd.google.colaboratory.intrinsic+json": {
              "type": "string"
            },
            "text/plain": [
              "'Tu es folle\\u202f?\\n                                             '"
            ]
          },
          "metadata": {
            "tags": []
          },
          "execution_count": 18
        }
      ]
    },
    {
      "cell_type": "code",
      "metadata": {
        "colab": {
          "base_uri": "https://localhost:8080/",
          "height": 35
        },
        "id": "RuzbFGNNs8IU",
        "outputId": "db0df7c4-82a8-4003-f879-aab17ab9079b"
      },
      "source": [
        "Ytrain[0]"
      ],
      "execution_count": null,
      "outputs": [
        {
          "output_type": "execute_result",
          "data": {
            "application/vnd.google.colaboratory.intrinsic+json": {
              "type": "string"
            },
            "text/plain": [
              "'\\tÀ plus tard !\\n'"
            ]
          },
          "metadata": {
            "tags": []
          },
          "execution_count": 19
        }
      ]
    },
    {
      "cell_type": "code",
      "metadata": {
        "colab": {
          "base_uri": "https://localhost:8080/"
        },
        "id": "atYMjDIPEb6p",
        "outputId": "78798824-c67d-4f23-8fe1-9f480d249cb7"
      },
      "source": [
        "ct.maxFrenSent"
      ],
      "execution_count": null,
      "outputs": [
        {
          "output_type": "execute_result",
          "data": {
            "text/plain": [
              "59"
            ]
          },
          "metadata": {
            "tags": []
          },
          "execution_count": 20
        }
      ]
    },
    {
      "cell_type": "code",
      "metadata": {
        "id": "9woU4LLmJ0yC"
      },
      "source": [
        "import tensorflow as tf\r\n",
        "from tensorflow import keras\r\n",
        "\r\n",
        "class EngtoFrenchModel(object):\r\n",
        "\r\n",
        "  def __init__(self):\r\n",
        "    self.EngtoFrench = None\r\n",
        "    self.num_encoder_tokens = len(ct.engDict)\r\n",
        "    self.num_decoder_tokens = len(ct.frenDict)\r\n",
        "\r\n",
        "  def createModel(self):\r\n",
        "    # Define an input sequence and process it.\r\n",
        "    encoder_inputs = keras.Input(shape=(None, num_encoder_tokens))\r\n",
        "    encoder = keras.layers.LSTM(latent_dim, return_state=True)\r\n",
        "    encoder_outputs, state_h, state_c = encoder(encoder_inputs)\r\n",
        "\r\n",
        "    # We discard `encoder_outputs` and only keep the states.\r\n",
        "    encoder_states = [state_h, state_c]\r\n",
        "\r\n",
        "    # Set up the decoder, using `encoder_states` as initial state.\r\n",
        "    decoder_inputs = keras.Input(shape=(None, num_decoder_tokens))\r\n",
        "\r\n",
        "    # We set up our decoder to return full output sequences,\r\n",
        "    # and to return internal states as well. We don't use the\r\n",
        "    # return states in the training model, but we will use them in inference.\r\n",
        "    decoder_lstm = keras.layers.LSTM(latent_dim, return_sequences=True, return_state=True)\r\n",
        "    decoder_outputs, _, _ = decoder_lstm(decoder_inputs, initial_state=encoder_states)\r\n",
        "    decoder_dense = keras.layers.Dense(num_decoder_tokens, activation=\"softmax\")\r\n",
        "    decoder_outputs = decoder_dense(decoder_outputs)\r\n",
        "\r\n",
        "    # Define the model that will turn\r\n",
        "    # `encoder_input_data` & `decoder_input_data` into `decoder_target_data`\r\n",
        "    model = keras.Model([encoder_inputs, decoder_inputs], decoder_outputs)\r\n",
        "    self.EngtoFrench = model\r\n",
        "    self.EngtoFrench.summary()\r\n",
        "    keras.utils.plot_model(model, show_shapes=True)\r\n",
        "    \r\n",
        "\r\n",
        "  def trainModel(self,Xinput,Yinput,Ytarget):\r\n",
        "    self.EngtoFrench.compile(\r\n",
        "    optimizer=\"adam\", loss=\"categorical_crossentropy\", metrics=[\"accuracy\"]\r\n",
        "    )\r\n",
        "    self.EngtoFrench.fit([Xinput, Yinput],Ytarget,batch_size=batch_size,epochs=5,validation_split = 0.05) \r\n",
        "    # Save model\r\n",
        "    self.EngtoFrench.save(\"s2s\")\r\n",
        "\r\n",
        "  def modelInference(self):\r\n",
        "    pass\r\n",
        "\r\n",
        "\r\n",
        "\r\n",
        "\r\n",
        "\r\n"
      ],
      "execution_count": null,
      "outputs": []
    },
    {
      "cell_type": "code",
      "metadata": {
        "colab": {
          "base_uri": "https://localhost:8080/"
        },
        "id": "qS2ShHRtKBaL",
        "outputId": "1e56e4c3-67a8-4761-cd68-d724c10d7066"
      },
      "source": [
        ""
      ],
      "execution_count": 28,
      "outputs": [
        {
          "output_type": "stream",
          "text": [
            "Epoch 1/5\n",
            "149/149 [==============================] - 4s 26ms/step - loss: 0.0311 - accuracy: 0.9900 - val_loss: 0.2339 - val_accuracy: 0.9568\n",
            "Epoch 2/5\n",
            "149/149 [==============================] - 4s 25ms/step - loss: 0.0287 - accuracy: 0.9909 - val_loss: 0.2357 - val_accuracy: 0.9565\n",
            "Epoch 3/5\n",
            "149/149 [==============================] - 4s 26ms/step - loss: 0.0285 - accuracy: 0.9909 - val_loss: 0.2387 - val_accuracy: 0.9564\n",
            "Epoch 4/5\n",
            "149/149 [==============================] - 4s 26ms/step - loss: 0.0284 - accuracy: 0.9911 - val_loss: 0.2382 - val_accuracy: 0.9567\n",
            "Epoch 5/5\n",
            "149/149 [==============================] - 4s 26ms/step - loss: 0.0289 - accuracy: 0.9907 - val_loss: 0.2389 - val_accuracy: 0.9566\n",
            "INFO:tensorflow:Assets written to: s2s/assets\n"
          ],
          "name": "stdout"
        }
      ]
    },
    {
      "cell_type": "code",
      "metadata": {
        "colab": {
          "base_uri": "https://localhost:8080/"
        },
        "id": "L3c5p_2GLjGd",
        "outputId": "40c25782-115f-4160-e9e2-6c5b7721e520"
      },
      "source": [
        "model.summary()"
      ],
      "execution_count": 25,
      "outputs": [
        {
          "output_type": "stream",
          "text": [
            "Model: \"functional_1\"\n",
            "__________________________________________________________________________________________________\n",
            "Layer (type)                    Output Shape         Param #     Connected to                     \n",
            "==================================================================================================\n",
            "input_1 (InputLayer)            [(None, None, 71)]   0                                            \n",
            "__________________________________________________________________________________________________\n",
            "input_2 (InputLayer)            [(None, None, 94)]   0                                            \n",
            "__________________________________________________________________________________________________\n",
            "lstm (LSTM)                     [(None, 256), (None, 335872      input_1[0][0]                    \n",
            "__________________________________________________________________________________________________\n",
            "lstm_1 (LSTM)                   [(None, None, 256),  359424      input_2[0][0]                    \n",
            "                                                                 lstm[0][1]                       \n",
            "                                                                 lstm[0][2]                       \n",
            "__________________________________________________________________________________________________\n",
            "dense (Dense)                   (None, None, 94)     24158       lstm_1[0][0]                     \n",
            "==================================================================================================\n",
            "Total params: 719,454\n",
            "Trainable params: 719,454\n",
            "Non-trainable params: 0\n",
            "__________________________________________________________________________________________________\n"
          ],
          "name": "stdout"
        }
      ]
    },
    {
      "cell_type": "code",
      "metadata": {
        "colab": {
          "base_uri": "https://localhost:8080/",
          "height": 422
        },
        "id": "n-Hafn95QuB7",
        "outputId": "861cd662-ce34-4bb0-ab99-8570ee2ad30f"
      },
      "source": [
        ""
      ],
      "execution_count": 26,
      "outputs": [
        {
          "output_type": "execute_result",
          "data": {
            "image/png": "[encoded data removed]",
            "text/plain": [
              "<IPython.core.display.Image object>"
            ]
          },
          "metadata": {
            "tags": []
          },
          "execution_count": 26
        }
      ]
    },
    {
      "cell_type": "code",
      "metadata": {
        "colab": {
          "background_save": true
        },
        "id": "IvELzNmAQ1nH"
      },
      "source": [
        ""
      ],
      "execution_count": null,
      "outputs": []
    },
    {
      "cell_type": "code",
      "metadata": {
        "colab": {
          "background_save": true
        },
        "id": "4pXTmzJtQ_kW"
      },
      "source": [
        ""
      ],
      "execution_count": null,
      "outputs": []
    }
  ]
}